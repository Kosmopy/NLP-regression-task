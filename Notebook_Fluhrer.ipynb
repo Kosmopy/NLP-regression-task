{
 "cells": [
  {
   "cell_type": "markdown",
   "metadata": {
    "colab_type": "text",
    "id": "cwRUItAeMxaA"
   },
   "source": [
    "# **Assignment in Advanced Data Analysis for Management Support Summer 2020**\n",
    "\n",
    "**Author: Svenja Fluhrer**"
   ]
  },
  {
   "cell_type": "markdown",
   "metadata": {
    "colab_type": "text",
    "id": "Hx3lINm90RqD"
   },
   "source": [
    "**Introduction**\n",
    "\n",
    "Data science enables us to extract knowledge and insights from  different types of data. Given the increase in textual data which is available on the internet/social media and the possibility to scrap those data resources, Natural Language Processing (NLP) is a growing field in data science. NLP allows us to use features from text and word embeddings in our computations and algorithms.\n",
    "The database for this regression task are blog articles which were posted on medium.com, a widely used platform for data science knowledge exchange. In this notebook, we will utilize text data and provided and generated meta data to predict the number of *Claps* (equivalent to *Likes*) an article receives. To solve this regression task we will (1) preprocess the data, both, the text and the meta data, (2) extract some additional features from the data, including features that require some more elaborated approaches, for instance topic modeling, (3) apply GloVe embeddings to our text data and, eventually, train neural networks. Our first neural network will be only trained beased on the non-text features and our final model will have mixed inputs, including the word embedding. With our final model we will (4) make predictions of the number of Claps the articles in our test set receive. Eventually, we will (5) conclude and summarize our learnings.\n",
    "\n",
    "**Figure 1: Workflow**\n",
    "\n",
    "![alt text](https://drive.google.com/uc?export=view&id=1K39gos5xzHoD824HWbpkTdy_0fM9cn0F)\n",
    "\n",
    "**Table of Contents**\n",
    "\n",
    "1. Text Cleaning and Preprocessing\n",
    "2. Feature Engineering\n",
    "\n",
    "  2.1 Meta features\n",
    "\n",
    "  2.2 Dictionary based Sentiment Analyser\n",
    "\n",
    "  2.3 Bag of Words based features\n",
    "\n",
    "  2.4 Topic modeling with Word2Vec\n",
    "\n",
    "3. Neural Network Modeling\n",
    "\n",
    "  3.1 Basic model\n",
    "\n",
    "  3.2 Mixed input model\n",
    "\n",
    "4. Predictions\n",
    "\n",
    "  4.1 Preparation of prediction dataset\n",
    "\n",
    "  4.2 Prediction and submission preparation\n",
    "\n",
    "5. Conclusion\n",
    "\n",
    "References\n",
    "\n",
    "Appendix\n"
   ]
  },
  {
   "cell_type": "markdown",
   "metadata": {
    "colab_type": "text",
    "id": "_c71Zfbps2an"
   },
   "source": [
    "# 1. Text Cleaning and Preprocessing"
   ]
  },
  {
   "cell_type": "code",
   "execution_count": 1,
   "metadata": {
    "colab": {
     "base_uri": "https://localhost:8080/",
     "height": 224
    },
    "colab_type": "code",
    "id": "Ax_-rMgTWHBJ",
    "outputId": "0bf3521b-0658-48a5-b2af-085925e94149"
   },
   "outputs": [
    {
     "name": "stderr",
     "output_type": "stream",
     "text": [
      "/usr/local/lib/python3.6/dist-packages/statsmodels/tools/_testing.py:19: FutureWarning: pandas.util.testing is deprecated. Use the functions in the public API at pandas.testing instead.\n",
      "  import pandas.util.testing as tm\n"
     ]
    },
    {
     "name": "stdout",
     "output_type": "stream",
     "text": [
      "[nltk_data] Downloading package punkt to /root/nltk_data...\n",
      "[nltk_data]   Unzipping tokenizers/punkt.zip.\n",
      "[nltk_data] Downloading package wordnet to /root/nltk_data...\n",
      "[nltk_data]   Unzipping corpora/wordnet.zip.\n",
      "[nltk_data] Downloading package punkt to /root/nltk_data...\n",
      "[nltk_data]   Package punkt is already up-to-date!\n",
      "[nltk_data] Downloading package stopwords to /root/nltk_data...\n",
      "[nltk_data]   Unzipping corpora/stopwords.zip.\n"
     ]
    }
   ],
   "source": [
    "# Import standard libraries\n",
    "import pandas as pd\n",
    "import numpy as np\n",
    "import os\n",
    "import seaborn as sns\n",
    "import matplotlib.pyplot as plt\n",
    "%matplotlib inline\n",
    "import string\n",
    "\n",
    "#NLP\n",
    "import nltk\n",
    "import re\n",
    "from nltk.tokenize import word_tokenize\n",
    "from nltk.corpus import stopwords\n",
    "from nltk.stem import WordNetLemmatizer\n",
    "from nltk.corpus import wordnet\n",
    "import spacy\n",
    "from bs4 import BeautifulSoup # Library beatifulsoup4 handles html\n",
    "from nltk.corpus import stopwords\n",
    "\n",
    "nltk.download('punkt')\n",
    "nltk.download('wordnet')\n",
    "nltk.download('punkt')\n",
    "nltk.download('stopwords')\n",
    "\n",
    "# Saving and loaded objects\n",
    "import pickle\n",
    "\n",
    "#VON HIER AN NOCH ÜBERSCHRIFTEN UND MODULE ZUORDNEN\n",
    "# Load/save data from/to disk \n",
    "#import pickle\n",
    "\n",
    "\n",
    "\n",
    "\n",
    "#NN\n",
    "from keras.models import Model\n",
    "from keras.layers import Dense, Embedding, Input\n",
    "from keras.layers import Conv1D, GlobalMaxPool1D, Dropout, concatenate\n",
    "from keras.preprocessing import text, sequence\n",
    "from keras.callbacks import EarlyStopping, ModelCheckpoint\n",
    "from sklearn.model_selection import train_test_split\n",
    "from sklearn.feature_extraction.text import CountVectorizer\n",
    "\n",
    "\n"
   ]
  },
  {
   "cell_type": "code",
   "execution_count": 2,
   "metadata": {
    "colab": {
     "base_uri": "https://localhost:8080/",
     "height": 131
    },
    "colab_type": "code",
    "id": "5efJ0P7wWQH5",
    "outputId": "fef0852f-adc3-4185-84ad-6369a5452dca"
   },
   "outputs": [
    {
     "name": "stdout",
     "output_type": "stream",
     "text": [
      "Go to this URL in a browser: https://accounts.google.com/o/oauth2/auth?client_id=947318989803-6bn6qk8qdgf4n4g3pfee6491hc0brc4i.apps.googleusercontent.com&redirect_uri=urn%3aietf%3awg%3aoauth%3a2.0%3aoob&scope=email%20https%3a%2f%2fwww.googleapis.com%2fauth%2fdocs.test%20https%3a%2f%2fwww.googleapis.com%2fauth%2fdrive%20https%3a%2f%2fwww.googleapis.com%2fauth%2fdrive.photos.readonly%20https%3a%2f%2fwww.googleapis.com%2fauth%2fpeopleapi.readonly&response_type=code\n",
      "\n",
      "Enter your authorization code:\n",
      "··········\n",
      "Mounted at /content/drive\n"
     ]
    }
   ],
   "source": [
    "from google.colab import drive\n",
    "drive.mount('/content/drive')\n",
    "path=\"/content/drive/My Drive/ADAMS_NLPtask_SS20/ADAMS_NLPtask_SS20/\""
   ]
  },
  {
   "cell_type": "code",
   "execution_count": 162,
   "metadata": {
    "colab": {},
    "colab_type": "code",
    "id": "14XUxNx0vzXL"
   },
   "outputs": [],
   "source": [
    "# load data training set\n",
    "df = pd.read_csv(path + \"Train.csv\")\n",
    "# load data test/prediction set\n",
    "df_test = pd.read_csv(path + \"Test.csv\")"
   ]
  },
  {
   "cell_type": "code",
   "execution_count": 6,
   "metadata": {
    "colab": {
     "base_uri": "https://localhost:8080/",
     "height": 538
    },
    "colab_type": "code",
    "id": "6f0hB7jTLLm5",
    "outputId": "9e0fc90f-0865-4e8c-c5ed-91534d75de7c"
   },
   "outputs": [
    {
     "data": {
      "text/html": [
       "<div>\n",
       "<style scoped>\n",
       "    .dataframe tbody tr th:only-of-type {\n",
       "        vertical-align: middle;\n",
       "    }\n",
       "\n",
       "    .dataframe tbody tr th {\n",
       "        vertical-align: top;\n",
       "    }\n",
       "\n",
       "    .dataframe thead th {\n",
       "        text-align: right;\n",
       "    }\n",
       "</style>\n",
       "<table border=\"1\" class=\"dataframe\">\n",
       "  <thead>\n",
       "    <tr style=\"text-align: right;\">\n",
       "      <th></th>\n",
       "      <th>audioVersionDurationSec</th>\n",
       "      <th>codeBlock</th>\n",
       "      <th>codeBlockCount</th>\n",
       "      <th>collectionId</th>\n",
       "      <th>createdDate</th>\n",
       "      <th>createdDatetime</th>\n",
       "      <th>firstPublishedDate</th>\n",
       "      <th>firstPublishedDatetime</th>\n",
       "      <th>imageCount</th>\n",
       "      <th>isSubscriptionLocked</th>\n",
       "      <th>language</th>\n",
       "      <th>latestPublishedDate</th>\n",
       "      <th>latestPublishedDatetime</th>\n",
       "      <th>linksCount</th>\n",
       "      <th>postId</th>\n",
       "      <th>readingTime</th>\n",
       "      <th>recommends</th>\n",
       "      <th>responsesCreatedCount</th>\n",
       "      <th>socialRecommendsCount</th>\n",
       "      <th>subTitle</th>\n",
       "      <th>tagsCount</th>\n",
       "      <th>text</th>\n",
       "      <th>title</th>\n",
       "      <th>totalClapCount</th>\n",
       "      <th>uniqueSlug</th>\n",
       "      <th>updatedDate</th>\n",
       "      <th>updatedDatetime</th>\n",
       "      <th>url</th>\n",
       "      <th>vote</th>\n",
       "      <th>wordCount</th>\n",
       "      <th>publicationdescription</th>\n",
       "      <th>publicationdomain</th>\n",
       "      <th>publicationfacebookPageName</th>\n",
       "      <th>publicationfollowerCount</th>\n",
       "      <th>publicationname</th>\n",
       "      <th>publicationpublicEmail</th>\n",
       "      <th>publicationslug</th>\n",
       "      <th>publicationtags</th>\n",
       "      <th>publicationtwitterUsername</th>\n",
       "      <th>tag_name</th>\n",
       "      <th>slug</th>\n",
       "      <th>name</th>\n",
       "      <th>postCount</th>\n",
       "      <th>author</th>\n",
       "      <th>bio</th>\n",
       "      <th>userId</th>\n",
       "      <th>userName</th>\n",
       "      <th>usersFollowedByCount</th>\n",
       "      <th>usersFollowedCount</th>\n",
       "      <th>scrappedDate</th>\n",
       "    </tr>\n",
       "  </thead>\n",
       "  <tbody>\n",
       "    <tr>\n",
       "      <th>0</th>\n",
       "      <td>0</td>\n",
       "      <td>NaN</td>\n",
       "      <td>0.0</td>\n",
       "      <td>638f418c8464</td>\n",
       "      <td>2018-09-18</td>\n",
       "      <td>2018-09-18 20:55:34</td>\n",
       "      <td>2018-09-18</td>\n",
       "      <td>2018-09-18 20:57:03</td>\n",
       "      <td>1</td>\n",
       "      <td>False</td>\n",
       "      <td>en</td>\n",
       "      <td>2018-09-18</td>\n",
       "      <td>2018-09-18 20:58:20</td>\n",
       "      <td>1</td>\n",
       "      <td>10007d3018fe</td>\n",
       "      <td>0.958491</td>\n",
       "      <td>2</td>\n",
       "      <td>0</td>\n",
       "      <td>0</td>\n",
       "      <td>A major private IT company implements blockcha...</td>\n",
       "      <td>5</td>\n",
       "      <td>Private Business, Government and Blockchain\\n\\...</td>\n",
       "      <td>Private Business, Government and Blockchain</td>\n",
       "      <td>100</td>\n",
       "      <td>private-business-government-and-blockchain-100...</td>\n",
       "      <td>2018-09-18</td>\n",
       "      <td>2018-09-18 20:58:20</td>\n",
       "      <td>https://medium.com/s/story/private-business-go...</td>\n",
       "      <td>False</td>\n",
       "      <td>201</td>\n",
       "      <td>ICOBox is the first and the biggest new genera...</td>\n",
       "      <td>NaN</td>\n",
       "      <td>icobox.io</td>\n",
       "      <td>NaN</td>\n",
       "      <td>ICOBox</td>\n",
       "      <td>support@icobox.io</td>\n",
       "      <td>icobox-io</td>\n",
       "      <td>BLOCKCHAIN,ICO,ETHEREUM,ETHEREUM BLOCKCHAIN,TO...</td>\n",
       "      <td>icobox_io</td>\n",
       "      <td>Blockchain</td>\n",
       "      <td>blockchain</td>\n",
       "      <td>Blockchain</td>\n",
       "      <td>265164.0</td>\n",
       "      <td>Anar Babaev</td>\n",
       "      <td>NaN</td>\n",
       "      <td>f1ad85af0169</td>\n",
       "      <td>babaevanar</td>\n",
       "      <td>450.0</td>\n",
       "      <td>404.0</td>\n",
       "      <td>20181104</td>\n",
       "    </tr>\n",
       "    <tr>\n",
       "      <th>1</th>\n",
       "      <td>0</td>\n",
       "      <td>NaN</td>\n",
       "      <td>0.0</td>\n",
       "      <td>638f418c8464</td>\n",
       "      <td>2018-09-18</td>\n",
       "      <td>2018-09-18 20:55:34</td>\n",
       "      <td>2018-09-18</td>\n",
       "      <td>2018-09-18 20:57:03</td>\n",
       "      <td>1</td>\n",
       "      <td>False</td>\n",
       "      <td>en</td>\n",
       "      <td>2018-09-18</td>\n",
       "      <td>2018-09-18 20:58:20</td>\n",
       "      <td>1</td>\n",
       "      <td>10007d3018fe</td>\n",
       "      <td>0.958491</td>\n",
       "      <td>2</td>\n",
       "      <td>0</td>\n",
       "      <td>0</td>\n",
       "      <td>A major private IT company implements blockcha...</td>\n",
       "      <td>5</td>\n",
       "      <td>Private Business, Government and Blockchain\\n\\...</td>\n",
       "      <td>Private Business, Government and Blockchain</td>\n",
       "      <td>100</td>\n",
       "      <td>private-business-government-and-blockchain-100...</td>\n",
       "      <td>2018-09-18</td>\n",
       "      <td>2018-09-18 20:58:20</td>\n",
       "      <td>https://medium.com/s/story/private-business-go...</td>\n",
       "      <td>False</td>\n",
       "      <td>201</td>\n",
       "      <td>ICOBox is the first and the biggest new genera...</td>\n",
       "      <td>NaN</td>\n",
       "      <td>icobox.io</td>\n",
       "      <td>NaN</td>\n",
       "      <td>ICOBox</td>\n",
       "      <td>support@icobox.io</td>\n",
       "      <td>icobox-io</td>\n",
       "      <td>BLOCKCHAIN,ICO,ETHEREUM,ETHEREUM BLOCKCHAIN,TO...</td>\n",
       "      <td>icobox_io</td>\n",
       "      <td>Samsung</td>\n",
       "      <td>samsung</td>\n",
       "      <td>Samsung</td>\n",
       "      <td>5708.0</td>\n",
       "      <td>Anar Babaev</td>\n",
       "      <td>NaN</td>\n",
       "      <td>f1ad85af0169</td>\n",
       "      <td>babaevanar</td>\n",
       "      <td>450.0</td>\n",
       "      <td>404.0</td>\n",
       "      <td>20181104</td>\n",
       "    </tr>\n",
       "    <tr>\n",
       "      <th>2</th>\n",
       "      <td>0</td>\n",
       "      <td>NaN</td>\n",
       "      <td>0.0</td>\n",
       "      <td>638f418c8464</td>\n",
       "      <td>2018-09-18</td>\n",
       "      <td>2018-09-18 20:55:34</td>\n",
       "      <td>2018-09-18</td>\n",
       "      <td>2018-09-18 20:57:03</td>\n",
       "      <td>1</td>\n",
       "      <td>False</td>\n",
       "      <td>en</td>\n",
       "      <td>2018-09-18</td>\n",
       "      <td>2018-09-18 20:58:20</td>\n",
       "      <td>1</td>\n",
       "      <td>10007d3018fe</td>\n",
       "      <td>0.958491</td>\n",
       "      <td>2</td>\n",
       "      <td>0</td>\n",
       "      <td>0</td>\n",
       "      <td>A major private IT company implements blockcha...</td>\n",
       "      <td>5</td>\n",
       "      <td>Private Business, Government and Blockchain\\n\\...</td>\n",
       "      <td>Private Business, Government and Blockchain</td>\n",
       "      <td>100</td>\n",
       "      <td>private-business-government-and-blockchain-100...</td>\n",
       "      <td>2018-09-18</td>\n",
       "      <td>2018-09-18 20:58:20</td>\n",
       "      <td>https://medium.com/s/story/private-business-go...</td>\n",
       "      <td>False</td>\n",
       "      <td>201</td>\n",
       "      <td>ICOBox is the first and the biggest new genera...</td>\n",
       "      <td>NaN</td>\n",
       "      <td>icobox.io</td>\n",
       "      <td>NaN</td>\n",
       "      <td>ICOBox</td>\n",
       "      <td>support@icobox.io</td>\n",
       "      <td>icobox-io</td>\n",
       "      <td>BLOCKCHAIN,ICO,ETHEREUM,ETHEREUM BLOCKCHAIN,TO...</td>\n",
       "      <td>icobox_io</td>\n",
       "      <td>It</td>\n",
       "      <td>it</td>\n",
       "      <td>It</td>\n",
       "      <td>3720.0</td>\n",
       "      <td>Anar Babaev</td>\n",
       "      <td>NaN</td>\n",
       "      <td>f1ad85af0169</td>\n",
       "      <td>babaevanar</td>\n",
       "      <td>450.0</td>\n",
       "      <td>404.0</td>\n",
       "      <td>20181104</td>\n",
       "    </tr>\n",
       "    <tr>\n",
       "      <th>3</th>\n",
       "      <td>0</td>\n",
       "      <td>NaN</td>\n",
       "      <td>0.0</td>\n",
       "      <td>NaN</td>\n",
       "      <td>2018-01-07</td>\n",
       "      <td>2018-01-07 17:04:37</td>\n",
       "      <td>2018-01-07</td>\n",
       "      <td>2018-01-07 17:06:29</td>\n",
       "      <td>13</td>\n",
       "      <td>False</td>\n",
       "      <td>en</td>\n",
       "      <td>2018-01-07</td>\n",
       "      <td>2018-01-07 17:18:38</td>\n",
       "      <td>24</td>\n",
       "      <td>1000c43bcb97</td>\n",
       "      <td>19.716981</td>\n",
       "      <td>0</td>\n",
       "      <td>0</td>\n",
       "      <td>0</td>\n",
       "      <td>Introduction</td>\n",
       "      <td>5</td>\n",
       "      <td>EPQ draft 1 (4844 words)\\nhttps://upload.wikim...</td>\n",
       "      <td>EPQ draft 1 (4844 words)</td>\n",
       "      <td>0</td>\n",
       "      <td>introduction-3-1000c43bcb97</td>\n",
       "      <td>2018-01-07</td>\n",
       "      <td>2018-01-07 17:18:39</td>\n",
       "      <td>https://medium.com/s/story/introduction-3-1000...</td>\n",
       "      <td>False</td>\n",
       "      <td>4854</td>\n",
       "      <td>NaN</td>\n",
       "      <td>NaN</td>\n",
       "      <td>NaN</td>\n",
       "      <td>NaN</td>\n",
       "      <td>NaN</td>\n",
       "      <td>NaN</td>\n",
       "      <td>NaN</td>\n",
       "      <td>NaN</td>\n",
       "      <td>NaN</td>\n",
       "      <td>Technology</td>\n",
       "      <td>technology</td>\n",
       "      <td>Technology</td>\n",
       "      <td>166125.0</td>\n",
       "      <td>George Sykes</td>\n",
       "      <td>NaN</td>\n",
       "      <td>93b9e94f08ca</td>\n",
       "      <td>tasty231</td>\n",
       "      <td>6.0</td>\n",
       "      <td>22.0</td>\n",
       "      <td>20181104</td>\n",
       "    </tr>\n",
       "    <tr>\n",
       "      <th>4</th>\n",
       "      <td>0</td>\n",
       "      <td>NaN</td>\n",
       "      <td>0.0</td>\n",
       "      <td>NaN</td>\n",
       "      <td>2018-01-07</td>\n",
       "      <td>2018-01-07 17:04:37</td>\n",
       "      <td>2018-01-07</td>\n",
       "      <td>2018-01-07 17:06:29</td>\n",
       "      <td>13</td>\n",
       "      <td>False</td>\n",
       "      <td>en</td>\n",
       "      <td>2018-01-07</td>\n",
       "      <td>2018-01-07 17:18:38</td>\n",
       "      <td>24</td>\n",
       "      <td>1000c43bcb97</td>\n",
       "      <td>19.716981</td>\n",
       "      <td>0</td>\n",
       "      <td>0</td>\n",
       "      <td>0</td>\n",
       "      <td>Introduction</td>\n",
       "      <td>5</td>\n",
       "      <td>EPQ draft 1 (4844 words)\\nhttps://upload.wikim...</td>\n",
       "      <td>EPQ draft 1 (4844 words)</td>\n",
       "      <td>0</td>\n",
       "      <td>introduction-3-1000c43bcb97</td>\n",
       "      <td>2018-01-07</td>\n",
       "      <td>2018-01-07 17:18:39</td>\n",
       "      <td>https://medium.com/s/story/introduction-3-1000...</td>\n",
       "      <td>False</td>\n",
       "      <td>4854</td>\n",
       "      <td>NaN</td>\n",
       "      <td>NaN</td>\n",
       "      <td>NaN</td>\n",
       "      <td>NaN</td>\n",
       "      <td>NaN</td>\n",
       "      <td>NaN</td>\n",
       "      <td>NaN</td>\n",
       "      <td>NaN</td>\n",
       "      <td>NaN</td>\n",
       "      <td>Robotics</td>\n",
       "      <td>robotics</td>\n",
       "      <td>Robotics</td>\n",
       "      <td>9103.0</td>\n",
       "      <td>George Sykes</td>\n",
       "      <td>NaN</td>\n",
       "      <td>93b9e94f08ca</td>\n",
       "      <td>tasty231</td>\n",
       "      <td>6.0</td>\n",
       "      <td>22.0</td>\n",
       "      <td>20181104</td>\n",
       "    </tr>\n",
       "  </tbody>\n",
       "</table>\n",
       "</div>"
      ],
      "text/plain": [
       "   audioVersionDurationSec codeBlock  ...  usersFollowedCount scrappedDate\n",
       "0                        0       NaN  ...               404.0     20181104\n",
       "1                        0       NaN  ...               404.0     20181104\n",
       "2                        0       NaN  ...               404.0     20181104\n",
       "3                        0       NaN  ...                22.0     20181104\n",
       "4                        0       NaN  ...                22.0     20181104\n",
       "\n",
       "[5 rows x 50 columns]"
      ]
     },
     "execution_count": 6,
     "metadata": {
      "tags": []
     },
     "output_type": "execute_result"
    }
   ],
   "source": [
    "df.head()"
   ]
  },
  {
   "cell_type": "code",
   "execution_count": 343,
   "metadata": {
    "colab": {
     "base_uri": "https://localhost:8080/",
     "height": 1000
    },
    "colab_type": "code",
    "id": "xy2vIrpCdbbY",
    "outputId": "6b4c1226-3325-4041-b91b-adf14258e80a"
   },
   "outputs": [
    {
     "name": "stdout",
     "output_type": "stream",
     "text": [
      "<class 'pandas.core.frame.DataFrame'>\n",
      "RangeIndex: 279577 entries, 0 to 279576\n",
      "Data columns (total 50 columns):\n",
      " #   Column                       Non-Null Count   Dtype  \n",
      "---  ------                       --------------   -----  \n",
      " 0   audioVersionDurationSec      279577 non-null  int64  \n",
      " 1   codeBlock                    25179 non-null   object \n",
      " 2   codeBlockCount               279577 non-null  float64\n",
      " 3   collectionId                 137878 non-null  object \n",
      " 4   createdDate                  279577 non-null  object \n",
      " 5   createdDatetime              279577 non-null  object \n",
      " 6   firstPublishedDate           279577 non-null  object \n",
      " 7   firstPublishedDatetime       279577 non-null  object \n",
      " 8   imageCount                   279577 non-null  int64  \n",
      " 9   isSubscriptionLocked         279577 non-null  bool   \n",
      " 10  language                     279577 non-null  object \n",
      " 11  latestPublishedDate          279577 non-null  object \n",
      " 12  latestPublishedDatetime      279577 non-null  object \n",
      " 13  linksCount                   279577 non-null  int64  \n",
      " 14  postId                       279577 non-null  object \n",
      " 15  readingTime                  279577 non-null  float64\n",
      " 16  recommends                   279577 non-null  int64  \n",
      " 17  responsesCreatedCount        279577 non-null  int64  \n",
      " 18  socialRecommendsCount        279577 non-null  int64  \n",
      " 19  subTitle                     271217 non-null  object \n",
      " 20  tagsCount                    279577 non-null  int64  \n",
      " 21  text                         279577 non-null  object \n",
      " 22  title                        279572 non-null  object \n",
      " 23  totalClapCount               279577 non-null  int64  \n",
      " 24  uniqueSlug                   279577 non-null  object \n",
      " 25  updatedDate                  279577 non-null  object \n",
      " 26  updatedDatetime              279577 non-null  object \n",
      " 27  url                          279577 non-null  object \n",
      " 28  vote                         279577 non-null  bool   \n",
      " 29  wordCount                    279577 non-null  int64  \n",
      " 30  publicationdescription       137231 non-null  object \n",
      " 31  publicationdomain            53972 non-null   object \n",
      " 32  publicationfacebookPageName  100874 non-null  object \n",
      " 33  publicationfollowerCount     0 non-null       float64\n",
      " 34  publicationname              137231 non-null  object \n",
      " 35  publicationpublicEmail       101982 non-null  object \n",
      " 36  publicationslug              137231 non-null  object \n",
      " 37  publicationtags              130298 non-null  object \n",
      " 38  publicationtwitterUsername   119851 non-null  object \n",
      " 39  tag_name                     279577 non-null  object \n",
      " 40  slug                         279577 non-null  object \n",
      " 41  name                         279577 non-null  object \n",
      " 42  postCount                    279577 non-null  float64\n",
      " 43  author                       279577 non-null  object \n",
      " 44  bio                          225480 non-null  object \n",
      " 45  userId                       279577 non-null  object \n",
      " 46  userName                     279577 non-null  object \n",
      " 47  usersFollowedByCount         279577 non-null  float64\n",
      " 48  usersFollowedCount           279577 non-null  float64\n",
      " 49  scrappedDate                 279577 non-null  int64  \n",
      "dtypes: bool(2), float64(6), int64(10), object(32)\n",
      "memory usage: 102.9+ MB\n"
     ]
    }
   ],
   "source": [
    "df.info()"
   ]
  },
  {
   "cell_type": "code",
   "execution_count": null,
   "metadata": {
    "colab": {},
    "colab_type": "code",
    "id": "IzgjIgK55PA6"
   },
   "outputs": [],
   "source": [
    "# We can have a first look into our test set\n",
    "df_test.head()\n",
    "# In the following we make plenty of decisions how to prepare our training dataset. It turns out wise to make those decisions with a general understanding\n",
    "# in mind to which extent our prediction test set differs from our training set. Nevertheless, in this notebook, explanatory data analysis and preprocessing\n",
    "# of the prediction test set can be found for reasons of clarity in section 4 Predictions."
   ]
  },
  {
   "cell_type": "code",
   "execution_count": 163,
   "metadata": {
    "colab": {},
    "colab_type": "code",
    "id": "ThTB1_4gWj6a"
   },
   "outputs": [],
   "source": [
    "# dropping duplicates in the training set\n",
    "df.drop_duplicates(subset =\"postId\", inplace = True)"
   ]
  },
  {
   "cell_type": "code",
   "execution_count": 164,
   "metadata": {
    "colab": {},
    "colab_type": "code",
    "id": "rfdE4iWlt44i"
   },
   "outputs": [],
   "source": [
    "df=df.dropna(subset=['title']) #it is only one article, therefore its missing does not contain information"
   ]
  },
  {
   "cell_type": "code",
   "execution_count": 165,
   "metadata": {
    "colab": {},
    "colab_type": "code",
    "id": "geWqG6K1TBIM"
   },
   "outputs": [],
   "source": [
    "# For simplicity, we convert our int variables of interest to float so that all numeric variables of interest are of type float\n",
    "df['totalClapCount'] = df['totalClapCount'].astype(np.float64)\n",
    "df['wordCount'] = df['wordCount'].astype(np.float64)\n",
    "df['responsesCreatedCount'] = df['responsesCreatedCount'].astype(np.float64)\n",
    "df['imageCount'] = df['imageCount'].astype(np.float64)\n",
    "\n",
    "# We change all numeric variables from float64 to float 32 to reduce memory consumption\n",
    "num_vars = df.select_dtypes(include=np.float64).columns\n",
    "df[num_vars] = df[num_vars].astype(np.float32)"
   ]
  },
  {
   "cell_type": "code",
   "execution_count": 11,
   "metadata": {
    "colab": {
     "base_uri": "https://localhost:8080/",
     "height": 597
    },
    "colab_type": "code",
    "id": "2JsdYyKfT4bm",
    "outputId": "aa534d66-eca9-44bd-8a56-a11f60e20300"
   },
   "outputs": [
    {
     "data": {
      "image/png": "[encoded data removed]",
      "text/plain": [
       "<Figure size 1440x720 with 12 Axes>"
      ]
     },
     "metadata": {
      "needs_background": "light",
      "tags": []
     },
     "output_type": "display_data"
    }
   ],
   "source": [
    "# Let us create some histograms to have a look on the distribution of our numeric variables\n",
    "%matplotlib inline  \n",
    "plt.rcParams[\"figure.figsize\"] = (20,10)\n",
    "df.select_dtypes(include='float32').hist(bins=20);"
   ]
  },
  {
   "cell_type": "code",
   "execution_count": 9,
   "metadata": {
    "colab": {
     "base_uri": "https://localhost:8080/",
     "height": 1000
    },
    "colab_type": "code",
    "id": "MTZfyNR0UuNY",
    "outputId": "1fd9bae4-56be-4194-920b-d0bb6a78d00e"
   },
   "outputs": [
    {
     "data": {
      "image/png": "[encoded data removed]",
      "text/plain": [
       "<Figure size 1440x720 with 5 Axes>"
      ]
     },
     "metadata": {
      "needs_background": "light",
      "tags": []
     },
     "output_type": "display_data"
    },
    {
     "data": {
      "image/png": "[encoded data removed]",
      "text/plain": [
       "<Figure size 1440x720 with 5 Axes>"
      ]
     },
     "metadata": {
      "needs_background": "light",
      "tags": []
     },
     "output_type": "display_data"
    }
   ],
   "source": [
    "# Checking for outliers in our training set\n",
    "num_vars = df.select_dtypes(include=\"float32\")\n",
    "half = np.ceil(num_vars.shape[1] / 2).astype(int)  # for cosmetic reasons we split the plots into two rows\n",
    "num_vars.iloc[:, 0:half].plot(kind = 'box', subplots=True);\n",
    "num_vars.iloc[:, half:num_vars.shape[1]].plot(kind = 'box', subplots=True);"
   ]
  },
  {
   "cell_type": "code",
   "execution_count": 381,
   "metadata": {
    "colab": {
     "base_uri": "https://localhost:8080/",
     "height": 241
    },
    "colab_type": "code",
    "id": "VbxV4JU8Wg31",
    "outputId": "19c0b6dc-7a2d-4c43-b392-f01745020fc0"
   },
   "outputs": [
    {
     "data": {
      "text/plain": [
       "0.0      60064\n",
       "1.0       6045\n",
       "2.0       2246\n",
       "3.0       1062\n",
       "4.0        646\n",
       "         ...  \n",
       "105.0        1\n",
       "98.0         1\n",
       "94.0         1\n",
       "55.0         1\n",
       "135.0        1\n",
       "Name: responsesCreatedCount, Length: 139, dtype: int64"
      ]
     },
     "execution_count": 381,
     "metadata": {
      "tags": []
     },
     "output_type": "execute_result"
    }
   ],
   "source": [
    "df['responsesCreatedCount'].value_counts() #only few observations with many responses"
   ]
  },
  {
   "cell_type": "code",
   "execution_count": 27,
   "metadata": {
    "colab": {
     "base_uri": "https://localhost:8080/",
     "height": 185
    },
    "colab_type": "code",
    "id": "RZsphvxCg2eN",
    "outputId": "4cdd0205-5cc7-4352-9940-3589a38ea439"
   },
   "outputs": [
    {
     "data": {
      "text/plain": [
       "count    72336.000000\n",
       "mean        39.401527\n",
       "std         55.734577\n",
       "min          0.000000\n",
       "25%          0.000000\n",
       "50%          5.000000\n",
       "75%         61.000000\n",
       "max        152.500000\n",
       "Name: totalClapCount, dtype: float64"
      ]
     },
     "execution_count": 27,
     "metadata": {
      "tags": []
     },
     "output_type": "execute_result"
    }
   ],
   "source": [
    "df.totalClapCount.describe()"
   ]
  },
  {
   "cell_type": "code",
   "execution_count": 166,
   "metadata": {
    "colab": {},
    "colab_type": "code",
    "id": "IiuRSmoxgpha"
   },
   "outputs": [],
   "source": [
    "num_cols = [x for x in df.columns if df[x].dtype == 'float32' and x not in ['responsesCreatedCount']]"
   ]
  },
  {
   "cell_type": "code",
   "execution_count": 167,
   "metadata": {
    "colab": {},
    "colab_type": "code",
    "id": "MboporJvX3GC"
   },
   "outputs": [],
   "source": [
    "# we first need our function to handle outliers \n",
    "# this code is adapted from Lessmann (2020a)\n",
    "def outlier_truncation(x, factor=1.5):\n",
    "    '''\n",
    "    Identifies outlier values based on the inter-quartile range IQR. \n",
    "    Corresponding outliers are truncated and set to a value factor x IQR\n",
    "    \n",
    "        Parameters:\n",
    "            x (Pandas Series): A data frame column to scan for outliers\n",
    "            factor (float): An outlier is a value this many times the IQR above q3/below q1\n",
    "            \n",
    "        Returns:\n",
    "            Adjusted variable in which outliers are truncated\n",
    "    '''\n",
    "    x_new = x\n",
    "    \n",
    "    # Calculate IQR\n",
    "    IQR = x.quantile(0.75) - x.quantile(0.25) \n",
    "    \n",
    "    # Define upper/lower bound\n",
    "    upper = x.quantile(0.75) + factor*IQR\n",
    "    lower = x.quantile(0.25) - factor*IQR\n",
    "    \n",
    "    # Truncation\n",
    "    x_new[x < lower] = lower\n",
    "    x_new[x > upper] = upper\n",
    "    \n",
    "    return x_new"
   ]
  },
  {
   "cell_type": "code",
   "execution_count": 168,
   "metadata": {
    "colab": {
     "base_uri": "https://localhost:8080/",
     "height": 36
    },
    "colab_type": "code",
    "id": "V7vk1rTLVnkc",
    "outputId": "6e368422-8437-4168-8f68-5042a1f4ad59"
   },
   "outputs": [
    {
     "name": "stdout",
     "output_type": "stream",
     "text": [
      "5.0\n"
     ]
    }
   ],
   "source": [
    "#For responses we use another approach to loose less observations with non-zero responses. The fact that we have quite a different distribution\n",
    "#of this variable with a prediction importance in the training and test set, is an issue we should keep in mind.\n",
    "q = df['responsesCreatedCount'].quantile(0.97)\n",
    "print(q)"
   ]
  },
  {
   "cell_type": "code",
   "execution_count": 169,
   "metadata": {
    "colab": {},
    "colab_type": "code",
    "id": "6JQ3V5GrVnky"
   },
   "outputs": [],
   "source": [
    "df=df[df['responsesCreatedCount'] < q]"
   ]
  },
  {
   "cell_type": "code",
   "execution_count": 170,
   "metadata": {
    "colab": {
     "base_uri": "https://localhost:8080/",
     "height": 983
    },
    "colab_type": "code",
    "id": "EggvkhkIPgi0",
    "outputId": "5b9f63ca-0080-4ae5-f608-183ad57ce4e9"
   },
   "outputs": [
    {
     "data": {
      "image/png": "[encoded data removed]",
      "text/plain": [
       "<Figure size 1296x1080 with 2 Axes>"
      ]
     },
     "metadata": {
      "needs_background": "light",
      "tags": []
     },
     "output_type": "display_data"
    }
   ],
   "source": [
    "#we check some correlation between the numeric variables; of course we are especially interested in the correlation of our target variable with others\n",
    "corr= df.corr()\n",
    "f,ax = plt.subplots(figsize=(18, 15))\n",
    "sns.heatmap(corr[(corr >= 0.30) | (corr <= -0.30)],\n",
    "            annot=True);"
   ]
  },
  {
   "cell_type": "markdown",
   "metadata": {
    "colab_type": "text",
    "id": "-NgCDwoOtVDT"
   },
   "source": [
    "# 2. Feature Engineering"
   ]
  },
  {
   "cell_type": "markdown",
   "metadata": {
    "colab_type": "text",
    "id": "s8bXaKvqwvVt"
   },
   "source": [
    "**2.1 Meta features**"
   ]
  },
  {
   "cell_type": "code",
   "execution_count": 29,
   "metadata": {
    "colab": {
     "base_uri": "https://localhost:8080/",
     "height": 241
    },
    "colab_type": "code",
    "id": "-BNIWHq2jNya",
    "outputId": "fb90efef-f99a-4b0c-d489-0c79afa3ec17"
   },
   "outputs": [
    {
     "data": {
      "text/plain": [
       "Towards Data Science                                3249\n",
       "Hacker Noon                                         1094\n",
       "Becoming Human: Artificial Intelligence Magazine     739\n",
       "Data Driven Investor                                 657\n",
       "Chatbots Life                                        469\n",
       "                                                    ... \n",
       "9indianews                                             1\n",
       "NovaMining Italia                                      1\n",
       "IWORKTECH                                              1\n",
       "Kindigo Cyberbullying Blog                             1\n",
       "Mylyanyk Marko                                         1\n",
       "Name: publicationname, Length: 6414, dtype: int64"
      ]
     },
     "execution_count": 29,
     "metadata": {
      "tags": []
     },
     "output_type": "execute_result"
    }
   ],
   "source": [
    "#Let us have a look at publicationname\n",
    "df['publicationname'].value_counts()"
   ]
  },
  {
   "cell_type": "code",
   "execution_count": 30,
   "metadata": {
    "colab": {},
    "colab_type": "code",
    "id": "4yizn13nj8Hp"
   },
   "outputs": [],
   "source": [
    "df['publication_counts'] = df.publicationname.groupby(df.publicationname).transform('count')"
   ]
  },
  {
   "cell_type": "code",
   "execution_count": 31,
   "metadata": {
    "colab": {
     "base_uri": "https://localhost:8080/",
     "height": 241
    },
    "colab_type": "code",
    "id": "XdOBdFe6MlUR",
    "outputId": "84fac5fc-238d-44a3-e5ec-0173740537bb"
   },
   "outputs": [
    {
     "data": {
      "text/plain": [
       "0            2.0\n",
       "3            NaN\n",
       "7            NaN\n",
       "11           1.0\n",
       "16           NaN\n",
       "           ...  \n",
       "279557    3249.0\n",
       "279562       9.0\n",
       "279567    1094.0\n",
       "279570      85.0\n",
       "279572       4.0\n",
       "Name: publication_counts, Length: 70063, dtype: float64"
      ]
     },
     "execution_count": 31,
     "metadata": {
      "tags": []
     },
     "output_type": "execute_result"
    }
   ],
   "source": [
    "df['publication_counts']"
   ]
  },
  {
   "cell_type": "code",
   "execution_count": 32,
   "metadata": {
    "colab": {},
    "colab_type": "code",
    "id": "LllHNO8okZf5"
   },
   "outputs": [],
   "source": [
    "# We only consider publication names that appear more than 50 times\n",
    "def g(row):\n",
    "    if row['publication_counts'] <= 50:\n",
    "        val = np.nan\n",
    "    else:\n",
    "        val = row['publicationname']\n",
    "    return val"
   ]
  },
  {
   "cell_type": "code",
   "execution_count": 33,
   "metadata": {
    "colab": {},
    "colab_type": "code",
    "id": "ulRDYoFOlDFJ"
   },
   "outputs": [],
   "source": [
    "df['publicationname']=df.apply(g, axis=1)"
   ]
  },
  {
   "cell_type": "code",
   "execution_count": 34,
   "metadata": {
    "colab": {},
    "colab_type": "code",
    "id": "razRaxtb72eH"
   },
   "outputs": [],
   "source": [
    "def new_variables(data):\n",
    "  # length of content\n",
    "  data['len_text'] = data['text'].str.len()\n",
    "  data['len_title'] = data['title'].str.len()"
   ]
  },
  {
   "cell_type": "code",
   "execution_count": 35,
   "metadata": {
    "colab": {},
    "colab_type": "code",
    "id": "_mamVV3G7779"
   },
   "outputs": [],
   "source": [
    "#create additional len features\n",
    "new_variables(df)"
   ]
  },
  {
   "cell_type": "markdown",
   "metadata": {
    "colab_type": "text",
    "id": "GuVL5pY-HTzO"
   },
   "source": [
    "Language: Our dataset which we will use for prediction, does have only  a few articles in any other language than English, therefore it makes sense to limit our training set to English articles only. This will also make NLP tasks much easier than working with text data in various languages."
   ]
  },
  {
   "cell_type": "code",
   "execution_count": 36,
   "metadata": {
    "colab": {
     "base_uri": "https://localhost:8080/",
     "height": 632
    },
    "colab_type": "code",
    "id": "4j0Tldrfp3IA",
    "outputId": "40f4094d-2c83-4992-e397-56d3b452d3c3"
   },
   "outputs": [
    {
     "data": {
      "text/plain": [
       "<matplotlib.axes._subplots.AxesSubplot at 0x7f4a3c18de80>"
      ]
     },
     "execution_count": 36,
     "metadata": {
      "tags": []
     },
     "output_type": "execute_result"
    },
    {
     "data": {
      "image/png": "[encoded data removed]",
      "text/plain": [
       "<Figure size 1440x720 with 1 Axes>"
      ]
     },
     "metadata": {
      "needs_background": "light",
      "tags": []
     },
     "output_type": "display_data"
    }
   ],
   "source": [
    "df['language'].value_counts().plot(kind='bar')"
   ]
  },
  {
   "cell_type": "code",
   "execution_count": 37,
   "metadata": {
    "colab": {},
    "colab_type": "code",
    "id": "XqXdXMOXn4QR"
   },
   "outputs": [],
   "source": [
    "df=pd.get_dummies(df, columns=['language'])"
   ]
  },
  {
   "cell_type": "code",
   "execution_count": 38,
   "metadata": {
    "colab": {},
    "colab_type": "code",
    "id": "AxgKCvBY9T_F"
   },
   "outputs": [],
   "source": [
    "df=df[(df.language_en !=0)]"
   ]
  },
  {
   "cell_type": "code",
   "execution_count": 39,
   "metadata": {
    "colab": {
     "base_uri": "https://localhost:8080/",
     "height": 36
    },
    "colab_type": "code",
    "id": "dBSFdYAS9WZu",
    "outputId": "9d208bb6-dc0a-4f18-9969-0444f71db1db"
   },
   "outputs": [
    {
     "data": {
      "text/plain": [
       "64151"
      ]
     },
     "execution_count": 39,
     "metadata": {
      "tags": []
     },
     "output_type": "execute_result"
    }
   ],
   "source": [
    "len(df)"
   ]
  },
  {
   "cell_type": "code",
   "execution_count": 40,
   "metadata": {
    "colab": {},
    "colab_type": "code",
    "id": "4l0ghwDtDMoA"
   },
   "outputs": [],
   "source": [
    "# create feature how many days ago article was published\n",
    "from datetime import datetime\n",
    "now = datetime.now()\n",
    "A = (now.strftime(\"%Y-%m-%d\"))\n",
    "date_format = \"%Y-%m-%d\"\n",
    "A = datetime.strptime(A, date_format)\n",
    "df['A']=A\n",
    "\n",
    "df['createdDate'] = pd.to_datetime(df['createdDate'])\n",
    "\n",
    "df['daysonline'] = df['A']- df['createdDate'] # even more precise would be till scrapping instead of till today\n",
    "df['daysonline'] = pd.to_numeric(df['daysonline'].dt.days, downcast='integer')"
   ]
  },
  {
   "cell_type": "code",
   "execution_count": 41,
   "metadata": {
    "colab": {},
    "colab_type": "code",
    "id": "ZvN3Nbb5ZEae"
   },
   "outputs": [],
   "source": [
    "# create feature day of the week article was first published\n",
    "df['weekday']= df['createdDate'].apply(lambda x: x.weekday())"
   ]
  },
  {
   "cell_type": "code",
   "execution_count": 42,
   "metadata": {
    "colab": {},
    "colab_type": "code",
    "id": "2dR5OfGL8E1k"
   },
   "outputs": [],
   "source": [
    "df['text_short'] = df['text'].astype(str).apply(lambda x: x[:5000])"
   ]
  },
  {
   "cell_type": "code",
   "execution_count": 43,
   "metadata": {
    "colab": {},
    "colab_type": "code",
    "id": "DGUlx5KjD6Wk"
   },
   "outputs": [],
   "source": [
    "# Lemmatize with POS Tag\n",
    "def get_wordnet_pos(word):\n",
    "    \"\"\"Map POS tag to first character for lemmatization\"\"\"\n",
    "    tag = nltk.pos_tag([word])[0][1][0].upper()\n",
    "    tag_dict = {\"J\": wordnet.ADJ,\n",
    "                \"N\": wordnet.NOUN,\n",
    "                \"V\": wordnet.VERB,\n",
    "                \"R\": wordnet.ADV}\n",
    "\n",
    "    return tag_dict.get(tag, wordnet.NOUN)"
   ]
  },
  {
   "cell_type": "code",
   "execution_count": 44,
   "metadata": {
    "colab": {},
    "colab_type": "code",
    "id": "q1to8ChZE1tT"
   },
   "outputs": [],
   "source": [
    "# this code is adapted from Lessmann (2020b)\n",
    "def clean_text(df):\n",
    "    \"\"\" Standard NLP pre-processing chain including removal of html tags, non-alphanumeric characters, and stopwords.\n",
    "        Words are subject to lemmatization using their POS tags, which are determind using WordNet. \n",
    "    \"\"\"\n",
    "    articles = []\n",
    "\n",
    "    lemmatizer = WordNetLemmatizer()\n",
    "    \n",
    "    print('*' * 40)\n",
    "    print('Cleaning {} text/title.'.format(df.shape[0]))\n",
    "    counter = 0\n",
    "    for article in df:\n",
    "        \n",
    "        # remove html content\n",
    "        article_text = BeautifulSoup(article).get_text()\n",
    "        \n",
    "        # remove non-alphabetic characters\n",
    "        article_text = re.sub(\"[^a-zA-Z]\",\" \", article_text)\n",
    "    \n",
    "        # tokenize the sentences\n",
    "        words = word_tokenize(article_text.lower())\n",
    "  \n",
    "        # filter stopwords\n",
    "        words = [w for w in words if w not in stopwords.words(\"english\")]\n",
    "        \n",
    "        # lemmatize each word to its lemma\n",
    "        lemma_words =[lemmatizer.lemmatize(i, get_wordnet_pos(i)) for i in words]\n",
    "    \n",
    "        articles.append(lemma_words)\n",
    "              \n",
    "        if (counter > 0 and counter % 500 == 0):\n",
    "            print('Processed {} text/titles'.format(counter))\n",
    "            \n",
    "        counter += 1\n",
    "        \n",
    "    print('DONE')\n",
    "    print('*' * 40)\n",
    "\n",
    "    return(articles) "
   ]
  },
  {
   "cell_type": "code",
   "execution_count": 45,
   "metadata": {
    "colab": {
     "base_uri": "https://localhost:8080/",
     "height": 92
    },
    "colab_type": "code",
    "id": "MXh_UVVGIUpA",
    "outputId": "4a9016b4-8551-4fa5-a062-709d0de18721"
   },
   "outputs": [
    {
     "name": "stdout",
     "output_type": "stream",
     "text": [
      "[nltk_data] Downloading package averaged_perceptron_tagger to\n",
      "[nltk_data]     /root/nltk_data...\n",
      "[nltk_data]   Unzipping taggers/averaged_perceptron_tagger.zip.\n"
     ]
    },
    {
     "data": {
      "text/plain": [
       "True"
      ]
     },
     "execution_count": 45,
     "metadata": {
      "tags": []
     },
     "output_type": "execute_result"
    }
   ],
   "source": [
    "import nltk\n",
    "nltk.download('averaged_perceptron_tagger')"
   ]
  },
  {
   "cell_type": "code",
   "execution_count": 46,
   "metadata": {
    "colab": {
     "base_uri": "https://localhost:8080/",
     "height": 1000
    },
    "colab_type": "code",
    "id": "v4FTfnkGICe7",
    "outputId": "0ea4faba-411a-4980-d4c3-f3e3609de4cf"
   },
   "outputs": [
    {
     "name": "stdout",
     "output_type": "stream",
     "text": [
      "****************************************\n",
      "Cleaning 64151 text/title.\n",
      "Processed 500 text/titles\n",
      "Processed 1000 text/titles\n",
      "Processed 1500 text/titles\n",
      "Processed 2000 text/titles\n",
      "Processed 2500 text/titles\n",
      "Processed 3000 text/titles\n",
      "Processed 3500 text/titles\n",
      "Processed 4000 text/titles\n",
      "Processed 4500 text/titles\n",
      "Processed 5000 text/titles\n",
      "Processed 5500 text/titles\n",
      "Processed 6000 text/titles\n",
      "Processed 6500 text/titles\n",
      "Processed 7000 text/titles\n",
      "Processed 7500 text/titles\n",
      "Processed 8000 text/titles\n",
      "Processed 8500 text/titles\n",
      "Processed 9000 text/titles\n",
      "Processed 9500 text/titles\n",
      "Processed 10000 text/titles\n",
      "Processed 10500 text/titles\n",
      "Processed 11000 text/titles\n",
      "Processed 11500 text/titles\n",
      "Processed 12000 text/titles\n",
      "Processed 12500 text/titles\n",
      "Processed 13000 text/titles\n",
      "Processed 13500 text/titles\n",
      "Processed 14000 text/titles\n",
      "Processed 14500 text/titles\n",
      "Processed 15000 text/titles\n",
      "Processed 15500 text/titles\n",
      "Processed 16000 text/titles\n",
      "Processed 16500 text/titles\n",
      "Processed 17000 text/titles\n",
      "Processed 17500 text/titles\n",
      "Processed 18000 text/titles\n",
      "Processed 18500 text/titles\n",
      "Processed 19000 text/titles\n",
      "Processed 19500 text/titles\n",
      "Processed 20000 text/titles\n",
      "Processed 20500 text/titles\n",
      "Processed 21000 text/titles\n",
      "Processed 21500 text/titles\n",
      "Processed 22000 text/titles\n",
      "Processed 22500 text/titles\n",
      "Processed 23000 text/titles\n",
      "Processed 23500 text/titles\n",
      "Processed 24000 text/titles\n",
      "Processed 24500 text/titles\n",
      "Processed 25000 text/titles\n"
     ]
    },
    {
     "name": "stderr",
     "output_type": "stream",
     "text": [
      "/usr/local/lib/python3.6/dist-packages/bs4/__init__.py:336: UserWarning: \"https://icoratingblog.wordpress.com/2017/12/07/ico-rating-2/\n",
      "\n",
      "\" looks like a URL. Beautiful Soup is not an HTTP client. You should probably use an HTTP client like requests to get the document behind the URL, and feed that document to Beautiful Soup.\n",
      "  ' that document to Beautiful Soup.' % decoded_markup\n"
     ]
    },
    {
     "name": "stdout",
     "output_type": "stream",
     "text": [
      "Processed 25500 text/titles\n",
      "Processed 26000 text/titles\n",
      "Processed 26500 text/titles\n",
      "Processed 27000 text/titles\n",
      "Processed 27500 text/titles\n",
      "Processed 28000 text/titles\n",
      "Processed 28500 text/titles\n",
      "Processed 29000 text/titles\n",
      "Processed 29500 text/titles\n",
      "Processed 30000 text/titles\n",
      "Processed 30500 text/titles\n",
      "Processed 31000 text/titles\n",
      "Processed 31500 text/titles\n"
     ]
    },
    {
     "name": "stderr",
     "output_type": "stream",
     "text": [
      "/usr/local/lib/python3.6/dist-packages/bs4/__init__.py:336: UserWarning: \"https://icoratingblog.wordpress.com/2017/12/05/first-blog-post/\n",
      "\n",
      "\" looks like a URL. Beautiful Soup is not an HTTP client. You should probably use an HTTP client like requests to get the document behind the URL, and feed that document to Beautiful Soup.\n",
      "  ' that document to Beautiful Soup.' % decoded_markup\n"
     ]
    },
    {
     "name": "stdout",
     "output_type": "stream",
     "text": [
      "Processed 32000 text/titles\n",
      "Processed 32500 text/titles\n",
      "Processed 33000 text/titles\n"
     ]
    },
    {
     "name": "stderr",
     "output_type": "stream",
     "text": [
      "/usr/local/lib/python3.6/dist-packages/bs4/__init__.py:336: UserWarning: \"https://blog.juecell.in/2018/08/artificial-intelligence-living-with.html?m=1\n",
      "\" looks like a URL. Beautiful Soup is not an HTTP client. You should probably use an HTTP client like requests to get the document behind the URL, and feed that document to Beautiful Soup.\n",
      "  ' that document to Beautiful Soup.' % decoded_markup\n"
     ]
    },
    {
     "name": "stdout",
     "output_type": "stream",
     "text": [
      "Processed 33500 text/titles\n",
      "Processed 34000 text/titles\n",
      "Processed 34500 text/titles\n",
      "Processed 35000 text/titles\n",
      "Processed 35500 text/titles\n",
      "Processed 36000 text/titles\n",
      "Processed 36500 text/titles\n",
      "Processed 37000 text/titles\n",
      "Processed 37500 text/titles\n",
      "Processed 38000 text/titles\n",
      "Processed 38500 text/titles\n",
      "Processed 39000 text/titles\n"
     ]
    },
    {
     "name": "stderr",
     "output_type": "stream",
     "text": [
      "/usr/local/lib/python3.6/dist-packages/bs4/__init__.py:336: UserWarning: \"https://knowledgebuilderblog.wordpress.com/\n",
      "\" looks like a URL. Beautiful Soup is not an HTTP client. You should probably use an HTTP client like requests to get the document behind the URL, and feed that document to Beautiful Soup.\n",
      "  ' that document to Beautiful Soup.' % decoded_markup\n"
     ]
    },
    {
     "name": "stdout",
     "output_type": "stream",
     "text": [
      "Processed 39500 text/titles\n",
      "Processed 40000 text/titles\n",
      "Processed 40500 text/titles\n",
      "Processed 41000 text/titles\n",
      "Processed 41500 text/titles\n",
      "Processed 42000 text/titles\n",
      "Processed 42500 text/titles\n",
      "Processed 43000 text/titles\n",
      "Processed 43500 text/titles\n",
      "Processed 44000 text/titles\n",
      "Processed 44500 text/titles\n",
      "Processed 45000 text/titles\n",
      "Processed 45500 text/titles\n",
      "Processed 46000 text/titles\n",
      "Processed 46500 text/titles\n",
      "Processed 47000 text/titles\n",
      "Processed 47500 text/titles\n",
      "Processed 48000 text/titles\n",
      "Processed 48500 text/titles\n",
      "Processed 49000 text/titles\n",
      "Processed 49500 text/titles\n",
      "Processed 50000 text/titles\n",
      "Processed 50500 text/titles\n",
      "Processed 51000 text/titles\n",
      "Processed 51500 text/titles\n",
      "Processed 52000 text/titles\n",
      "Processed 52500 text/titles\n"
     ]
    },
    {
     "name": "stderr",
     "output_type": "stream",
     "text": [
      "/usr/local/lib/python3.6/dist-packages/bs4/__init__.py:336: UserWarning: \"https://icoratingblog.wordpress.com/2017/12/07/ico-rating-3/\n",
      "\n",
      "\" looks like a URL. Beautiful Soup is not an HTTP client. You should probably use an HTTP client like requests to get the document behind the URL, and feed that document to Beautiful Soup.\n",
      "  ' that document to Beautiful Soup.' % decoded_markup\n"
     ]
    },
    {
     "name": "stdout",
     "output_type": "stream",
     "text": [
      "Processed 53000 text/titles\n",
      "Processed 53500 text/titles\n",
      "Processed 54000 text/titles\n",
      "Processed 54500 text/titles\n",
      "Processed 55000 text/titles\n",
      "Processed 55500 text/titles\n",
      "Processed 56000 text/titles\n",
      "Processed 56500 text/titles\n",
      "Processed 57000 text/titles\n",
      "Processed 57500 text/titles\n",
      "Processed 58000 text/titles\n",
      "Processed 58500 text/titles\n",
      "Processed 59000 text/titles\n",
      "Processed 59500 text/titles\n",
      "Processed 60000 text/titles\n",
      "Processed 60500 text/titles\n",
      "Processed 61000 text/titles\n",
      "Processed 61500 text/titles\n",
      "Processed 62000 text/titles\n",
      "Processed 62500 text/titles\n",
      "Processed 63000 text/titles\n",
      "Processed 63500 text/titles\n",
      "Processed 64000 text/titles\n",
      "DONE\n",
      "****************************************\n"
     ]
    }
   ],
   "source": [
    "# Do the cleaning\n",
    "text = clean_text(df.text_short)"
   ]
  },
  {
   "cell_type": "code",
   "execution_count": 47,
   "metadata": {
    "colab": {
     "base_uri": "https://localhost:8080/",
     "height": 1000
    },
    "colab_type": "code",
    "id": "L6f5Ijv7h0HL",
    "outputId": "86169d2e-4822-4f5c-d5c4-5227423f1069"
   },
   "outputs": [
    {
     "name": "stdout",
     "output_type": "stream",
     "text": [
      "****************************************\n",
      "Cleaning 64151 text/title.\n",
      "Processed 500 text/titles\n"
     ]
    },
    {
     "name": "stderr",
     "output_type": "stream",
     "text": [
      "/usr/local/lib/python3.6/dist-packages/bs4/__init__.py:336: UserWarning: \"https://www.youtube.com/watch?v=l45iOR_JlUA\" looks like a URL. Beautiful Soup is not an HTTP client. You should probably use an HTTP client like requests to get the document behind the URL, and feed that document to Beautiful Soup.\n",
      "  ' that document to Beautiful Soup.' % decoded_markup\n"
     ]
    },
    {
     "name": "stdout",
     "output_type": "stream",
     "text": [
      "Processed 1000 text/titles\n",
      "Processed 1500 text/titles\n",
      "Processed 2000 text/titles\n",
      "Processed 2500 text/titles\n",
      "Processed 3000 text/titles\n",
      "Processed 3500 text/titles\n",
      "Processed 4000 text/titles\n",
      "Processed 4500 text/titles\n",
      "Processed 5000 text/titles\n",
      "Processed 5500 text/titles\n",
      "Processed 6000 text/titles\n",
      "Processed 6500 text/titles\n",
      "Processed 7000 text/titles\n",
      "Processed 7500 text/titles\n",
      "Processed 8000 text/titles\n",
      "Processed 8500 text/titles\n",
      "Processed 9000 text/titles\n"
     ]
    },
    {
     "name": "stderr",
     "output_type": "stream",
     "text": [
      "/usr/local/lib/python3.6/dist-packages/bs4/__init__.py:336: UserWarning: \"http://www.theaustralian.com.au/business/technology/opinion/the-gifts-ai-and-machine-learning-delive…\" looks like a URL. Beautiful Soup is not an HTTP client. You should probably use an HTTP client like requests to get the document behind the URL, and feed that document to Beautiful Soup.\n",
      "  ' that document to Beautiful Soup.' % decoded_markup\n"
     ]
    },
    {
     "name": "stdout",
     "output_type": "stream",
     "text": [
      "Processed 9500 text/titles\n",
      "Processed 10000 text/titles\n",
      "Processed 10500 text/titles\n",
      "Processed 11000 text/titles\n",
      "Processed 11500 text/titles\n",
      "Processed 12000 text/titles\n",
      "Processed 12500 text/titles\n",
      "Processed 13000 text/titles\n",
      "Processed 13500 text/titles\n",
      "Processed 14000 text/titles\n",
      "Processed 14500 text/titles\n",
      "Processed 15000 text/titles\n",
      "Processed 15500 text/titles\n",
      "Processed 16000 text/titles\n",
      "Processed 16500 text/titles\n",
      "Processed 17000 text/titles\n",
      "Processed 17500 text/titles\n",
      "Processed 18000 text/titles\n",
      "Processed 18500 text/titles\n",
      "Processed 19000 text/titles\n"
     ]
    },
    {
     "name": "stderr",
     "output_type": "stream",
     "text": [
      "/usr/local/lib/python3.6/dist-packages/bs4/__init__.py:336: UserWarning: \"http://machinelearningtub.blogspot.com/\" looks like a URL. Beautiful Soup is not an HTTP client. You should probably use an HTTP client like requests to get the document behind the URL, and feed that document to Beautiful Soup.\n",
      "  ' that document to Beautiful Soup.' % decoded_markup\n"
     ]
    },
    {
     "name": "stdout",
     "output_type": "stream",
     "text": [
      "Processed 19500 text/titles\n",
      "Processed 20000 text/titles\n",
      "Processed 20500 text/titles\n",
      "Processed 21000 text/titles\n",
      "Processed 21500 text/titles\n",
      "Processed 22000 text/titles\n",
      "Processed 22500 text/titles\n"
     ]
    },
    {
     "name": "stderr",
     "output_type": "stream",
     "text": [
      "/usr/local/lib/python3.6/dist-packages/bs4/__init__.py:336: UserWarning: \"https://youtu.be/LhWt0Oigt3o\" looks like a URL. Beautiful Soup is not an HTTP client. You should probably use an HTTP client like requests to get the document behind the URL, and feed that document to Beautiful Soup.\n",
      "  ' that document to Beautiful Soup.' % decoded_markup\n"
     ]
    },
    {
     "name": "stdout",
     "output_type": "stream",
     "text": [
      "Processed 23000 text/titles\n",
      "Processed 23500 text/titles\n",
      "Processed 24000 text/titles\n",
      "Processed 24500 text/titles\n",
      "Processed 25000 text/titles\n"
     ]
    },
    {
     "name": "stderr",
     "output_type": "stream",
     "text": [
      "/usr/local/lib/python3.6/dist-packages/bs4/__init__.py:336: UserWarning: \"https://icoratingblog.wordpress.com/2017/12/07/ico-rating-2/\" looks like a URL. Beautiful Soup is not an HTTP client. You should probably use an HTTP client like requests to get the document behind the URL, and feed that document to Beautiful Soup.\n",
      "  ' that document to Beautiful Soup.' % decoded_markup\n"
     ]
    },
    {
     "name": "stdout",
     "output_type": "stream",
     "text": [
      "Processed 25500 text/titles\n",
      "Processed 26000 text/titles\n",
      "Processed 26500 text/titles\n",
      "Processed 27000 text/titles\n"
     ]
    },
    {
     "name": "stderr",
     "output_type": "stream",
     "text": [
      "/usr/local/lib/python3.6/dist-packages/bs4/__init__.py:336: UserWarning: \"https://acadgild.com/blog/data-scientist-description\" looks like a URL. Beautiful Soup is not an HTTP client. You should probably use an HTTP client like requests to get the document behind the URL, and feed that document to Beautiful Soup.\n",
      "  ' that document to Beautiful Soup.' % decoded_markup\n"
     ]
    },
    {
     "name": "stdout",
     "output_type": "stream",
     "text": [
      "Processed 27500 text/titles\n",
      "Processed 28000 text/titles\n",
      "Processed 28500 text/titles\n",
      "Processed 29000 text/titles\n",
      "Processed 29500 text/titles\n",
      "Processed 30000 text/titles\n",
      "Processed 30500 text/titles\n",
      "Processed 31000 text/titles\n",
      "Processed 31500 text/titles\n"
     ]
    },
    {
     "name": "stderr",
     "output_type": "stream",
     "text": [
      "/usr/local/lib/python3.6/dist-packages/bs4/__init__.py:336: UserWarning: \"https://icoratingblog.wordpress.com/2017/12/05/first-blog-post/\" looks like a URL. Beautiful Soup is not an HTTP client. You should probably use an HTTP client like requests to get the document behind the URL, and feed that document to Beautiful Soup.\n",
      "  ' that document to Beautiful Soup.' % decoded_markup\n"
     ]
    },
    {
     "name": "stdout",
     "output_type": "stream",
     "text": [
      "Processed 32000 text/titles\n",
      "Processed 32500 text/titles\n",
      "Processed 33000 text/titles\n"
     ]
    },
    {
     "name": "stderr",
     "output_type": "stream",
     "text": [
      "/usr/local/lib/python3.6/dist-packages/bs4/__init__.py:336: UserWarning: \"https://blog.juecell.in/2018/08/artificial-intelligence-living-with.html?m=1\" looks like a URL. Beautiful Soup is not an HTTP client. You should probably use an HTTP client like requests to get the document behind the URL, and feed that document to Beautiful Soup.\n",
      "  ' that document to Beautiful Soup.' % decoded_markup\n"
     ]
    },
    {
     "name": "stdout",
     "output_type": "stream",
     "text": [
      "Processed 33500 text/titles\n",
      "Processed 34000 text/titles\n",
      "Processed 34500 text/titles\n",
      "Processed 35000 text/titles\n",
      "Processed 35500 text/titles\n",
      "Processed 36000 text/titles\n",
      "Processed 36500 text/titles\n",
      "Processed 37000 text/titles\n",
      "Processed 37500 text/titles\n",
      "Processed 38000 text/titles\n",
      "Processed 38500 text/titles\n",
      "Processed 39000 text/titles\n"
     ]
    },
    {
     "name": "stderr",
     "output_type": "stream",
     "text": [
      "/usr/local/lib/python3.6/dist-packages/bs4/__init__.py:336: UserWarning: \"https://knowledgebuilderblog.wordpress.com/\" looks like a URL. Beautiful Soup is not an HTTP client. You should probably use an HTTP client like requests to get the document behind the URL, and feed that document to Beautiful Soup.\n",
      "  ' that document to Beautiful Soup.' % decoded_markup\n"
     ]
    },
    {
     "name": "stdout",
     "output_type": "stream",
     "text": [
      "Processed 39500 text/titles\n",
      "Processed 40000 text/titles\n",
      "Processed 40500 text/titles\n",
      "Processed 41000 text/titles\n",
      "Processed 41500 text/titles\n",
      "Processed 42000 text/titles\n",
      "Processed 42500 text/titles\n",
      "Processed 43000 text/titles\n",
      "Processed 43500 text/titles\n",
      "Processed 44000 text/titles\n",
      "Processed 44500 text/titles\n",
      "Processed 45000 text/titles\n"
     ]
    },
    {
     "name": "stderr",
     "output_type": "stream",
     "text": [
      "/usr/local/lib/python3.6/dist-packages/bs4/__init__.py:336: UserWarning: \"http://www.order4trial.com/\" looks like a URL. Beautiful Soup is not an HTTP client. You should probably use an HTTP client like requests to get the document behind the URL, and feed that document to Beautiful Soup.\n",
      "  ' that document to Beautiful Soup.' % decoded_markup\n",
      "/usr/local/lib/python3.6/dist-packages/bs4/__init__.py:336: UserWarning: \"https://www.xploree.com/newsletters/april2018/\" looks like a URL. Beautiful Soup is not an HTTP client. You should probably use an HTTP client like requests to get the document behind the URL, and feed that document to Beautiful Soup.\n",
      "  ' that document to Beautiful Soup.' % decoded_markup\n"
     ]
    },
    {
     "name": "stdout",
     "output_type": "stream",
     "text": [
      "Processed 45500 text/titles\n",
      "Processed 46000 text/titles\n",
      "Processed 46500 text/titles\n",
      "Processed 47000 text/titles\n",
      "Processed 47500 text/titles\n"
     ]
    },
    {
     "name": "stderr",
     "output_type": "stream",
     "text": [
      "/usr/local/lib/python3.6/dist-packages/bs4/__init__.py:336: UserWarning: \"http://smartceo.co/while-you-were-typing/\" looks like a URL. Beautiful Soup is not an HTTP client. You should probably use an HTTP client like requests to get the document behind the URL, and feed that document to Beautiful Soup.\n",
      "  ' that document to Beautiful Soup.' % decoded_markup\n"
     ]
    },
    {
     "name": "stdout",
     "output_type": "stream",
     "text": [
      "Processed 48000 text/titles\n",
      "Processed 48500 text/titles\n",
      "Processed 49000 text/titles\n",
      "Processed 49500 text/titles\n"
     ]
    },
    {
     "name": "stderr",
     "output_type": "stream",
     "text": [
      "/usr/local/lib/python3.6/dist-packages/bs4/__init__.py:336: UserWarning: \"https://www.gobeyond.ai/\" looks like a URL. Beautiful Soup is not an HTTP client. You should probably use an HTTP client like requests to get the document behind the URL, and feed that document to Beautiful Soup.\n",
      "  ' that document to Beautiful Soup.' % decoded_markup\n"
     ]
    },
    {
     "name": "stdout",
     "output_type": "stream",
     "text": [
      "Processed 50000 text/titles\n",
      "Processed 50500 text/titles\n",
      "Processed 51000 text/titles\n",
      "Processed 51500 text/titles\n"
     ]
    },
    {
     "name": "stderr",
     "output_type": "stream",
     "text": [
      "/usr/local/lib/python3.6/dist-packages/bs4/__init__.py:336: UserWarning: \"https://www.bigdataguys.com/Training/deep-learning-tensorflow-projects/\" looks like a URL. Beautiful Soup is not an HTTP client. You should probably use an HTTP client like requests to get the document behind the URL, and feed that document to Beautiful Soup.\n",
      "  ' that document to Beautiful Soup.' % decoded_markup\n"
     ]
    },
    {
     "name": "stdout",
     "output_type": "stream",
     "text": [
      "Processed 52000 text/titles\n",
      "Processed 52500 text/titles\n"
     ]
    },
    {
     "name": "stderr",
     "output_type": "stream",
     "text": [
      "/usr/local/lib/python3.6/dist-packages/bs4/__init__.py:336: UserWarning: \"https://icoratingblog.wordpress.com/2017/12/07/ico-rating-3/\" looks like a URL. Beautiful Soup is not an HTTP client. You should probably use an HTTP client like requests to get the document behind the URL, and feed that document to Beautiful Soup.\n",
      "  ' that document to Beautiful Soup.' % decoded_markup\n"
     ]
    },
    {
     "name": "stdout",
     "output_type": "stream",
     "text": [
      "Processed 53000 text/titles\n",
      "Processed 53500 text/titles\n",
      "Processed 54000 text/titles\n",
      "Processed 54500 text/titles\n",
      "Processed 55000 text/titles\n",
      "Processed 55500 text/titles\n",
      "Processed 56000 text/titles\n",
      "Processed 56500 text/titles\n",
      "Processed 57000 text/titles\n",
      "Processed 57500 text/titles\n",
      "Processed 58000 text/titles\n",
      "Processed 58500 text/titles\n",
      "Processed 59000 text/titles\n",
      "Processed 59500 text/titles\n",
      "Processed 60000 text/titles\n",
      "Processed 60500 text/titles\n",
      "Processed 61000 text/titles\n",
      "Processed 61500 text/titles\n",
      "Processed 62000 text/titles\n",
      "Processed 62500 text/titles\n",
      "Processed 63000 text/titles\n",
      "Processed 63500 text/titles\n",
      "Processed 64000 text/titles\n",
      "DONE\n",
      "****************************************\n"
     ]
    }
   ],
   "source": [
    "title = clean_text(df.title)"
   ]
  },
  {
   "cell_type": "code",
   "execution_count": 48,
   "metadata": {
    "colab": {},
    "colab_type": "code",
    "id": "xEGIJuxXIo6X"
   },
   "outputs": [],
   "source": [
    "# Undo the tokenization and put the data into a new column in the data frame.\n",
    "from nltk.tokenize.treebank import TreebankWordDetokenizer\n",
    "\n",
    "df['text'] = [TreebankWordDetokenizer().detokenize(word) for word in text]\n",
    "df['title'] = [TreebankWordDetokenizer().detokenize(wrd) for wrd in title]"
   ]
  },
  {
   "cell_type": "markdown",
   "metadata": {
    "colab_type": "text",
    "id": "valKyKUDxhd4"
   },
   "source": [
    "**2.2 Dictionary based Sentiment Analyser**"
   ]
  },
  {
   "cell_type": "code",
   "execution_count": 49,
   "metadata": {
    "colab": {},
    "colab_type": "code",
    "id": "3DEWt3ctPE4k"
   },
   "outputs": [],
   "source": [
    "# We conduct a simple dictionary based sentiment anlysis by using the the package Blob  \n",
    "from textblob import TextBlob\n",
    "# Defining a sentiment analyser function\n",
    "def sentiment_analyser(text):\n",
    "    return text.apply(lambda Text: pd.Series(TextBlob(Text).sentiment.polarity))\n",
    "\n",
    "# Applying function to reviews\n",
    "df['Polarity'] = sentiment_analyser(df['text'])"
   ]
  },
  {
   "cell_type": "code",
   "execution_count": 50,
   "metadata": {
    "colab": {},
    "colab_type": "code",
    "id": "gewQwJLz7hFS"
   },
   "outputs": [],
   "source": [
    "# Store dataframe to disk\n",
    "file_name = 'df_0823.pkl'\n",
    "df.to_pickle(path + file_name)"
   ]
  },
  {
   "cell_type": "code",
   "execution_count": 3,
   "metadata": {
    "colab": {},
    "colab_type": "code",
    "id": "gjMqhmTd7r5c"
   },
   "outputs": [],
   "source": [
    "# Load dataframe from disk\n",
    "file_name = 'df_0823.pkl'\n",
    "df = pd.read_pickle(path + file_name)"
   ]
  },
  {
   "cell_type": "markdown",
   "metadata": {
    "colab_type": "text",
    "id": "n9zwuYh6w8FX"
   },
   "source": [
    "**2.3 Bag of Words based features**"
   ]
  },
  {
   "cell_type": "code",
   "execution_count": 4,
   "metadata": {
    "colab": {},
    "colab_type": "code",
    "id": "dyOMdFW70muS"
   },
   "outputs": [],
   "source": [
    "#splitting into train and test data\n",
    "x_train, x_test, y_train, y_test = train_test_split(df, np.ravel(df.totalClapCount), test_size=0.2, random_state=42)"
   ]
  },
  {
   "cell_type": "code",
   "execution_count": 5,
   "metadata": {
    "colab": {},
    "colab_type": "code",
    "id": "yVvh9b8TNlqK"
   },
   "outputs": [],
   "source": [
    "# Function to count words\n",
    "# This code is adapted from a kaggle post by Hsankesara (2018)\n",
    "def get_words_count(df, col):\n",
    "    words_count = {}\n",
    "    m = df.shape[0]\n",
    "    for i in range(m):\n",
    "        words = df[col].iat[i].split()\n",
    "        for word in words:\n",
    "            if word.lower() in words_count:\n",
    "                words_count[word.lower()] += 1\n",
    "            else:\n",
    "                words_count[word.lower()] = 1\n",
    "    return words_count"
   ]
  },
  {
   "cell_type": "code",
   "execution_count": 6,
   "metadata": {
    "colab": {},
    "colab_type": "code",
    "id": "TgR7EowpNlqg"
   },
   "outputs": [],
   "source": [
    "title_words = get_words_count(x_train, 'title')\n",
    "\n",
    "text_words = get_words_count(x_train, 'text')"
   ]
  },
  {
   "cell_type": "code",
   "execution_count": 7,
   "metadata": {
    "colab": {},
    "colab_type": "code",
    "id": "xhHocr6_Nlqr"
   },
   "outputs": [],
   "source": [
    "title_words_df = pd.DataFrame(list(title_words.items()), columns=['words', 'count'])\n",
    "\n",
    "text_words_df = pd.DataFrame(list(text_words.items()), columns=['words', 'count'])"
   ]
  },
  {
   "cell_type": "code",
   "execution_count": 8,
   "metadata": {
    "colab": {
     "base_uri": "https://localhost:8080/",
     "height": 520
    },
    "colab_type": "code",
    "id": "BLB-nXryNlqx",
    "outputId": "3ac00dcc-fb6c-4928-a95b-8dcf9a592170"
   },
   "outputs": [
    {
     "data": {
      "text/html": [
       "<div>\n",
       "<style scoped>\n",
       "    .dataframe tbody tr th:only-of-type {\n",
       "        vertical-align: middle;\n",
       "    }\n",
       "\n",
       "    .dataframe tbody tr th {\n",
       "        vertical-align: top;\n",
       "    }\n",
       "\n",
       "    .dataframe thead th {\n",
       "        text-align: right;\n",
       "    }\n",
       "</style>\n",
       "<table border=\"1\" class=\"dataframe\">\n",
       "  <thead>\n",
       "    <tr style=\"text-align: right;\">\n",
       "      <th></th>\n",
       "      <th>words</th>\n",
       "      <th>count</th>\n",
       "    </tr>\n",
       "  </thead>\n",
       "  <tbody>\n",
       "    <tr>\n",
       "      <th>35</th>\n",
       "      <td>ai</td>\n",
       "      <td>8394</td>\n",
       "    </tr>\n",
       "    <tr>\n",
       "      <th>151</th>\n",
       "      <td>learn</td>\n",
       "      <td>6488</td>\n",
       "    </tr>\n",
       "    <tr>\n",
       "      <th>20</th>\n",
       "      <td>data</td>\n",
       "      <td>6032</td>\n",
       "    </tr>\n",
       "    <tr>\n",
       "      <th>150</th>\n",
       "      <td>machine</td>\n",
       "      <td>4442</td>\n",
       "    </tr>\n",
       "    <tr>\n",
       "      <th>50</th>\n",
       "      <td>intelligence</td>\n",
       "      <td>3591</td>\n",
       "    </tr>\n",
       "    <tr>\n",
       "      <th>49</th>\n",
       "      <td>artificial</td>\n",
       "      <td>3357</td>\n",
       "    </tr>\n",
       "    <tr>\n",
       "      <th>132</th>\n",
       "      <td>use</td>\n",
       "      <td>2487</td>\n",
       "    </tr>\n",
       "    <tr>\n",
       "      <th>21</th>\n",
       "      <td>science</td>\n",
       "      <td>1993</td>\n",
       "    </tr>\n",
       "    <tr>\n",
       "      <th>13</th>\n",
       "      <td>part</td>\n",
       "      <td>1826</td>\n",
       "    </tr>\n",
       "    <tr>\n",
       "      <th>273</th>\n",
       "      <td>deep</td>\n",
       "      <td>1591</td>\n",
       "    </tr>\n",
       "    <tr>\n",
       "      <th>85</th>\n",
       "      <td>future</td>\n",
       "      <td>1563</td>\n",
       "    </tr>\n",
       "    <tr>\n",
       "      <th>82</th>\n",
       "      <td>new</td>\n",
       "      <td>1441</td>\n",
       "    </tr>\n",
       "    <tr>\n",
       "      <th>98</th>\n",
       "      <td>network</td>\n",
       "      <td>1212</td>\n",
       "    </tr>\n",
       "    <tr>\n",
       "      <th>87</th>\n",
       "      <td>technology</td>\n",
       "      <td>1077</td>\n",
       "    </tr>\n",
       "    <tr>\n",
       "      <th>101</th>\n",
       "      <td>human</td>\n",
       "      <td>1068</td>\n",
       "    </tr>\n",
       "  </tbody>\n",
       "</table>\n",
       "</div>"
      ],
      "text/plain": [
       "            words  count\n",
       "35             ai   8394\n",
       "151         learn   6488\n",
       "20           data   6032\n",
       "150       machine   4442\n",
       "50   intelligence   3591\n",
       "49     artificial   3357\n",
       "132           use   2487\n",
       "21        science   1993\n",
       "13           part   1826\n",
       "273          deep   1591\n",
       "85         future   1563\n",
       "82            new   1441\n",
       "98        network   1212\n",
       "87     technology   1077\n",
       "101         human   1068"
      ]
     },
     "execution_count": 8,
     "metadata": {
      "tags": []
     },
     "output_type": "execute_result"
    }
   ],
   "source": [
    "## List of 15 most frequent words occurred in title\n",
    "title_words_df.sort_values(by='count', ascending=False).head(15)"
   ]
  },
  {
   "cell_type": "code",
   "execution_count": 375,
   "metadata": {
    "colab": {
     "base_uri": "https://localhost:8080/",
     "height": 238
    },
    "colab_type": "code",
    "id": "VuCLNXdEfrhb",
    "outputId": "ee2f05b9-8b4a-4926-9848-a1dc0b278ebc"
   },
   "outputs": [
    {
     "data": {
      "text/plain": [
       "<Figure size 600x400 with 0 Axes>"
      ]
     },
     "metadata": {
      "tags": []
     },
     "output_type": "display_data"
    },
    {
     "data": {
      "image/png": "[encoded data removed]",
      "text/plain": [
       "<Figure size 432x864 with 1 Axes>"
      ]
     },
     "metadata": {
      "needs_background": "light",
      "tags": []
     },
     "output_type": "display_data"
    }
   ],
   "source": [
    "#Nicely displayed in a WordCloud\n",
    "from wordcloud import WordCloud\n",
    "fig = plt.figure(dpi=100)\n",
    "a4_dims = (6, 12)\n",
    "fig, ax = plt.subplots(figsize=a4_dims)\n",
    "wordcloud = WordCloud(background_color ='white', max_words=200,max_font_size=40,random_state=3).generate(str(title_words_df.sort_values(by='count', ascending=False)['words'].values[:15]))\n",
    "plt.imshow(wordcloud)\n",
    "plt.title = 'Top Word in the title of Medium Articles'\n",
    "plt.show()"
   ]
  },
  {
   "cell_type": "code",
   "execution_count": 376,
   "metadata": {
    "colab": {
     "base_uri": "https://localhost:8080/",
     "height": 520
    },
    "colab_type": "code",
    "id": "gWXO_2bwjM6U",
    "outputId": "19d58b55-90d9-468e-f456-532b443b18e8"
   },
   "outputs": [
    {
     "data": {
      "text/html": [
       "<div>\n",
       "<style scoped>\n",
       "    .dataframe tbody tr th:only-of-type {\n",
       "        vertical-align: middle;\n",
       "    }\n",
       "\n",
       "    .dataframe tbody tr th {\n",
       "        vertical-align: top;\n",
       "    }\n",
       "\n",
       "    .dataframe thead th {\n",
       "        text-align: right;\n",
       "    }\n",
       "</style>\n",
       "<table border=\"1\" class=\"dataframe\">\n",
       "  <thead>\n",
       "    <tr style=\"text-align: right;\">\n",
       "      <th></th>\n",
       "      <th>words</th>\n",
       "      <th>count</th>\n",
       "    </tr>\n",
       "  </thead>\n",
       "  <tbody>\n",
       "    <tr>\n",
       "      <th>172</th>\n",
       "      <td>data</td>\n",
       "      <td>235009</td>\n",
       "    </tr>\n",
       "    <tr>\n",
       "      <th>181</th>\n",
       "      <td>use</td>\n",
       "      <td>149626</td>\n",
       "    </tr>\n",
       "    <tr>\n",
       "      <th>141</th>\n",
       "      <td>learn</td>\n",
       "      <td>147307</td>\n",
       "    </tr>\n",
       "    <tr>\n",
       "      <th>95</th>\n",
       "      <td>ai</td>\n",
       "      <td>146450</td>\n",
       "    </tr>\n",
       "    <tr>\n",
       "      <th>849</th>\n",
       "      <td>machine</td>\n",
       "      <td>92860</td>\n",
       "    </tr>\n",
       "    <tr>\n",
       "      <th>503</th>\n",
       "      <td>make</td>\n",
       "      <td>87766</td>\n",
       "    </tr>\n",
       "    <tr>\n",
       "      <th>161</th>\n",
       "      <td>one</td>\n",
       "      <td>83464</td>\n",
       "    </tr>\n",
       "    <tr>\n",
       "      <th>1479</th>\n",
       "      <td>model</td>\n",
       "      <td>78784</td>\n",
       "    </tr>\n",
       "    <tr>\n",
       "      <th>296</th>\n",
       "      <td>time</td>\n",
       "      <td>78019</td>\n",
       "    </tr>\n",
       "    <tr>\n",
       "      <th>56</th>\n",
       "      <td>like</td>\n",
       "      <td>69431</td>\n",
       "    </tr>\n",
       "    <tr>\n",
       "      <th>27</th>\n",
       "      <td>work</td>\n",
       "      <td>67173</td>\n",
       "    </tr>\n",
       "    <tr>\n",
       "      <th>93</th>\n",
       "      <td>human</td>\n",
       "      <td>62769</td>\n",
       "    </tr>\n",
       "    <tr>\n",
       "      <th>106</th>\n",
       "      <td>new</td>\n",
       "      <td>62254</td>\n",
       "    </tr>\n",
       "    <tr>\n",
       "      <th>5</th>\n",
       "      <td>get</td>\n",
       "      <td>61730</td>\n",
       "    </tr>\n",
       "    <tr>\n",
       "      <th>280</th>\n",
       "      <td>need</td>\n",
       "      <td>60956</td>\n",
       "    </tr>\n",
       "  </tbody>\n",
       "</table>\n",
       "</div>"
      ],
      "text/plain": [
       "        words   count\n",
       "172      data  235009\n",
       "181       use  149626\n",
       "141     learn  147307\n",
       "95         ai  146450\n",
       "849   machine   92860\n",
       "503      make   87766\n",
       "161       one   83464\n",
       "1479    model   78784\n",
       "296      time   78019\n",
       "56       like   69431\n",
       "27       work   67173\n",
       "93      human   62769\n",
       "106       new   62254\n",
       "5         get   61730\n",
       "280      need   60956"
      ]
     },
     "execution_count": 376,
     "metadata": {
      "tags": []
     },
     "output_type": "execute_result"
    }
   ],
   "source": [
    "## List of 15 most frequent words occurred in text\n",
    "text_words_df.sort_values(by='count', ascending=False).head(15)"
   ]
  },
  {
   "cell_type": "code",
   "execution_count": 9,
   "metadata": {
    "colab": {},
    "colab_type": "code",
    "id": "FBy2WlNPNlq6"
   },
   "outputs": [],
   "source": [
    "top_title_words = title_words_df.sort_values(by='count', ascending=False)['words'].values[:15]\n",
    "top_text_words = text_words_df.sort_values(by='count', ascending=False)['words'].values[:15]"
   ]
  },
  {
   "cell_type": "code",
   "execution_count": 10,
   "metadata": {
    "colab": {
     "base_uri": "https://localhost:8080/",
     "height": 486
    },
    "colab_type": "code",
    "id": "LsufdKEENlrB",
    "outputId": "b5b31fd1-856e-4ff9-ec2d-70079e68488b"
   },
   "outputs": [
    {
     "name": "stderr",
     "output_type": "stream",
     "text": [
      "/usr/local/lib/python3.6/dist-packages/ipykernel_launcher.py:2: SettingWithCopyWarning: \n",
      "A value is trying to be set on a copy of a slice from a DataFrame.\n",
      "Try using .loc[row_indexer,col_indexer] = value instead\n",
      "\n",
      "See the caveats in the documentation: https://pandas.pydata.org/pandas-docs/stable/user_guide/indexing.html#returning-a-view-versus-a-copy\n",
      "  \n",
      "/usr/local/lib/python3.6/dist-packages/ipykernel_launcher.py:3: SettingWithCopyWarning: \n",
      "A value is trying to be set on a copy of a slice from a DataFrame.\n",
      "Try using .loc[row_indexer,col_indexer] = value instead\n",
      "\n",
      "See the caveats in the documentation: https://pandas.pydata.org/pandas-docs/stable/user_guide/indexing.html#returning-a-view-versus-a-copy\n",
      "  This is separate from the ipykernel package so we can avoid doing imports until\n",
      "/usr/local/lib/python3.6/dist-packages/ipykernel_launcher.py:5: SettingWithCopyWarning: \n",
      "A value is trying to be set on a copy of a slice from a DataFrame.\n",
      "Try using .loc[row_indexer,col_indexer] = value instead\n",
      "\n",
      "See the caveats in the documentation: https://pandas.pydata.org/pandas-docs/stable/user_guide/indexing.html#returning-a-view-versus-a-copy\n",
      "  \"\"\"\n",
      "/usr/local/lib/python3.6/dist-packages/ipykernel_launcher.py:6: SettingWithCopyWarning: \n",
      "A value is trying to be set on a copy of a slice from a DataFrame.\n",
      "Try using .loc[row_indexer,col_indexer] = value instead\n",
      "\n",
      "See the caveats in the documentation: https://pandas.pydata.org/pandas-docs/stable/user_guide/indexing.html#returning-a-view-versus-a-copy\n",
      "  \n"
     ]
    }
   ],
   "source": [
    "## Count occurence of top fiveteen words in every title in dataframe\n",
    "x_train['top_title_count'] = x_train['title'].apply(lambda s: sum(s.count(top_title_words[i]) for  i in range(15)))\n",
    "x_train['top_text_count'] = x_train['text'].apply(lambda s: sum(s.count(top_text_words[i]) for  i in range(15)))\n",
    "\n",
    "x_test['top_title_count'] = x_test['title'].apply(lambda s: sum(s.count(top_title_words[i]) for  i in range(15)))\n",
    "x_test['top_text_count'] = x_test['text'].apply(lambda s: sum(s.count(top_text_words[i]) for  i in range(15)))"
   ]
  },
  {
   "cell_type": "markdown",
   "metadata": {
    "colab_type": "text",
    "id": "aaBQCQ8WTNMq"
   },
   "source": [
    "**2.4 Topic modeling with Word2Vec**\n",
    "\n",
    "Topic models help us to explore the structure of our documents by clustering the articles based on the words that occur in them.\n",
    "\n",
    "There are many different approaches to model topics. In this part, we will model topics based on Word2Vec. In the course of this, we will give a little introduction into Word2Vec. An alternative approach, namely Latent Dirichlet Allocation (LDA), applied to our data can be found in Appendix 1 (including very nice interactive topic visualization).\n",
    "\n",
    "Word2vec consists of many two-layer neural networks (note: shallow not deep NN) that are trained to produce word embeddings. Word embeddings are vectors where words are represented as real-valued vector in the predefined vector space. As Word2vec captures the context of words, the word vectors are positioned in a way that words with shared context are located close to one another in the vector space (Goldberg & Levy 2014).\n",
    "\n",
    "To produce word embeddings Word2vec can utilize two different model architectures: continuous bag-of-word model (CBOW) or skip-gram. The difference between CBOW and skip-gram is whether the context word is at the input layer (-> CBOW) or on the output layer (skip-gram) (Rong 2014).\n",
    "\n",
    "Since it is supposed to be faster, we focus on Word2Vec with CBOW in this part.\n",
    "\n",
    "![alt text](https://drive.google.com/uc?export=view&id=10jw4Pq6QJcAplGRGNqZECO7bvL1_agJL)\n",
    "\n",
    "**Figure 2: CBOW model**\n",
    "\n",
    "Source: Rong, 2014.\n",
    "\n",
    "The vocabulary size is V, and the hidden layer size is N.\n",
    "The input is a one-hot encoded vector, which means for a given input context word, only one units out of {x1,···,xV} will be 1. All other units are 0.\n",
    "Between the input layer and the hidden layer as well as between the hidden layer and the output layer, there is a weight matrix W or W′. Each row of W is the N-dimension vector representation vw of the associated word of the input layer. Since we have more than one context word as input, to compute the hidden layer output, the CBOW model takes the average of the vectors of the input context words (Rong 2014).\n",
    "\n",
    "In contrast to our final model, we will not draw on a pretrained model for this task. Instead we will build the model from scratch based on the vocubalary of our articles.\n"
   ]
  },
  {
   "cell_type": "code",
   "execution_count": 11,
   "metadata": {
    "colab": {},
    "colab_type": "code",
    "id": "-veffwQdW-uy"
   },
   "outputs": [],
   "source": [
    "import numpy as np\n",
    "import gensim\n",
    "import matplotlib.pyplot as plt\n",
    "import seaborn as sns\n",
    "\n",
    "from collections import defaultdict"
   ]
  },
  {
   "cell_type": "code",
   "execution_count": 12,
   "metadata": {
    "colab": {},
    "colab_type": "code",
    "id": "O_0iPKHfTjue"
   },
   "outputs": [],
   "source": [
    "#Our yet empty corpus (= collection of text sources) needs to be fed with tokens\n",
    "def tokenize(df):\n",
    "    tokens = []\n",
    "    for article in df:\n",
    "        # tokenize the sentences\n",
    "        words = word_tokenize(article.lower())\n",
    "        tokens.append(words)\n",
    "    return(tokens) "
   ]
  },
  {
   "cell_type": "code",
   "execution_count": null,
   "metadata": {
    "colab": {},
    "colab_type": "code",
    "id": "bGe-77lmVU-5"
   },
   "outputs": [],
   "source": [
    "corpus = tokenize(x_train.text)"
   ]
  },
  {
   "cell_type": "code",
   "execution_count": null,
   "metadata": {
    "colab": {},
    "colab_type": "code",
    "id": "iy1oBdlAX8Gk"
   },
   "outputs": [],
   "source": [
    "#with the gensim library, we can construct our model\n",
    "model = gensim.models.Word2Vec(corpus, size=100, window=3, min_count=50, sg=0, workers=4)\n",
    "# Hyperparamters: size = dimensionality of the word , window = maximum distance between the current and predicted word within a sentence,\n",
    "# min_count = ignores all words with total frequency lower than this, # sg = training algorithm - 1 for skip-gram; otherwise CBOW,\n",
    "#workers = number of workers for multicore machine training"
   ]
  },
  {
   "cell_type": "code",
   "execution_count": null,
   "metadata": {
    "colab": {},
    "colab_type": "code",
    "id": "TnrtZuvEZrxi"
   },
   "outputs": [],
   "source": [
    "#Let us see how well our model works\n",
    "model.most_similar('big')"
   ]
  },
  {
   "cell_type": "code",
   "execution_count": null,
   "metadata": {
    "colab": {},
    "colab_type": "code",
    "id": "UNA-KsKSZ3JX"
   },
   "outputs": [],
   "source": [
    "model.most_similar('science')"
   ]
  },
  {
   "cell_type": "markdown",
   "metadata": {
    "colab_type": "text",
    "id": "ZmoEJ0RFmjta"
   },
   "source": [
    "First impression: Despite the relatively small size of the corpus, our model seems to work well. One last playing around with the model..."
   ]
  },
  {
   "cell_type": "code",
   "execution_count": null,
   "metadata": {
    "colab": {},
    "colab_type": "code",
    "id": "nufki-yZBwLW"
   },
   "outputs": [],
   "source": [
    "print(model.most_similar(positive=['woman', 'king'], negative=['man'], topn=3)) #this is a famous example to show how Word2Vec works\n",
    "#Now trying a new example:\n",
    "print(model.most_similar(positive=['pen', 'code'], negative=['keyboard'], topn=3))"
   ]
  },
  {
   "cell_type": "markdown",
   "metadata": {
    "colab_type": "text",
    "id": "57xFfkH_oCOf"
   },
   "source": [
    "To better understand the spatiality of word embeddings, here is the explanation of what we just did: we started at the 'king'-vector, we added the 'woman'-vector and subtracted the 'man'-vector. The result are words with vectors close to the calculated vector."
   ]
  },
  {
   "cell_type": "code",
   "execution_count": null,
   "metadata": {
    "colab": {},
    "colab_type": "code",
    "id": "cl-Gd-UWaaf0"
   },
   "outputs": [],
   "source": [
    "# Save w2v model\n",
    "with open(path + 'modelw2v.pkl','wb') as file_name:\n",
    "    pickle.dump(model, file_name)"
   ]
  },
  {
   "cell_type": "code",
   "execution_count": 13,
   "metadata": {
    "colab": {},
    "colab_type": "code",
    "id": "oj_klWplbKE7"
   },
   "outputs": [],
   "source": [
    "# Load w2v model\n",
    "with open(path + 'modelw2v.pkl','rb') as file_name:\n",
    "    model = pickle.load(file_name)"
   ]
  },
  {
   "cell_type": "code",
   "execution_count": 382,
   "metadata": {
    "colab": {
     "base_uri": "https://localhost:8080/",
     "height": 36
    },
    "colab_type": "code",
    "id": "3fxucS8Vbr5H",
    "outputId": "5410b5f0-0804-4e79-f9ff-91a43fe1f359"
   },
   "outputs": [
    {
     "name": "stdout",
     "output_type": "stream",
     "text": [
      "12,611 terms in the word2vec vocabulary.\n"
     ]
    }
   ],
   "source": [
    "print(u'{:,} terms in the word2vec vocabulary.'.format(len(model.wv.vocab)))"
   ]
  },
  {
   "cell_type": "code",
   "execution_count": 14,
   "metadata": {
    "colab": {},
    "colab_type": "code",
    "id": "16xG6arWy-ON"
   },
   "outputs": [],
   "source": [
    "#creating some helper dataframes\n",
    "text_train = pd.DataFrame(x_train.text)\n",
    "text_train.columns = ['text']\n",
    "\n",
    "text_test = pd.DataFrame(x_test.text)\n",
    "text_test.columns = ['text']"
   ]
  },
  {
   "cell_type": "code",
   "execution_count": 15,
   "metadata": {
    "colab": {},
    "colab_type": "code",
    "id": "9DdlEuWdFao9"
   },
   "outputs": [],
   "source": [
    "#creating a new class and entitle it with functions\n",
    "class WordVecVectorizer(object):\n",
    "    def __init__(self, model):\n",
    "        self.model = model\n",
    "        self.dim = 100    \n",
    "    def fit(self, X, y):\n",
    "        return self\n",
    "    def transform(self, X):\n",
    "        return np.array([\n",
    "            np.mean([self.model[w] for w in texts.split() if w in self.model]\n",
    "                    or [np.zeros(self.dim)], axis=0)\n",
    "            for texts in X\n",
    "        ])"
   ]
  },
  {
   "cell_type": "code",
   "execution_count": 16,
   "metadata": {
    "colab": {
     "base_uri": "https://localhost:8080/",
     "height": 206
    },
    "colab_type": "code",
    "id": "gL4YrfjcHvk4",
    "outputId": "9e35aee0-a6b7-4685-add0-0adab114c315"
   },
   "outputs": [
    {
     "data": {
      "text/html": [
       "<div>\n",
       "<style scoped>\n",
       "    .dataframe tbody tr th:only-of-type {\n",
       "        vertical-align: middle;\n",
       "    }\n",
       "\n",
       "    .dataframe tbody tr th {\n",
       "        vertical-align: top;\n",
       "    }\n",
       "\n",
       "    .dataframe thead th {\n",
       "        text-align: right;\n",
       "    }\n",
       "</style>\n",
       "<table border=\"1\" class=\"dataframe\">\n",
       "  <thead>\n",
       "    <tr style=\"text-align: right;\">\n",
       "      <th></th>\n",
       "      <th>text</th>\n",
       "    </tr>\n",
       "  </thead>\n",
       "  <tbody>\n",
       "    <tr>\n",
       "      <th>46809</th>\n",
       "      <td>real question physical digital divide get blur...</td>\n",
       "    </tr>\n",
       "    <tr>\n",
       "      <th>21524</th>\n",
       "      <td>k mean cluster pair selection python part seri...</td>\n",
       "    </tr>\n",
       "    <tr>\n",
       "      <th>49112</th>\n",
       "      <td>inspem list foxico project successfully list f...</td>\n",
       "    </tr>\n",
       "    <tr>\n",
       "      <th>34871</th>\n",
       "      <td>need know application data science term data s...</td>\n",
       "    </tr>\n",
       "    <tr>\n",
       "      <th>99128</th>\n",
       "      <td>entertainment industry benefit data science qu...</td>\n",
       "    </tr>\n",
       "  </tbody>\n",
       "</table>\n",
       "</div>"
      ],
      "text/plain": [
       "                                                    text\n",
       "46809  real question physical digital divide get blur...\n",
       "21524  k mean cluster pair selection python part seri...\n",
       "49112  inspem list foxico project successfully list f...\n",
       "34871  need know application data science term data s...\n",
       "99128  entertainment industry benefit data science qu..."
      ]
     },
     "execution_count": 16,
     "metadata": {
      "tags": []
     },
     "output_type": "execute_result"
    }
   ],
   "source": [
    "text_train.head()"
   ]
  },
  {
   "cell_type": "code",
   "execution_count": 17,
   "metadata": {
    "colab": {
     "base_uri": "https://localhost:8080/",
     "height": 131
    },
    "colab_type": "code",
    "id": "CjLxsoHCGYDO",
    "outputId": "a160847f-e01b-488c-ea29-c204aae5a2ec"
   },
   "outputs": [
    {
     "name": "stderr",
     "output_type": "stream",
     "text": [
      "/usr/local/lib/python3.6/dist-packages/ipykernel_launcher.py:10: DeprecationWarning: Call to deprecated `__contains__` (Method will be removed in 4.0.0, use self.wv.__contains__() instead).\n",
      "  # Remove the CWD from sys.path while we load stuff.\n",
      "/usr/local/lib/python3.6/dist-packages/ipykernel_launcher.py:10: DeprecationWarning: Call to deprecated `__getitem__` (Method will be removed in 4.0.0, use self.wv.__getitem__() instead).\n",
      "  # Remove the CWD from sys.path while we load stuff.\n"
     ]
    },
    {
     "name": "stdout",
     "output_type": "stream",
     "text": [
      "(51320, 100)\n"
     ]
    }
   ],
   "source": [
    "wtv_vect = WordVecVectorizer(model) #creating our word vector\n",
    "X_train_wtv = wtv_vect.transform(text_train.text)\n",
    "print(X_train_wtv.shape)\n",
    "\n",
    "#for test data\n",
    "X_test_wtv = wtv_vect.transform(text_test.text)"
   ]
  },
  {
   "cell_type": "code",
   "execution_count": 386,
   "metadata": {
    "colab": {
     "base_uri": "https://localhost:8080/",
     "height": 260
    },
    "colab_type": "code",
    "id": "opfs95pUOSun",
    "outputId": "5ae56e2c-184f-4171-c23b-8ec57a6e79af"
   },
   "outputs": [
    {
     "data": {
      "text/plain": [
       "array([[ 6.54049367e-02,  5.13424315e-02, -2.21621007e-01, ...,\n",
       "        -1.66640267e-01,  2.97954325e-02,  4.90585268e-01],\n",
       "       [-5.52853763e-01, -7.25224093e-02, -6.31246209e-01, ...,\n",
       "        -3.15115601e-01, -2.46876910e-01,  2.41931006e-01],\n",
       "       [ 8.33659694e-02,  5.63420951e-01, -5.85730135e-01, ...,\n",
       "         8.17540288e-01,  3.61274093e-01,  1.69470027e-01],\n",
       "       ...,\n",
       "       [-2.61955142e-01, -9.54550356e-02, -1.55759156e-01, ...,\n",
       "        -1.03838570e-01,  2.32327249e-04,  3.82411003e-01],\n",
       "       [ 6.99508190e-02, -1.77830756e-01, -1.54552057e-01, ...,\n",
       "        -4.63827848e-02,  8.83894339e-02,  1.57165855e-01],\n",
       "       [-4.73575711e-01,  3.57513607e-01, -1.40463158e-01, ...,\n",
       "         4.38232243e-01,  4.38237906e-01,  4.42991376e-01]])"
      ]
     },
     "execution_count": 386,
     "metadata": {
      "tags": []
     },
     "output_type": "execute_result"
    }
   ],
   "source": [
    "X_train_wtv #that is how the word vectors look like"
   ]
  },
  {
   "cell_type": "code",
   "execution_count": 18,
   "metadata": {
    "colab": {},
    "colab_type": "code",
    "id": "XSbW1fy9G3rs"
   },
   "outputs": [],
   "source": [
    "# now we need a method to cluster our vectors - we choose KMeans but it could be a different one, too\n",
    "from sklearn.cluster import KMeans\n",
    "km = KMeans(\n",
    "    n_clusters=7, init='random', #we decide for 7 different topics\n",
    "    n_init=10, max_iter=100, \n",
    "    tol=1e-04, random_state=0\n",
    ")\n",
    "y_km = km.fit_predict(X_train_wtv)\n",
    "km_df = pd.DataFrame({'text' :text_train.text, 'topic_cluster' :y_km })\n",
    "\n",
    "\n",
    "y_km_test = km.predict(X_test_wtv)\n",
    "km_df_test = pd.DataFrame({'text' :text_test.text, 'topic_cluster' :y_km_test })"
   ]
  },
  {
   "cell_type": "code",
   "execution_count": 128,
   "metadata": {
    "colab": {
     "base_uri": "https://localhost:8080/",
     "height": 206
    },
    "colab_type": "code",
    "id": "S9a3aW9dPrJj",
    "outputId": "150a6b93-6f87-4df8-8901-c9d7b7c36e73"
   },
   "outputs": [
    {
     "data": {
      "text/html": [
       "<div>\n",
       "<style scoped>\n",
       "    .dataframe tbody tr th:only-of-type {\n",
       "        vertical-align: middle;\n",
       "    }\n",
       "\n",
       "    .dataframe tbody tr th {\n",
       "        vertical-align: top;\n",
       "    }\n",
       "\n",
       "    .dataframe thead th {\n",
       "        text-align: right;\n",
       "    }\n",
       "</style>\n",
       "<table border=\"1\" class=\"dataframe\">\n",
       "  <thead>\n",
       "    <tr style=\"text-align: right;\">\n",
       "      <th></th>\n",
       "      <th>text</th>\n",
       "      <th>topic_cluster</th>\n",
       "    </tr>\n",
       "  </thead>\n",
       "  <tbody>\n",
       "    <tr>\n",
       "      <th>30000</th>\n",
       "      <td>future humanity stay hungry stay human gerd le...</td>\n",
       "      <td>3</td>\n",
       "    </tr>\n",
       "    <tr>\n",
       "      <th>146258</th>\n",
       "      <td>pete kane svai community importance open datas...</td>\n",
       "      <td>4</td>\n",
       "    </tr>\n",
       "    <tr>\n",
       "      <th>4003</th>\n",
       "      <td>robot write blog post melissa chadwick weave w...</td>\n",
       "      <td>3</td>\n",
       "    </tr>\n",
       "    <tr>\n",
       "      <th>153753</th>\n",
       "      <td>connection artificial intelligence conversatio...</td>\n",
       "      <td>0</td>\n",
       "    </tr>\n",
       "    <tr>\n",
       "      <th>206115</th>\n",
       "      <td>reddit com r antisemitism unsupervised learn p...</td>\n",
       "      <td>5</td>\n",
       "    </tr>\n",
       "  </tbody>\n",
       "</table>\n",
       "</div>"
      ],
      "text/plain": [
       "                                                     text  topic_cluster\n",
       "30000   future humanity stay hungry stay human gerd le...              3\n",
       "146258  pete kane svai community importance open datas...              4\n",
       "4003    robot write blog post melissa chadwick weave w...              3\n",
       "153753  connection artificial intelligence conversatio...              0\n",
       "206115  reddit com r antisemitism unsupervised learn p...              5"
      ]
     },
     "execution_count": 128,
     "metadata": {
      "tags": []
     },
     "output_type": "execute_result"
    }
   ],
   "source": [
    "km_df_test.head()"
   ]
  },
  {
   "cell_type": "code",
   "execution_count": 19,
   "metadata": {
    "colab": {},
    "colab_type": "code",
    "id": "WNLFJR-mUQ5_"
   },
   "outputs": [],
   "source": [
    "# We want to have a look into the different topics we found\n",
    "def get_top_n_words(corpus, n=10):\n",
    "  vec = CountVectorizer(stop_words='english').fit(corpus)\n",
    "  bag_of_words = vec.transform(corpus)\n",
    "  sum_words = bag_of_words.sum(axis=0) \n",
    "  words_freq = [(word, sum_words[0, idx]) for word, idx in vec.vocabulary_.items()]\n",
    "  words_freq =sorted(words_freq, key = lambda x: x[1], reverse=True)\n",
    "  return words_freq[:n]\n",
    "\n"
   ]
  },
  {
   "cell_type": "code",
   "execution_count": 130,
   "metadata": {
    "colab": {
     "base_uri": "https://localhost:8080/",
     "height": 1000
    },
    "colab_type": "code",
    "id": "-gGkdS5jUz7X",
    "outputId": "936b020e-c0a7-464b-e338-e0739a88622f"
   },
   "outputs": [
    {
     "data": {
      "image/png": "[encoded data removed]",
      "text/plain": [
       "<Figure size 1152x2304 with 8 Axes>"
      ]
     },
     "metadata": {
      "needs_background": "light",
      "tags": []
     },
     "output_type": "display_data"
    }
   ],
   "source": [
    "words = []\n",
    "word_values = []\n",
    "for i,j in get_top_n_words(km_df[km_df['topic_cluster'] == 0]['text'],15):\n",
    "  words.append(i)\n",
    "  word_values.append(j)\n",
    "\n",
    "words1 = []\n",
    "word_values1 = []\n",
    "for i,j in get_top_n_words(km_df[km_df['topic_cluster'] == 1]['text'],15):\n",
    "  words1.append(i)\n",
    "  word_values1.append(j)\n",
    "\n",
    "words2 = []\n",
    "word_values2 = []\n",
    "for i,j in get_top_n_words(km_df[km_df['topic_cluster'] == 2]['text'],15):\n",
    "  words2.append(i)\n",
    "  word_values2.append(j)\n",
    "\n",
    "words3 = []\n",
    "word_values3 = []\n",
    "for i,j in get_top_n_words(km_df[km_df['topic_cluster'] == 3]['text'],15):\n",
    "  words3.append(i)\n",
    "  word_values3.append(j)\n",
    "\n",
    "words4 = []\n",
    "word_values4 = []\n",
    "for i,j in get_top_n_words(km_df[km_df['topic_cluster'] == 4]['text'],15):\n",
    "  words4.append(i)\n",
    "  word_values4.append(j)\n",
    "\n",
    "words5 = []\n",
    "word_values5 = []\n",
    "for i,j in get_top_n_words(km_df[km_df['topic_cluster'] == 5]['text'],15):\n",
    "  words5.append(i)\n",
    "  word_values5.append(j)\n",
    "\n",
    "words6 = []\n",
    "word_values6 = []\n",
    "for i,j in get_top_n_words(km_df[km_df['topic_cluster'] == 6]['text'],15):\n",
    "  words6.append(i)\n",
    "  word_values6.append(j)\n",
    "\n",
    "fig, axs = plt.subplots(4, 2, figsize=(16,32))\n",
    "axs[0, 0].bar(range(len(words)), word_values);\n",
    "axs[0, 0].set_xticks(range(len(words)));\n",
    "axs[0, 0].set_xticklabels(words, rotation='vertical');\n",
    "axs[0, 0].set_title('Top words in headlines belonging to cluster 0');\n",
    "axs[0, 0].set_xlabel('Word');\n",
    "axs[0, 0].set_ylabel('Number of occurences');\n",
    "axs[0, 1].bar(range(len(words1)), word_values1);\n",
    "axs[0, 1].set_xticks(range(len(words1)));\n",
    "axs[0, 1].set_xticklabels(words1, rotation='vertical');\n",
    "axs[0, 1].set_title('Top words in headlines belonging to cluster 1');\n",
    "axs[0, 1].set_xlabel('Word');\n",
    "axs[0, 1].set_ylabel('Number of occurences');\n",
    "axs[1, 0].bar(range(len(words2)), word_values2);\n",
    "axs[1, 0].set_xticks(range(len(words1)));\n",
    "axs[1, 0].set_xticklabels(words2, rotation='vertical');\n",
    "axs[1, 0].set_title('Top words in headlines belonging to cluster 2');\n",
    "axs[1, 0].set_xlabel('Word');\n",
    "axs[1, 0].set_ylabel('Number of occurences');\n",
    "axs[1, 1].bar(range(len(words3)), word_values3);\n",
    "axs[1, 1].set_xticks(range(len(words3)));\n",
    "axs[1, 1].set_xticklabels(words3, rotation='vertical');\n",
    "axs[1, 1].set_title('Top words in headlines belonging to cluster 3');\n",
    "axs[1, 1].set_xlabel('Word');\n",
    "axs[1, 1].set_ylabel('Number of occurences');\n",
    "axs[2, 0].bar(range(len(words4)), word_values4);\n",
    "axs[2, 0].set_xticks(range(len(words4)));\n",
    "axs[2, 0].set_xticklabels(words4, rotation='vertical');\n",
    "axs[2, 0].set_title('Top words in headlines belonging to cluster 4');\n",
    "axs[2, 0].set_xlabel('Word');\n",
    "axs[2, 0].set_ylabel('Number of occurences');\n",
    "axs[2, 1].bar(range(len(words5)), word_values5);\n",
    "axs[2, 1].set_xticks(range(len(words5)));\n",
    "axs[2, 1].set_xticklabels(words5, rotation='vertical');\n",
    "axs[2, 1].set_title('Top words in headlines belonging to cluster 5');\n",
    "axs[2, 1].set_xlabel('Word');\n",
    "axs[2, 1].set_ylabel('Number of occurences');\n",
    "axs[3, 0].bar(range(len(words6)), word_values6);\n",
    "axs[3, 0].set_xticks(range(len(words6)));\n",
    "axs[3, 0].set_xticklabels(words6, rotation='vertical');\n",
    "axs[3, 0].set_title('Top words in headlines belonging to cluster 6');\n",
    "axs[3, 0].set_xlabel('Word');\n",
    "axs[3, 0].set_ylabel('Number of occurences');\n",
    "plt.show()\n"
   ]
  },
  {
   "cell_type": "markdown",
   "metadata": {
    "colab_type": "text",
    "id": "LCRz1oHz9xcE"
   },
   "source": [
    "Even though there are some overlaps, it is possible to identify how the 6 clusters differ from each other (e.g. type of data, practice-oriented vs. news-oriented etc.)"
   ]
  },
  {
   "cell_type": "code",
   "execution_count": 20,
   "metadata": {
    "colab": {
     "base_uri": "https://localhost:8080/",
     "height": 261
    },
    "colab_type": "code",
    "id": "GCVij62WynNd",
    "outputId": "7b8927db-e6e6-4243-941a-055d3e53cc8f"
   },
   "outputs": [
    {
     "name": "stderr",
     "output_type": "stream",
     "text": [
      "/usr/local/lib/python3.6/dist-packages/ipykernel_launcher.py:1: SettingWithCopyWarning: \n",
      "A value is trying to be set on a copy of a slice from a DataFrame.\n",
      "Try using .loc[row_indexer,col_indexer] = value instead\n",
      "\n",
      "See the caveats in the documentation: https://pandas.pydata.org/pandas-docs/stable/user_guide/indexing.html#returning-a-view-versus-a-copy\n",
      "  \"\"\"Entry point for launching an IPython kernel.\n",
      "/usr/local/lib/python3.6/dist-packages/ipykernel_launcher.py:3: SettingWithCopyWarning: \n",
      "A value is trying to be set on a copy of a slice from a DataFrame.\n",
      "Try using .loc[row_indexer,col_indexer] = value instead\n",
      "\n",
      "See the caveats in the documentation: https://pandas.pydata.org/pandas-docs/stable/user_guide/indexing.html#returning-a-view-versus-a-copy\n",
      "  This is separate from the ipykernel package so we can avoid doing imports until\n"
     ]
    }
   ],
   "source": [
    "x_train['topic_w2v']=km_df['topic_cluster']\n",
    "\n",
    "x_test['topic_w2v']=km_df_test['topic_cluster']"
   ]
  },
  {
   "cell_type": "markdown",
   "metadata": {
    "colab_type": "text",
    "id": "ENEhOEeyvDO_"
   },
   "source": [
    "# 3. Neural Network Modeling"
   ]
  },
  {
   "cell_type": "code",
   "execution_count": 21,
   "metadata": {
    "colab": {},
    "colab_type": "code",
    "id": "7FtHgkEa5dLq"
   },
   "outputs": [],
   "source": [
    "# Before we start with our basic model, we limit our dataframe to the final input features\n",
    "x_train1=x_train[['responsesCreatedCount', 'len_text', 'imageCount', 'len_title','daysonline', 'top_title_count', 'top_text_count', 'publicationname', 'weekday','Polarity', 'topic_w2v']]\n",
    "\n",
    "x_test1=x_test[['responsesCreatedCount', 'len_text', 'imageCount','len_title','daysonline', 'top_title_count', 'top_text_count', 'publicationname', 'weekday', 'Polarity', 'topic_w2v']]"
   ]
  },
  {
   "cell_type": "code",
   "execution_count": 22,
   "metadata": {
    "colab": {},
    "colab_type": "code",
    "id": "k4DZ7YzLHHPG"
   },
   "outputs": [],
   "source": [
    "cat_columns = ['topic_w2v',  'publicationname', 'weekday']"
   ]
  },
  {
   "cell_type": "code",
   "execution_count": 23,
   "metadata": {
    "colab": {},
    "colab_type": "code",
    "id": "PP0o9G8rHE3I"
   },
   "outputs": [],
   "source": [
    "x_train1 = pd.get_dummies(x_train1, prefix_sep=\"__\",\n",
    "                              columns=cat_columns)"
   ]
  },
  {
   "cell_type": "code",
   "execution_count": 24,
   "metadata": {
    "colab": {},
    "colab_type": "code",
    "id": "c_DoLcOnGcL-"
   },
   "outputs": [],
   "source": [
    "#We create the dummies in the validation set based on the dummies of the training set\n",
    "cat_dummies = [col for col in x_train1 \n",
    "               if \"__\" in col \n",
    "               and col.split(\"__\")[0] in cat_columns]"
   ]
  },
  {
   "cell_type": "code",
   "execution_count": 25,
   "metadata": {
    "colab": {},
    "colab_type": "code",
    "id": "mhwmsjUZHlVE"
   },
   "outputs": [],
   "source": [
    "x_test1 = pd.get_dummies(x_test1, prefix_sep=\"__\", \n",
    "                                   columns=cat_columns)"
   ]
  },
  {
   "cell_type": "code",
   "execution_count": 26,
   "metadata": {
    "colab": {},
    "colab_type": "code",
    "id": "wsWpx3sPHyPc"
   },
   "outputs": [],
   "source": [
    "# Remove additional columns\n",
    "for col in x_test1.columns:\n",
    "    if (\"__\" in col) and (col.split(\"__\")[0] in cat_columns) and col not in cat_dummies:\n",
    "        print(\"Removing additional feature {}\".format(col))\n",
    "        x_test1.drop(col, axis=1, inplace=True)"
   ]
  },
  {
   "cell_type": "code",
   "execution_count": 27,
   "metadata": {
    "colab": {
     "base_uri": "https://localhost:8080/",
     "height": 36
    },
    "colab_type": "code",
    "id": "ak5NmB_uumEJ",
    "outputId": "39272d22-1ca5-4447-a34a-22e5d8e75292"
   },
   "outputs": [
    {
     "name": "stdout",
     "output_type": "stream",
     "text": [
      "Adding missing feature publicationname__Planeta Chatbot : todo sobre los Chatbots y la Inteligencia Artificial\n"
     ]
    }
   ],
   "source": [
    "for col in cat_dummies:\n",
    "    if col not in x_test1.columns:\n",
    "        print(\"Adding missing feature {}\".format(col))\n",
    "        x_test1[col] = 0"
   ]
  },
  {
   "cell_type": "markdown",
   "metadata": {
    "colab_type": "text",
    "id": "_uTM8-BGbw2Q"
   },
   "source": [
    "Next, we standardize all features with StandardScaler(). The mean of each variable is subtracted and the values are divided by the standard deviation.\n",
    "Standardization is important since the NN-models are sensitive to unstandardized features.\n"
   ]
  },
  {
   "cell_type": "code",
   "execution_count": 28,
   "metadata": {
    "colab": {},
    "colab_type": "code",
    "id": "guHljZpF7zkR"
   },
   "outputs": [],
   "source": [
    "from sklearn.preprocessing import StandardScaler\n",
    "scaler = StandardScaler().fit(x_train1)#mind that we use only x_train values not to leak the data to the test set\n",
    "x_train1= scaler.transform(x_train1)\n",
    "x_test1= scaler.transform(x_test1) "
   ]
  },
  {
   "cell_type": "markdown",
   "metadata": {
    "colab_type": "text",
    "id": "LuKwQnsAKCz8"
   },
   "source": [
    "**3.1 Basic model**\n",
    "\n",
    "**- Other features, without word embedding as input**\n",
    "\n",
    "First, we build a model based on our meta features and the features we extracted in earlier steps from the text data. (See Appendix 2 for a model without any features generated from the text data.) Our model is a deep neural network with four layers: an input layer, two hidden layers and an output layer. Each hidden unit and each output unit is connected to every unit in the layers either side. The hidden layers use a nonlinear activation function. Since we conduct a regression with a continuouse output, the output layer uses a linear activation function which, therefore, is a linear function of its inputs\n",
    "(Zhang et al., n.d; Zupan, 2003: 200-206).\n",
    "\n",
    "**Figure 3: Simplified depiction of deep neural network**\n",
    "![alt text](https://drive.google.com/uc?export=view&id=1_7qoQ81PDL6PmBI44dZ0QUp5YpkEix5Q)\n",
    "\n",
    "[created with tool http://alexlenail.me/NN-SVG/index.html ]\n"
   ]
  },
  {
   "cell_type": "code",
   "execution_count": 39,
   "metadata": {
    "colab": {},
    "colab_type": "code",
    "id": "Itqvz6VdS4IN"
   },
   "outputs": [],
   "source": [
    "from keras.models import Sequential\n",
    "from keras.layers import Dense, Embedding,GRU, Dropout\n",
    "from keras.layers.embeddings import Embedding\n",
    "from keras.initializers import Constant\n",
    "\n",
    "from tensorflow.keras.models import Sequential\n",
    "from tensorflow.keras.callbacks import ReduceLROnPlateau\n",
    "from tensorflow.keras.layers import Embedding,LSTM,Dense\n",
    "from keras.layers import Bidirectional\n",
    "\n",
    "from gensim.models import KeyedVectors\n",
    "from gensim.models.keyedvectors import Word2VecKeyedVectors\n"
   ]
  },
  {
   "cell_type": "code",
   "execution_count": 40,
   "metadata": {
    "colab": {},
    "colab_type": "code",
    "id": "C76tGe5-aVzQ"
   },
   "outputs": [],
   "source": [
    "# Some variables to centralize the configuration of deep learning models\n",
    "# Hyperparametertuning for this model can be found in Appendix 3\n",
    "EPOCH = 30\n",
    "EMBEDDING_DIM = 50\n",
    "BATCH_SIZE=32\n",
    "VAL_SPLIT = 0.25"
   ]
  },
  {
   "cell_type": "code",
   "execution_count": 41,
   "metadata": {
    "colab": {},
    "colab_type": "code",
    "id": "UkaBeZk3YINg"
   },
   "outputs": [],
   "source": [
    "dim=x_train1.shape[1]"
   ]
  },
  {
   "cell_type": "code",
   "execution_count": 42,
   "metadata": {
    "colab": {
     "base_uri": "https://localhost:8080/",
     "height": 279
    },
    "colab_type": "code",
    "id": "CpAP9R68XzK2",
    "outputId": "9c650240-8111-48b9-d061-e96c62f5ad2b"
   },
   "outputs": [
    {
     "name": "stdout",
     "output_type": "stream",
     "text": [
      "Model: \"sequential\"\n",
      "_________________________________________________________________\n",
      "Layer (type)                 Output Shape              Param #   \n",
      "=================================================================\n",
      "dense (Dense)                (None, 32)                2272      \n",
      "_________________________________________________________________\n",
      "dense_1 (Dense)              (None, 8)                 264       \n",
      "_________________________________________________________________\n",
      "dense_2 (Dense)              (None, 1)                 9         \n",
      "=================================================================\n",
      "Total params: 2,545\n",
      "Trainable params: 2,545\n",
      "Non-trainable params: 0\n",
      "_________________________________________________________________\n"
     ]
    }
   ],
   "source": [
    "model_ofeatures = Sequential() #otherfeatures \n",
    "model_ofeatures.add(Dense(32, input_dim=dim, activation=\"relu\"))\n",
    "model_ofeatures.add(Dense(8, activation=\"relu\"))\n",
    "model_ofeatures.add(Dense(1, kernel_initializer='normal', activation='linear'))\n",
    "model_ofeatures.compile(loss='mean_absolute_error', optimizer='adam', metrics='mse')\n",
    "model_ofeatures.summary()"
   ]
  },
  {
   "cell_type": "code",
   "execution_count": 43,
   "metadata": {
    "colab": {
     "base_uri": "https://localhost:8080/",
     "height": 422
    },
    "colab_type": "code",
    "id": "6dnaniYTSWmY",
    "outputId": "a114fd6a-50c2-4a2c-85b4-b72b1a18e337"
   },
   "outputs": [
    {
     "data": {
      "image/png": "[encoded data removed]",
      "text/plain": [
       "<IPython.core.display.Image object>"
      ]
     },
     "execution_count": 43,
     "metadata": {
      "tags": []
     },
     "output_type": "execute_result"
    }
   ],
   "source": [
    "from keras.utils import plot_model\n",
    "plot_model(model_ofeatures, to_file='model_plotof.png', show_shapes=True, show_layer_names=True)"
   ]
  },
  {
   "cell_type": "code",
   "execution_count": 44,
   "metadata": {
    "colab": {},
    "colab_type": "code",
    "id": "R_2imyyFQ6q1"
   },
   "outputs": [],
   "source": [
    "# early stopping as one form of regularization to avoid overfitting\n",
    "early = EarlyStopping(monitor='val_loss', mode='min', verbose=1)"
   ]
  },
  {
   "cell_type": "markdown",
   "metadata": {
    "colab_type": "text",
    "id": "srNyruQ9a1X-"
   },
   "source": [
    "Before we start fitting our model. Let us summarize what occurs while our code is running. Our neural network learning works by forward- and backpropagation:\n",
    "\n",
    "1. Forward propagation: The inputs are passed through the neural network. The inputs are multiplied by the initially given weights of each layer, bias are added and the the activation function is applied to the neurons. Eventually an output is generated. \n",
    "\n",
    "2. Backpropagation: An error function is defined, which captures the delta between the correct output and the actual output of the model. In order to minimize the error function, the weights of the connections between the units in the network are modified. The weights are updated according to the results of the backpropagation algorithm\n",
    "\n",
    "(Zhang et al., n.d; Zupan, 2003: 200-206).\n",
    "\n",
    "\n",
    " "
   ]
  },
  {
   "cell_type": "code",
   "execution_count": 45,
   "metadata": {
    "colab": {
     "base_uri": "https://localhost:8080/",
     "height": 260
    },
    "colab_type": "code",
    "id": "wwB4em_hZjIo",
    "outputId": "d1e98594-6c9c-41a4-e804-f22fbbb1ee27"
   },
   "outputs": [
    {
     "name": "stdout",
     "output_type": "stream",
     "text": [
      "Epoch 1/30\n",
      "1203/1203 [==============================] - 4s 3ms/step - loss: 65.8748 - mse: 134602.8125 - val_loss: 65.9436 - val_mse: 90276.0938\n",
      "Epoch 2/30\n",
      "1203/1203 [==============================] - 3s 3ms/step - loss: 62.5555 - mse: 130843.7344 - val_loss: 65.6885 - val_mse: 90148.5312\n",
      "Epoch 3/30\n",
      "1203/1203 [==============================] - 3s 3ms/step - loss: 62.3333 - mse: 130490.2266 - val_loss: 65.6635 - val_mse: 90210.3672\n",
      "Epoch 4/30\n",
      "1203/1203 [==============================] - 3s 2ms/step - loss: 62.2113 - mse: 130470.1719 - val_loss: 65.6175 - val_mse: 90283.7109\n",
      "Epoch 5/30\n",
      "1203/1203 [==============================] - 3s 2ms/step - loss: 62.1096 - mse: 130288.7812 - val_loss: 65.5965 - val_mse: 90289.0078\n",
      "Epoch 6/30\n",
      "1203/1203 [==============================] - 3s 2ms/step - loss: 62.0384 - mse: 130317.6094 - val_loss: 65.6020 - val_mse: 90254.1250\n",
      "Epoch 00006: early stopping\n"
     ]
    }
   ],
   "source": [
    "model_ofeat_story = model_ofeatures.fit(x_train1, y_train, batch_size=BATCH_SIZE, epochs=EPOCH, validation_split=VAL_SPLIT, callbacks=[early])"
   ]
  },
  {
   "cell_type": "code",
   "execution_count": 46,
   "metadata": {
    "colab": {},
    "colab_type": "code",
    "id": "3e11I4TuaZSP"
   },
   "outputs": [],
   "source": [
    "SCORE_BAG = {}  # Dictionary to store the results of different Keras models\n",
    "def eval (model, story, x_ts, y_ts, cut_off=0.5):\n",
    "  score = model.evaluate(x_ts, y_ts, verbose=0)\n",
    "  return score"
   ]
  },
  {
   "cell_type": "code",
   "execution_count": 47,
   "metadata": {
    "colab": {},
    "colab_type": "code",
    "id": "EjqvIANPTfN6"
   },
   "outputs": [],
   "source": [
    "evalu=eval(model_ofeatures, model_ofeat_story, x_test1, y_test)"
   ]
  },
  {
   "cell_type": "code",
   "execution_count": 48,
   "metadata": {
    "colab": {},
    "colab_type": "code",
    "id": "p2C_kgy4Zd8C"
   },
   "outputs": [],
   "source": [
    "SCORE_BAG.update({'ofeatures' : eval(model_ofeatures, model_ofeat_story, x_test1, y_test)})"
   ]
  },
  {
   "cell_type": "code",
   "execution_count": 50,
   "metadata": {
    "colab": {
     "base_uri": "https://localhost:8080/",
     "height": 36
    },
    "colab_type": "code",
    "id": "PJWgjy_3Sgnm",
    "outputId": "55648941-d822-4fc0-b420-853dee86f3ab"
   },
   "outputs": [
    {
     "data": {
      "text/plain": [
       "{'ofeatures': [67.50244903564453, 50127.31640625]}"
      ]
     },
     "execution_count": 50,
     "metadata": {
      "tags": []
     },
     "output_type": "execute_result"
    }
   ],
   "source": [
    "SCORE_BAG"
   ]
  },
  {
   "cell_type": "markdown",
   "metadata": {
    "colab_type": "text",
    "id": "oK0ESWRVRmQ3"
   },
   "source": [
    "**3.2 Mixed input model**\n",
    "\n",
    "We want to combine meta information and textual information as input to our model. We build two submodels. One with the features as in the Basic Model and another one with pre-trained GloVe word embeddings applied to our text data as input. We concatenate the output from the first submodel with the output from the second submodel.\n",
    "\n",
    "We use pre-trained embeddings which were trained on a big corpus - pretrained GloVe embeddings. We first have to load it and create the embedding matrix. Then we can continue with setting the embedding layer.  Since we have the full sentences of our articles available, we can employ a bidirectional NLP model. The bidirectional GRU takes the left and the right context of a word in consideration by introducing a bidirectional layer. The GRU has fewer parameters than its alternative long short-term memory (LSTM) and therefore, performs faster. The input to the GRU model are the word embeddings, which we obtain from the Keras Embedding layer.\n",
    "\n",
    "\n",
    "Wang et al (2019) display an example of an bidirectional GRU model as following:\n",
    "\n",
    "**Figure 4: Bidirectional feature extraction**\n",
    "\n",
    "![alt text](https://drive.google.com/uc?export=view&id=1Use0XZZ7bYF1EqAPhGG_eG8TwPKK_dt8)\n",
    "\n",
    "\n",
    "Please find an overview and comparison of alternative Neural Networks models with a word embedding as input in Appendix 4."
   ]
  },
  {
   "cell_type": "code",
   "execution_count": 51,
   "metadata": {
    "colab": {},
    "colab_type": "code",
    "id": "McW5rPytRDrD"
   },
   "outputs": [],
   "source": [
    "# Build vocabulary using Keras\n",
    "from keras.preprocessing.text import Tokenizer\n",
    "from keras.preprocessing.sequence import pad_sequences"
   ]
  },
  {
   "cell_type": "markdown",
   "metadata": {
    "colab_type": "text",
    "id": "pVwHDMxnJuyh"
   },
   "source": [
    "First, we need to prepare our word embeddings. For these steps code by Lessmann (2020b) was adapted and modified."
   ]
  },
  {
   "cell_type": "code",
   "execution_count": 30,
   "metadata": {
    "colab": {},
    "colab_type": "code",
    "id": "2YOVX9fXQ3Dy"
   },
   "outputs": [],
   "source": [
    "NUM_WORDS = 2500\n",
    "\n",
    "tokenizer_obj = Tokenizer(NUM_WORDS, oov_token=1)  # We fit the tokenizer to the training set articles. The test set might include\n",
    "tokenizer_obj.fit_on_texts(x_train.text)  # words that are not part of the training data. The argument oov_token ensures that such new words are mapped to the specified index"
   ]
  },
  {
   "cell_type": "code",
   "execution_count": 31,
   "metadata": {
    "colab": {},
    "colab_type": "code",
    "id": "E_gbiGhiRiYo"
   },
   "outputs": [],
   "source": [
    "# Convert training set articles to sequences of integer values\n",
    "X_tr_int = tokenizer_obj.texts_to_sequences(x_train.text)"
   ]
  },
  {
   "cell_type": "code",
   "execution_count": 32,
   "metadata": {
    "colab": {
     "base_uri": "https://localhost:8080/",
     "height": 36
    },
    "colab_type": "code",
    "id": "CoqOJoR0RvUF",
    "outputId": "d087ce95-734d-4761-d7bc-8d7a9fa18ca9"
   },
   "outputs": [
    {
     "name": "stdout",
     "output_type": "stream",
     "text": [
      "The longest article of the training set has 1118 words.\n"
     ]
    }
   ],
   "source": [
    "#* Determine the maximum article length in the training set\n",
    "max_article_length = max([len(article) for article in X_tr_int])\n",
    "print('The longest article of the training set has {} words.'.format(max_article_length))"
   ]
  },
  {
   "cell_type": "code",
   "execution_count": 33,
   "metadata": {
    "colab": {},
    "colab_type": "code",
    "id": "z9o6aewgSXp0"
   },
   "outputs": [],
   "source": [
    "# Upper bound of the article length for padding\n",
    "MAX_ARTICLE_LENGTH = 500\n",
    "\n",
    "X_tr_int_pad = pad_sequences(X_tr_int, MAX_ARTICLE_LENGTH)"
   ]
  },
  {
   "cell_type": "code",
   "execution_count": 34,
   "metadata": {
    "colab": {},
    "colab_type": "code",
    "id": "Tn5UGHCpSiOA"
   },
   "outputs": [],
   "source": [
    "#apply to test dataset\n",
    "\n",
    "# Encode and pad the test data\n",
    "X_ts_int = tokenizer_obj.texts_to_sequences(x_test.text)  # Due to oov_token argument, new words will be mapped to 1\n",
    "X_ts_int_pad = pad_sequences(X_ts_int, MAX_ARTICLE_LENGTH)"
   ]
  },
  {
   "cell_type": "code",
   "execution_count": 35,
   "metadata": {
    "colab": {
     "base_uri": "https://localhost:8080/",
     "height": 36
    },
    "colab_type": "code",
    "id": "Ga6apHvBSuQb",
    "outputId": "3be50a0b-ef45-483d-814a-49bcdf8dcb3e"
   },
   "outputs": [
    {
     "data": {
      "text/plain": [
       "((51320, 500), (51320,), (12831, 500), (12831,))"
      ]
     },
     "execution_count": 35,
     "metadata": {
      "tags": []
     },
     "output_type": "execute_result"
    }
   ],
   "source": [
    "# Structure of the prepared training and test data\n",
    "X_tr_int_pad.shape, y_train.shape, X_ts_int_pad.shape, y_test.shape"
   ]
  },
  {
   "cell_type": "code",
   "execution_count": 36,
   "metadata": {
    "colab": {
     "base_uri": "https://localhost:8080/",
     "height": 36
    },
    "colab_type": "code",
    "id": "AnNQ61e-feTe",
    "outputId": "2669db08-e69f-40f7-8dfb-5755d51d5324"
   },
   "outputs": [
    {
     "name": "stdout",
     "output_type": "stream",
     "text": [
      "Found 400000 word vectors.\n"
     ]
    }
   ],
   "source": [
    "# Load GloVe embeddings\n",
    "glove_index = {}\n",
    "with open(path + 'glove.6B.50d.txt', 'r', encoding=\"utf8\") as f:\n",
    "    for line in f:\n",
    "        values = line.split()\n",
    "        word = values[0]\n",
    "        coefs = np.asarray(values[1:], dtype='float32')\n",
    "        glove_index[word] = coefs\n",
    "\n",
    "print('Found %s word vectors.' % len(glove_index))"
   ]
  },
  {
   "cell_type": "code",
   "execution_count": 37,
   "metadata": {
    "colab": {},
    "colab_type": "code",
    "id": "6sa5w2hilGZP"
   },
   "outputs": [],
   "source": [
    "def get_embedding_matrix(tokenizer, pretrain, vocab_size):\n",
    "    '''\n",
    "        Helper function to construct an embedding matrix for \n",
    "        the focal corpus based on some pre-trained embeddings.\n",
    "    '''\n",
    "    \n",
    "    dim = 0\n",
    "    if isinstance(pretrain, KeyedVectors) or isinstance(pretrain, Word2VecKeyedVectors):\n",
    "        dim = pretrain.vector_size        \n",
    "    elif isinstance(pretrain, dict):\n",
    "        dim = next(iter(pretrain.values())).shape[0]  # get embedding of an arbitrary word\n",
    "    else:\n",
    "        raise Exception('{} is not supported'.format(type(pretrain)))\n",
    "    \n",
    "    \n",
    "    # Initialize embedding matrix\n",
    "    emb_mat = np.zeros((vocab_size, dim))\n",
    "\n",
    "    # There will be some words in our corpus for which we lack a pre-trained embedding. (See Appendix 5 code how to compute the coverage rate of the pretrained mebedding)\n",
    "    # In this tutorial, we will simply use a vector of zeros for such words. We also keep\n",
    "    # track of the words to do some debugging if needed\n",
    "    oov_words = []\n",
    "    # Below we use the tokenizer object that created our task vocabulary. This is crucial to ensure\n",
    "    # that the position of a words in our embedding matrix corresponds to its index in our integer\n",
    "    # encoded input data\n",
    "    for word, i in tokenizer.word_index.items():  \n",
    "        # try-catch together with a zero-initilaized embedding matrix achieves our rough fix for oov words\n",
    "        try:\n",
    "            emb_mat[i] = pretrain[word]\n",
    "        except:\n",
    "            oov_words.append(word)\n",
    "    print('Created embedding matrix of shape {}'.format(emb_mat.shape))\n",
    "    print('Encountered {} out-of-vocabulary words.'.format(len(oov_words)))\n",
    "    return (emb_mat, oov_words)"
   ]
  },
  {
   "cell_type": "code",
   "execution_count": 52,
   "metadata": {
    "colab": {
     "base_uri": "https://localhost:8080/",
     "height": 54
    },
    "colab_type": "code",
    "id": "FAdavxPMf0Vt",
    "outputId": "1782917f-5e9d-4595-875b-241e342741e2"
   },
   "outputs": [
    {
     "name": "stdout",
     "output_type": "stream",
     "text": [
      "Created embedding matrix of shape (2500, 50)\n",
      "Encountered 152707 out-of-vocabulary words.\n"
     ]
    }
   ],
   "source": [
    "# Create matrix with Glove embeddings\n",
    "glove_weights, _ = get_embedding_matrix(tokenizer_obj, glove_index, NUM_WORDS)"
   ]
  },
  {
   "cell_type": "markdown",
   "metadata": {
    "colab_type": "text",
    "id": "iWRKsiVMKN2K"
   },
   "source": [
    "Time to build the model architecture. For this task code by Usman (2020) was adapted and modified."
   ]
  },
  {
   "cell_type": "code",
   "execution_count": 53,
   "metadata": {
    "colab": {},
    "colab_type": "code",
    "id": "TvgamegwTYRF"
   },
   "outputs": [],
   "source": [
    "#we have two inputs\n",
    "input_1 = Input(shape=(MAX_ARTICLE_LENGTH,))\n",
    "\n",
    "input_2 = Input(shape=(70,))"
   ]
  },
  {
   "cell_type": "code",
   "execution_count": 54,
   "metadata": {
    "colab": {},
    "colab_type": "code",
    "id": "RK6GOm2mStZ9"
   },
   "outputs": [],
   "source": [
    "# submodel embedding layer\n",
    "embedding_layer = Embedding(NUM_WORDS, \n",
    "                         EMBEDDING_DIM,  \n",
    "                         embeddings_initializer=Constant(glove_weights), \n",
    "                         input_length=MAX_ARTICLE_LENGTH, \n",
    "                         trainable=False\n",
    "                         ) (input_1)\n",
    "GRU_Layer_1 = Bidirectional(GRU(512))(embedding_layer) #when dropout,concatenate doesn't work anymore"
   ]
  },
  {
   "cell_type": "code",
   "execution_count": 55,
   "metadata": {
    "colab": {},
    "colab_type": "code",
    "id": "N1nyS2I0Wk3v"
   },
   "outputs": [],
   "source": [
    "dense_layer_1 = Dense(10, activation='relu')(input_2)\n",
    "dense_layer_2 = Dense(10, activation='relu')(dense_layer_1)"
   ]
  },
  {
   "cell_type": "code",
   "execution_count": 56,
   "metadata": {
    "colab": {},
    "colab_type": "code",
    "id": "2sG28boDW-Da"
   },
   "outputs": [],
   "source": [
    "from keras.layers.merge import Concatenate "
   ]
  },
  {
   "cell_type": "code",
   "execution_count": 57,
   "metadata": {
    "colab": {},
    "colab_type": "code",
    "id": "htBkY3O0Wu1U"
   },
   "outputs": [],
   "source": [
    "concat_layer = Concatenate()([GRU_Layer_1, dense_layer_2])\n",
    "dense_layer_3 = Dense(10, activation='relu')(concat_layer)\n",
    "output = Dense(1, kernel_initializer='normal', activation='linear')(dense_layer_3)\n",
    "model = Model(inputs=[input_1, input_2], outputs=output)"
   ]
  },
  {
   "cell_type": "code",
   "execution_count": 63,
   "metadata": {
    "colab": {
     "base_uri": "https://localhost:8080/",
     "height": 541
    },
    "colab_type": "code",
    "id": "xpSLNoYRXNZk",
    "outputId": "d8a096f1-2ba0-461a-a7b0-316e4288fcd6"
   },
   "outputs": [
    {
     "name": "stdout",
     "output_type": "stream",
     "text": [
      "Model: \"functional_1\"\n",
      "__________________________________________________________________________________________________\n",
      "Layer (type)                    Output Shape         Param #     Connected to                     \n",
      "==================================================================================================\n",
      "input_1 (InputLayer)            [(None, 500)]        0                                            \n",
      "__________________________________________________________________________________________________\n",
      "input_2 (InputLayer)            [(None, 70)]         0                                            \n",
      "__________________________________________________________________________________________________\n",
      "embedding (Embedding)           (None, 500, 50)      125000      input_1[0][0]                    \n",
      "__________________________________________________________________________________________________\n",
      "dense_3 (Dense)                 (None, 10)           710         input_2[0][0]                    \n",
      "__________________________________________________________________________________________________\n",
      "bidirectional (Bidirectional)   (None, 1024)         1732608     embedding[0][0]                  \n",
      "__________________________________________________________________________________________________\n",
      "dense_4 (Dense)                 (None, 10)           110         dense_3[0][0]                    \n",
      "__________________________________________________________________________________________________\n",
      "concatenate (Concatenate)       (None, 1034)         0           bidirectional[0][0]              \n",
      "                                                                 dense_4[0][0]                    \n",
      "__________________________________________________________________________________________________\n",
      "dense_5 (Dense)                 (None, 10)           10350       concatenate[0][0]                \n",
      "__________________________________________________________________________________________________\n",
      "dense_6 (Dense)                 (None, 1)            11          dense_5[0][0]                    \n",
      "==================================================================================================\n",
      "Total params: 1,868,789\n",
      "Trainable params: 1,743,789\n",
      "Non-trainable params: 125,000\n",
      "__________________________________________________________________________________________________\n",
      "None\n"
     ]
    }
   ],
   "source": [
    "model.compile(loss='mean_absolute_error', optimizer='adam', metrics='mse')\n",
    "print(model.summary())"
   ]
  },
  {
   "cell_type": "code",
   "execution_count": 64,
   "metadata": {
    "colab": {
     "base_uri": "https://localhost:8080/",
     "height": 644
    },
    "colab_type": "code",
    "id": "dfo_pVAOXZ13",
    "outputId": "7455ff48-f29b-402b-f103-ce7953a26323"
   },
   "outputs": [
    {
     "data": {
      "image/png": "[encoded data removed]",
      "text/plain": [
       "<IPython.core.display.Image object>"
      ]
     },
     "execution_count": 64,
     "metadata": {
      "tags": []
     },
     "output_type": "execute_result"
    }
   ],
   "source": [
    "# Let us again display the model architecture\n",
    "from keras.utils import plot_model\n",
    "plot_model(model, to_file='model_plotfull.png', show_shapes=True, show_layer_names=True)"
   ]
  },
  {
   "cell_type": "markdown",
   "metadata": {
    "colab_type": "text",
    "id": "0GGf1YanNLD-"
   },
   "source": [
    "At the left branch, our text data are the input. Then an embedding layer follows. The hidden layer is a bidirectional GRU. At the right branch, we have the 70 non-textual features as input and two hidden layers. Both outputs get combined as the input for one last hidden layer, before the output layer and its linear regression generate the final output."
   ]
  },
  {
   "cell_type": "code",
   "execution_count": 65,
   "metadata": {
    "colab": {
     "base_uri": "https://localhost:8080/",
     "height": 185
    },
    "colab_type": "code",
    "id": "T7EUxrue6Ash",
    "outputId": "a2b736b5-489d-495b-9420-dc70013d746a"
   },
   "outputs": [
    {
     "name": "stdout",
     "output_type": "stream",
     "text": [
      "Epoch 1/30\n",
      "401/401 [==============================] - 130s 325ms/step - loss: 63.4586 - mse: 120945.7969 - val_loss: 67.2108 - val_mse: 43543.5859\n",
      "Epoch 2/30\n",
      "401/401 [==============================] - 128s 320ms/step - loss: 63.1895 - mse: 120514.2578 - val_loss: 66.4180 - val_mse: 43393.5117\n",
      "Epoch 3/30\n",
      "401/401 [==============================] - 128s 318ms/step - loss: 63.0550 - mse: 120369.4531 - val_loss: 66.0905 - val_mse: 43080.8477\n",
      "Epoch 4/30\n",
      "401/401 [==============================] - 127s 316ms/step - loss: 62.9704 - mse: 120309.6875 - val_loss: 66.1495 - val_mse: 43102.7969\n",
      "Epoch 00004: early stopping\n"
     ]
    }
   ],
   "source": [
    "model_full_story = model.fit(x=[X_tr_int_pad, x_train1], y=y_train, validation_data=([X_ts_int_pad, x_test1], y_test), batch_size=128, epochs=30, verbose=1 , callbacks=[early])"
   ]
  },
  {
   "cell_type": "code",
   "execution_count": 66,
   "metadata": {
    "colab": {},
    "colab_type": "code",
    "id": "FYdcM5-TkEcD"
   },
   "outputs": [],
   "source": [
    "SCORE_BAG.update({'full' : eval(model, model_full_story, [X_ts_int_pad, x_test1], y_test)})"
   ]
  },
  {
   "cell_type": "markdown",
   "metadata": {
    "colab_type": "text",
    "id": "WJFegNDrYgPg"
   },
   "source": [
    "To evaluate the prediction, any common regression evaluation metric can be applied. We use mean absolute error (MAE)."
   ]
  },
  {
   "cell_type": "code",
   "execution_count": 67,
   "metadata": {
    "colab": {
     "base_uri": "https://localhost:8080/",
     "height": 54
    },
    "colab_type": "code",
    "id": "yTV5Rbsy2Wk5",
    "outputId": "f11fdd14-67f0-458a-ee2d-409e9a9d8d15"
   },
   "outputs": [
    {
     "data": {
      "text/plain": [
       "{'full': [66.14942932128906, 43102.80859375],\n",
       " 'ofeatures': [67.50244903564453, 50127.31640625]}"
      ]
     },
     "execution_count": 67,
     "metadata": {
      "tags": []
     },
     "output_type": "execute_result"
    }
   ],
   "source": [
    "SCORE_BAG"
   ]
  },
  {
   "cell_type": "markdown",
   "metadata": {
    "colab_type": "text",
    "id": "1Lym-tGRaL-T"
   },
   "source": [
    "Considering the additional time consumption, the improvement from the basic model to the model with word embeddings as input is rather modest."
   ]
  },
  {
   "cell_type": "markdown",
   "metadata": {
    "colab_type": "text",
    "id": "ICuS_FLLve-3"
   },
   "source": [
    "# 4. Predictions"
   ]
  },
  {
   "cell_type": "markdown",
   "metadata": {
    "colab_type": "text",
    "id": "z2jiqwDhAxkm"
   },
   "source": [
    "**4.1 Prepare dataset for predictions**"
   ]
  },
  {
   "cell_type": "code",
   "execution_count": 69,
   "metadata": {
    "colab": {},
    "colab_type": "code",
    "id": "6A36vhDOA3uv"
   },
   "outputs": [],
   "source": [
    "df_test = pd.read_csv(path + \"Test.csv\")"
   ]
  },
  {
   "cell_type": "code",
   "execution_count": 70,
   "metadata": {
    "colab": {
     "base_uri": "https://localhost:8080/",
     "height": 298
    },
    "colab_type": "code",
    "id": "BRXNDvx1BOAi",
    "outputId": "c439f5ea-cd77-4b82-bd62-84d7be799824"
   },
   "outputs": [
    {
     "name": "stdout",
     "output_type": "stream",
     "text": [
      "<class 'pandas.core.frame.DataFrame'>\n",
      "RangeIndex: 514 entries, 0 to 513\n",
      "Data columns (total 8 columns):\n",
      " #   Column              Non-Null Count  Dtype \n",
      "---  ------              --------------  ----- \n",
      " 0   Unnamed: 0          514 non-null    int64 \n",
      " 1   index               514 non-null    int64 \n",
      " 2   Author              514 non-null    object\n",
      " 3   PublicationDetails  514 non-null    object\n",
      " 4   Responses           432 non-null    object\n",
      " 5   Header              506 non-null    object\n",
      " 6   Text                514 non-null    object\n",
      " 7   Length              514 non-null    int64 \n",
      "dtypes: int64(3), object(5)\n",
      "memory usage: 32.2+ KB\n"
     ]
    }
   ],
   "source": [
    "df_test.info()"
   ]
  },
  {
   "cell_type": "markdown",
   "metadata": {
    "colab_type": "text",
    "id": "TiU8yI1sBT9L"
   },
   "source": [
    "The info function shows us that our dataset for the predictions has some missings. We will apply some simple data imputation methods."
   ]
  },
  {
   "cell_type": "code",
   "execution_count": 71,
   "metadata": {
    "colab": {},
    "colab_type": "code",
    "id": "WqYuEHB5Eecy"
   },
   "outputs": [],
   "source": [
    "#To do so, we first make use of regular expressions to change the features in a way that we can process them\n",
    "df_test['Responses'] = df_test['Responses'].str.extract('(\\d+)', expand=True)"
   ]
  },
  {
   "cell_type": "code",
   "execution_count": 72,
   "metadata": {
    "colab": {},
    "colab_type": "code",
    "id": "AHj3-4MFwyeS"
   },
   "outputs": [],
   "source": [
    "df_test['Responses'] = pd.to_numeric(df_test['Responses'], errors='coerce')"
   ]
  },
  {
   "cell_type": "code",
   "execution_count": 73,
   "metadata": {
    "colab": {
     "base_uri": "https://localhost:8080/",
     "height": 340
    },
    "colab_type": "code",
    "id": "O_6869QyyGDv",
    "outputId": "6c2a9ab5-33f1-4481-f980-b3d695985072"
   },
   "outputs": [
    {
     "name": "stderr",
     "output_type": "stream",
     "text": [
      "/usr/local/lib/python3.6/dist-packages/numpy/lib/histograms.py:839: RuntimeWarning: invalid value encountered in greater_equal\n",
      "  keep = (tmp_a >= first_edge)\n",
      "/usr/local/lib/python3.6/dist-packages/numpy/lib/histograms.py:840: RuntimeWarning: invalid value encountered in less_equal\n",
      "  keep &= (tmp_a <= last_edge)\n"
     ]
    },
    {
     "data": {
      "image/png": "[encoded data removed]",
      "text/plain": [
       "<Figure size 432x288 with 1 Axes>"
      ]
     },
     "metadata": {
      "needs_background": "light",
      "tags": []
     },
     "output_type": "display_data"
    }
   ],
   "source": [
    "plt.hist(df_test.Responses)\n",
    "plt.show()"
   ]
  },
  {
   "cell_type": "code",
   "execution_count": 74,
   "metadata": {
    "colab": {
     "base_uri": "https://localhost:8080/",
     "height": 632
    },
    "colab_type": "code",
    "id": "bpDbJfYpErOn",
    "outputId": "14aaf1c8-5ca3-406b-c1dc-951d85b6ba7d"
   },
   "outputs": [
    {
     "data": {
      "text/html": [
       "<div>\n",
       "<style scoped>\n",
       "    .dataframe tbody tr th:only-of-type {\n",
       "        vertical-align: middle;\n",
       "    }\n",
       "\n",
       "    .dataframe tbody tr th {\n",
       "        vertical-align: top;\n",
       "    }\n",
       "\n",
       "    .dataframe thead th {\n",
       "        text-align: right;\n",
       "    }\n",
       "</style>\n",
       "<table border=\"1\" class=\"dataframe\">\n",
       "  <thead>\n",
       "    <tr style=\"text-align: right;\">\n",
       "      <th></th>\n",
       "      <th>Unnamed: 0</th>\n",
       "      <th>index</th>\n",
       "      <th>Author</th>\n",
       "      <th>PublicationDetails</th>\n",
       "      <th>Header</th>\n",
       "      <th>Text</th>\n",
       "      <th>Length</th>\n",
       "      <th>responsesCreatedCount</th>\n",
       "    </tr>\n",
       "  </thead>\n",
       "  <tbody>\n",
       "    <tr>\n",
       "      <th>0</th>\n",
       "      <td>0</td>\n",
       "      <td>0</td>\n",
       "      <td>Daniel Jeffries</td>\n",
       "      <td>Daniel Jeffries in HackerNoon.comJul 31, 2017</td>\n",
       "      <td>Why Everyone Missed the Most Mind-Blowing Feat...</td>\n",
       "      <td>There’s one incredible feature of cryptocurren...</td>\n",
       "      <td>23401</td>\n",
       "      <td>627.0</td>\n",
       "    </tr>\n",
       "    <tr>\n",
       "      <th>1</th>\n",
       "      <td>1</td>\n",
       "      <td>1</td>\n",
       "      <td>Noam Levenson</td>\n",
       "      <td>Noam Levenson in HackerNoon.comDec 6, 2017</td>\n",
       "      <td>NEO versus Ethereum: Why NEO might be 2018’s s...</td>\n",
       "      <td>&lt;img class=\"progressiveMedia-noscript js-progr...</td>\n",
       "      <td>23972</td>\n",
       "      <td>156.0</td>\n",
       "    </tr>\n",
       "    <tr>\n",
       "      <th>2</th>\n",
       "      <td>2</td>\n",
       "      <td>2</td>\n",
       "      <td>Daniel Jeffries</td>\n",
       "      <td>Daniel Jeffries in HackerNoon.comJul 21, 2017</td>\n",
       "      <td>The Cryptocurrency Trading Bible</td>\n",
       "      <td>So you want to trade cryptocurrency?You’ve see...</td>\n",
       "      <td>402</td>\n",
       "      <td>176.0</td>\n",
       "    </tr>\n",
       "    <tr>\n",
       "      <th>3</th>\n",
       "      <td>3</td>\n",
       "      <td>5</td>\n",
       "      <td>Haseeb Qureshi</td>\n",
       "      <td>Haseeb Qureshi in HackerNoon.comFeb 19, 2018</td>\n",
       "      <td>Stablecoins: designing a price-stable cryptocu...</td>\n",
       "      <td>A useful currency should be a medium of exchan...</td>\n",
       "      <td>19730</td>\n",
       "      <td>72.0</td>\n",
       "    </tr>\n",
       "    <tr>\n",
       "      <th>4</th>\n",
       "      <td>4</td>\n",
       "      <td>7</td>\n",
       "      <td>William Belk</td>\n",
       "      <td>William Belk in HackerNoon.comJan 28, 2018</td>\n",
       "      <td>Chaos vs. Order — The Cryptocurrency Dilemma</td>\n",
       "      <td>Crypto crypto crypto crypto. It’s here. It’s h...</td>\n",
       "      <td>5324</td>\n",
       "      <td>19.0</td>\n",
       "    </tr>\n",
       "    <tr>\n",
       "      <th>...</th>\n",
       "      <td>...</td>\n",
       "      <td>...</td>\n",
       "      <td>...</td>\n",
       "      <td>...</td>\n",
       "      <td>...</td>\n",
       "      <td>...</td>\n",
       "      <td>...</td>\n",
       "      <td>...</td>\n",
       "    </tr>\n",
       "    <tr>\n",
       "      <th>509</th>\n",
       "      <td>509</td>\n",
       "      <td>598</td>\n",
       "      <td>Jun 9, 2016</td>\n",
       "      <td>Tim Romero in Startup Lessons LearnedJun 9, 2016</td>\n",
       "      <td>Why I turned down $500K, Pissed off my investo...</td>\n",
       "      <td>I just did what no startup founder is ever sup...</td>\n",
       "      <td>9025</td>\n",
       "      <td>181.0</td>\n",
       "    </tr>\n",
       "    <tr>\n",
       "      <th>510</th>\n",
       "      <td>510</td>\n",
       "      <td>599</td>\n",
       "      <td>Jun 10, 2016</td>\n",
       "      <td>Product HuntJun 10, 2016</td>\n",
       "      <td>These Tools Will Help You Launch Your Startup</td>\n",
       "      <td>If you’re embarking on the startup journey and...</td>\n",
       "      <td>5571</td>\n",
       "      <td>24.0</td>\n",
       "    </tr>\n",
       "    <tr>\n",
       "      <th>511</th>\n",
       "      <td>511</td>\n",
       "      <td>600</td>\n",
       "      <td>Mar-19</td>\n",
       "      <td>Joe ProcopioMar 19</td>\n",
       "      <td>Why Startups Fall Apart at 50 Employees</td>\n",
       "      <td>Fuck you startups with your extravagant partie...</td>\n",
       "      <td>475</td>\n",
       "      <td>24.0</td>\n",
       "    </tr>\n",
       "    <tr>\n",
       "      <th>512</th>\n",
       "      <td>512</td>\n",
       "      <td>601</td>\n",
       "      <td>Mar 18, 2016</td>\n",
       "      <td>Winerist in Be YourselfMar 18, 2016</td>\n",
       "      <td>Beware of Startup Prostitution</td>\n",
       "      <td>Note: This is not a post to glorify prostituti...</td>\n",
       "      <td>13483</td>\n",
       "      <td>116.0</td>\n",
       "    </tr>\n",
       "    <tr>\n",
       "      <th>513</th>\n",
       "      <td>513</td>\n",
       "      <td>602</td>\n",
       "      <td>Jan 11, 2018</td>\n",
       "      <td>Aytekin Tank in The StartupJan 11, 2018</td>\n",
       "      <td>How to build a startup — without quitting your...</td>\n",
       "      <td>Question: What do Craigslist and Albert Einste...</td>\n",
       "      <td>8736</td>\n",
       "      <td>34.0</td>\n",
       "    </tr>\n",
       "  </tbody>\n",
       "</table>\n",
       "<p>514 rows × 8 columns</p>\n",
       "</div>"
      ],
      "text/plain": [
       "     Unnamed: 0  index  ... Length responsesCreatedCount\n",
       "0             0      0  ...  23401                 627.0\n",
       "1             1      1  ...  23972                 156.0\n",
       "2             2      2  ...    402                 176.0\n",
       "3             3      5  ...  19730                  72.0\n",
       "4             4      7  ...   5324                  19.0\n",
       "..          ...    ...  ...    ...                   ...\n",
       "509         509    598  ...   9025                 181.0\n",
       "510         510    599  ...   5571                  24.0\n",
       "511         511    600  ...    475                  24.0\n",
       "512         512    601  ...  13483                 116.0\n",
       "513         513    602  ...   8736                  34.0\n",
       "\n",
       "[514 rows x 8 columns]"
      ]
     },
     "execution_count": 74,
     "metadata": {
      "tags": []
     },
     "output_type": "execute_result"
    }
   ],
   "source": [
    "#Based on the modus, we decide to impute NaNs with 0\n",
    "#(alternative: a more elaborated way to impute the missings could be to use a simple model to predict the missings)\n",
    "df_test['Responses']=df_test['Responses'].fillna(0)\n",
    "df_test['responsesCreatedCount']=df_test['Responses']\n",
    "df_test.drop(columns=['Responses'])"
   ]
  },
  {
   "cell_type": "code",
   "execution_count": 75,
   "metadata": {
    "colab": {},
    "colab_type": "code",
    "id": "Fn4jiMjVj9_4"
   },
   "outputs": [],
   "source": [
    "df_test['Date'] = df_test['PublicationDetails'].str.extract('(.{3}\\s+.{1,2},\\s+.{4}|.{3}\\s+\\d+)', expand=True)"
   ]
  },
  {
   "cell_type": "code",
   "execution_count": 76,
   "metadata": {
    "colab": {},
    "colab_type": "code",
    "id": "CwdVkj0Hdp4m"
   },
   "outputs": [],
   "source": [
    "df_test['Date'] = pd.to_datetime(df_test.Date, errors = 'coerce')\n",
    "df_test['Date'] = df_test['Date'].dt.strftime('%Y-%m-%d')"
   ]
  },
  {
   "cell_type": "code",
   "execution_count": 77,
   "metadata": {
    "colab": {},
    "colab_type": "code",
    "id": "lx2z99Jl07pL"
   },
   "outputs": [],
   "source": [
    "import datetime\n",
    "from datetime import datetime\n",
    "\n",
    "now = datetime.now()\n",
    "A = (now.strftime(\"%Y-%m-%d\"))\n",
    "date_format = \"%Y-%m-%d\"\n",
    "A = datetime.strptime(A, date_format)\n",
    "df_test['A']=A\n",
    "df_test['Date']= pd.to_datetime(df_test['Date'])\n",
    "df_test['daysonline'] = df_test['A']- df_test['Date']\n",
    "df_test['daysonline'] = pd.to_numeric(df_test['daysonline'].dt.days, downcast='integer')"
   ]
  },
  {
   "cell_type": "code",
   "execution_count": 78,
   "metadata": {
    "colab": {},
    "colab_type": "code",
    "id": "80SaOivTmN7B"
   },
   "outputs": [],
   "source": [
    "df_test['daysonline']=df_test['daysonline'].fillna(df_test['daysonline'].median())"
   ]
  },
  {
   "cell_type": "code",
   "execution_count": 79,
   "metadata": {
    "colab": {},
    "colab_type": "code",
    "id": "UMNg8-lVXKUk"
   },
   "outputs": [],
   "source": [
    "df_test['weekday']= df_test['Date'].apply(lambda x: x.weekday())"
   ]
  },
  {
   "cell_type": "code",
   "execution_count": 80,
   "metadata": {
    "colab": {},
    "colab_type": "code",
    "id": "AJRjwU0TZ-Py"
   },
   "outputs": [],
   "source": [
    "df_test['weekday']=df_test['weekday'].fillna(0)"
   ]
  },
  {
   "cell_type": "code",
   "execution_count": 81,
   "metadata": {
    "colab": {
     "base_uri": "https://localhost:8080/",
     "height": 167
    },
    "colab_type": "code",
    "id": "lN-U5jH9ZPlH",
    "outputId": "903faf34-0661-4ac2-c7bf-33a55a1bbd68"
   },
   "outputs": [
    {
     "data": {
      "text/plain": [
       "0.0    162\n",
       "2.0     88\n",
       "1.0     83\n",
       "3.0     81\n",
       "4.0     68\n",
       "5.0     19\n",
       "6.0     13\n",
       "Name: weekday, dtype: int64"
      ]
     },
     "execution_count": 81,
     "metadata": {
      "tags": []
     },
     "output_type": "execute_result"
    }
   ],
   "source": [
    "df_test['weekday'].value_counts()"
   ]
  },
  {
   "cell_type": "code",
   "execution_count": 82,
   "metadata": {
    "colab": {},
    "colab_type": "code",
    "id": "jqSt5oF7YWom"
   },
   "outputs": [],
   "source": [
    "df_test['weekday']=(df_test['weekday'].apply(lambda x: int(x)))"
   ]
  },
  {
   "cell_type": "code",
   "execution_count": 83,
   "metadata": {
    "colab": {},
    "colab_type": "code",
    "id": "wAQ2Kw9YV-rB"
   },
   "outputs": [],
   "source": [
    "df_test['weekday'] = df_test['weekday'].astype('category',copy=False)"
   ]
  },
  {
   "cell_type": "code",
   "execution_count": 84,
   "metadata": {
    "colab": {},
    "colab_type": "code",
    "id": "nQ7YPTSsxhtX"
   },
   "outputs": [],
   "source": [
    "df_test['PublicationDetails']=df_test['PublicationDetails'].str.split('(.{3}\\s+.{1,2},\\s+.{4}|.{3}\\s+\\d+)').str[0]"
   ]
  },
  {
   "cell_type": "code",
   "execution_count": 85,
   "metadata": {
    "colab": {
     "base_uri": "https://localhost:8080/",
     "height": 504
    },
    "colab_type": "code",
    "id": "KKKi-DvfCRHT",
    "outputId": "4c83bd43-c0d9-469e-cdfa-d81ddba427b2"
   },
   "outputs": [
    {
     "data": {
      "text/html": [
       "<div>\n",
       "<style scoped>\n",
       "    .dataframe tbody tr th:only-of-type {\n",
       "        vertical-align: middle;\n",
       "    }\n",
       "\n",
       "    .dataframe tbody tr th {\n",
       "        vertical-align: top;\n",
       "    }\n",
       "\n",
       "    .dataframe thead th {\n",
       "        text-align: right;\n",
       "    }\n",
       "</style>\n",
       "<table border=\"1\" class=\"dataframe\">\n",
       "  <thead>\n",
       "    <tr style=\"text-align: right;\">\n",
       "      <th></th>\n",
       "      <th>Unnamed: 0</th>\n",
       "      <th>index</th>\n",
       "      <th>Author</th>\n",
       "      <th>PublicationDetails</th>\n",
       "      <th>Responses</th>\n",
       "      <th>Header</th>\n",
       "      <th>Text</th>\n",
       "      <th>Length</th>\n",
       "      <th>responsesCreatedCount</th>\n",
       "      <th>Date</th>\n",
       "      <th>A</th>\n",
       "      <th>daysonline</th>\n",
       "      <th>weekday</th>\n",
       "    </tr>\n",
       "  </thead>\n",
       "  <tbody>\n",
       "    <tr>\n",
       "      <th>0</th>\n",
       "      <td>0</td>\n",
       "      <td>0</td>\n",
       "      <td>Daniel Jeffries</td>\n",
       "      <td>Daniel Jeffries in HackerNoon.com</td>\n",
       "      <td>627.0</td>\n",
       "      <td>Why Everyone Missed the Most Mind-Blowing Feat...</td>\n",
       "      <td>There’s one incredible feature of cryptocurren...</td>\n",
       "      <td>23401</td>\n",
       "      <td>627.0</td>\n",
       "      <td>2017-07-31</td>\n",
       "      <td>2020-08-26</td>\n",
       "      <td>1122.0</td>\n",
       "      <td>0</td>\n",
       "    </tr>\n",
       "    <tr>\n",
       "      <th>1</th>\n",
       "      <td>1</td>\n",
       "      <td>1</td>\n",
       "      <td>Noam Levenson</td>\n",
       "      <td>Noam Levenson in HackerNoon.com</td>\n",
       "      <td>156.0</td>\n",
       "      <td>NEO versus Ethereum: Why NEO might be 2018’s s...</td>\n",
       "      <td>&lt;img class=\"progressiveMedia-noscript js-progr...</td>\n",
       "      <td>23972</td>\n",
       "      <td>156.0</td>\n",
       "      <td>2017-12-06</td>\n",
       "      <td>2020-08-26</td>\n",
       "      <td>994.0</td>\n",
       "      <td>2</td>\n",
       "    </tr>\n",
       "    <tr>\n",
       "      <th>2</th>\n",
       "      <td>2</td>\n",
       "      <td>2</td>\n",
       "      <td>Daniel Jeffries</td>\n",
       "      <td>Daniel Jeffries in HackerNoon.com</td>\n",
       "      <td>176.0</td>\n",
       "      <td>The Cryptocurrency Trading Bible</td>\n",
       "      <td>So you want to trade cryptocurrency?You’ve see...</td>\n",
       "      <td>402</td>\n",
       "      <td>176.0</td>\n",
       "      <td>2017-07-21</td>\n",
       "      <td>2020-08-26</td>\n",
       "      <td>1132.0</td>\n",
       "      <td>4</td>\n",
       "    </tr>\n",
       "    <tr>\n",
       "      <th>3</th>\n",
       "      <td>3</td>\n",
       "      <td>5</td>\n",
       "      <td>Haseeb Qureshi</td>\n",
       "      <td>Haseeb Qureshi in HackerNoon.com</td>\n",
       "      <td>72.0</td>\n",
       "      <td>Stablecoins: designing a price-stable cryptocu...</td>\n",
       "      <td>A useful currency should be a medium of exchan...</td>\n",
       "      <td>19730</td>\n",
       "      <td>72.0</td>\n",
       "      <td>2018-02-19</td>\n",
       "      <td>2020-08-26</td>\n",
       "      <td>919.0</td>\n",
       "      <td>0</td>\n",
       "    </tr>\n",
       "    <tr>\n",
       "      <th>4</th>\n",
       "      <td>4</td>\n",
       "      <td>7</td>\n",
       "      <td>William Belk</td>\n",
       "      <td>William Belk in HackerNoon.com</td>\n",
       "      <td>19.0</td>\n",
       "      <td>Chaos vs. Order — The Cryptocurrency Dilemma</td>\n",
       "      <td>Crypto crypto crypto crypto. It’s here. It’s h...</td>\n",
       "      <td>5324</td>\n",
       "      <td>19.0</td>\n",
       "      <td>2018-01-28</td>\n",
       "      <td>2020-08-26</td>\n",
       "      <td>941.0</td>\n",
       "      <td>6</td>\n",
       "    </tr>\n",
       "  </tbody>\n",
       "</table>\n",
       "</div>"
      ],
      "text/plain": [
       "   Unnamed: 0  index           Author  ...          A  daysonline weekday\n",
       "0           0      0  Daniel Jeffries  ... 2020-08-26      1122.0       0\n",
       "1           1      1    Noam Levenson  ... 2020-08-26       994.0       2\n",
       "2           2      2  Daniel Jeffries  ... 2020-08-26      1132.0       4\n",
       "3           3      5   Haseeb Qureshi  ... 2020-08-26       919.0       0\n",
       "4           4      7     William Belk  ... 2020-08-26       941.0       6\n",
       "\n",
       "[5 rows x 13 columns]"
      ]
     },
     "execution_count": 85,
     "metadata": {
      "tags": []
     },
     "output_type": "execute_result"
    }
   ],
   "source": [
    "df_test.head()"
   ]
  },
  {
   "cell_type": "code",
   "execution_count": 86,
   "metadata": {
    "colab": {},
    "colab_type": "code",
    "id": "T3tYOOlCzlt4"
   },
   "outputs": [],
   "source": [
    "df_test['publicationname']=df_test['PublicationDetails'].str.split('in ').str[1]"
   ]
  },
  {
   "cell_type": "code",
   "execution_count": 87,
   "metadata": {
    "colab": {
     "base_uri": "https://localhost:8080/",
     "height": 223
    },
    "colab_type": "code",
    "id": "B5T_iTlRCTBN",
    "outputId": "a972f507-0b33-4cc1-9294-9d7cc85860d3"
   },
   "outputs": [
    {
     "data": {
      "text/plain": [
       "Netflix TechBlog        175\n",
       "TE-FOOD                  34\n",
       "HackerNoon.com           21\n",
       "The Startup              20\n",
       "freeCodeCamp.org         15\n",
       "One Table, One World      9\n",
       "The Billfold              5\n",
       "Tank                      4\n",
       "The Future Market         4\n",
       "The Lily                  4\n",
       "Name: publicationname, dtype: int64"
      ]
     },
     "execution_count": 87,
     "metadata": {
      "tags": []
     },
     "output_type": "execute_result"
    }
   ],
   "source": [
    "df_test['publicationname'].value_counts()[:10]"
   ]
  },
  {
   "cell_type": "code",
   "execution_count": 88,
   "metadata": {
    "colab": {},
    "colab_type": "code",
    "id": "nVq-d1APKUFQ"
   },
   "outputs": [],
   "source": [
    "#We manually checked if names were written differently in the training set than in our test set for prediction. To do this manually is definitely\n",
    "#not the best way to do so due to its error rate\n",
    "df_test['publicationname'].replace({'HackerNoon.com': 'Hacker Noon'}, inplace=True)"
   ]
  },
  {
   "cell_type": "code",
   "execution_count": 89,
   "metadata": {
    "colab": {
     "base_uri": "https://localhost:8080/",
     "height": 36
    },
    "colab_type": "code",
    "id": "FCHMzb32RtLl",
    "outputId": "59f18d10-4afa-451c-b86f-9aa1d4504037"
   },
   "outputs": [
    {
     "data": {
      "text/plain": [
       "8.0"
      ]
     },
     "execution_count": 89,
     "metadata": {
      "tags": []
     },
     "output_type": "execute_result"
    }
   ],
   "source": [
    "#Filling the missing Headers with the first words of the available text. To do so, we first figgure out how long titles are\n",
    "df_test['titleWordCount'] = df_test['Header'].str.findall(r'(\\w+)').str.len()\n",
    "df_test['titleWordCount'].median()"
   ]
  },
  {
   "cell_type": "code",
   "execution_count": 90,
   "metadata": {
    "colab": {
     "base_uri": "https://localhost:8080/",
     "height": 129
    },
    "colab_type": "code",
    "id": "UsPhPM6XlIQq",
    "outputId": "41d304a4-ae51-445c-d56d-7db8ca191193"
   },
   "outputs": [
    {
     "data": {
      "text/plain": [
       "125    Show Us Your Grocery Receipts, Part One: Whole...\n",
       "126                            The sweetgreen Food Ethos\n",
       "127                           The FoodChain Has Launched\n",
       "128               So you’re thinking of growing your own\n",
       "129    Why Restaurants Buy Impossible: An Inside Sale...\n",
       "Name: Header, dtype: object"
      ]
     },
     "execution_count": 90,
     "metadata": {
      "tags": []
     },
     "output_type": "execute_result"
    }
   ],
   "source": [
    "from nltk.tokenize.treebank import TreebankWordDetokenizer\n",
    "df_test['titAlter']=df_test['Text'].str.split(' ').str[0:7] #the first 8 words\n",
    "df_test['titAlter']=df_test['titAlter'].apply(lambda x: TreebankWordDetokenizer().detokenize(x))\n",
    "df_test['Header']=df_test['Header'].fillna(df_test['titAlter'])\n",
    "df_test['Header'].iloc[125:130]\n",
    "#there might be a smoother one-line solution"
   ]
  },
  {
   "cell_type": "code",
   "execution_count": 91,
   "metadata": {
    "colab": {},
    "colab_type": "code",
    "id": "RH8Xft8-jQIP"
   },
   "outputs": [],
   "source": [
    "#creating our len variables\n",
    "df_test['len_text'] = df_test['Text'].str.len()\n",
    "df_test['len_title'] = df_test['Header'].str.len()"
   ]
  },
  {
   "cell_type": "code",
   "execution_count": 92,
   "metadata": {
    "colab": {
     "base_uri": "https://localhost:8080/",
     "height": 36
    },
    "colab_type": "code",
    "id": "xkDKOoZsM9cK",
    "outputId": "ba38db45-6963-4b9a-8e77-1e02ce1e1054"
   },
   "outputs": [
    {
     "data": {
      "text/plain": [
       "895.07666015625"
      ]
     },
     "execution_count": 92,
     "metadata": {
      "tags": []
     },
     "output_type": "execute_result"
    }
   ],
   "source": [
    "#In our training set we have the variable 'wordCount' provided. There are pros and cons to use this variable as alternative to len_text.\n",
    "#Pro: When training the model with both alternatives, wordCount turned out to be more valuable.\n",
    "#Cons: We do not know based on which text version (after cleaning or not) the original variable wordCount was created\n",
    "#(- unfortunately due to lack of RAM my system crashes when trying to reproduce this variable)\n",
    "df_test['wordCount'] = df_test['Text'].str.findall(r'(\\w+)').str.len()\n",
    "df_test['wordCount'].mean()\n",
    "df['wordCount'].mean()\n",
    "#I was tempted to stick to wordCount. However, the mean between wordCount of our training dataset and our prediction dataset differs so much, we decide it is the safer approach to make use of len_text instead of wordCount."
   ]
  },
  {
   "cell_type": "code",
   "execution_count": 93,
   "metadata": {
    "colab": {},
    "colab_type": "code",
    "id": "Eu4T6kJuFfJy"
   },
   "outputs": [],
   "source": [
    "df_test['imageCount'] = df_test.Text.str.findall('<img [^>]*src=\"([^\"]+)').apply(len)"
   ]
  },
  {
   "cell_type": "code",
   "execution_count": 94,
   "metadata": {
    "colab": {},
    "colab_type": "code",
    "id": "zTomrpum07pp"
   },
   "outputs": [],
   "source": [
    "df_test['text_short'] = df_test['Text'].astype(str).apply(lambda x: x[:5000])"
   ]
  },
  {
   "cell_type": "code",
   "execution_count": 95,
   "metadata": {
    "colab": {},
    "colab_type": "code",
    "id": "mgOtDvuj07qN"
   },
   "outputs": [],
   "source": [
    "# Lemmatize with POS Tag\n",
    "def get_wordnet_pos(word):\n",
    "    \"\"\"Map POS tag to first character for lemmatization\"\"\"\n",
    "    tag = nltk.pos_tag([word])[0][1][0].upper()\n",
    "    tag_dict = {\"J\": wordnet.ADJ,\n",
    "                \"N\": wordnet.NOUN,\n",
    "                \"V\": wordnet.VERB,\n",
    "                \"R\": wordnet.ADV}\n",
    "\n",
    "    return tag_dict.get(tag, wordnet.NOUN)"
   ]
  },
  {
   "cell_type": "code",
   "execution_count": 96,
   "metadata": {
    "colab": {
     "base_uri": "https://localhost:8080/",
     "height": 73
    },
    "colab_type": "code",
    "id": "f2woHuCS07qQ",
    "outputId": "9d51e855-19d6-4045-d20a-8f3af78d29ca"
   },
   "outputs": [
    {
     "name": "stdout",
     "output_type": "stream",
     "text": [
      "[nltk_data] Downloading package wordnet to /root/nltk_data...\n",
      "[nltk_data]   Package wordnet is already up-to-date!\n"
     ]
    },
    {
     "data": {
      "text/plain": [
       "True"
      ]
     },
     "execution_count": 96,
     "metadata": {
      "tags": []
     },
     "output_type": "execute_result"
    }
   ],
   "source": [
    "nltk.download('wordnet')"
   ]
  },
  {
   "cell_type": "code",
   "execution_count": 97,
   "metadata": {
    "colab": {},
    "colab_type": "code",
    "id": "WHvIsmr-07qU"
   },
   "outputs": [],
   "source": [
    "# this code is adapted from Lessmann (2020b)\n",
    "def clean_text(df):\n",
    "    \"\"\" Standard NLP pre-processing chain including removal of html tags, non-alphanumeric characters, and stopwords.\n",
    "        Words are subject to lemmatization using their POS tags, which are determind using WordNet. \n",
    "    \"\"\"\n",
    "    articles = []\n",
    "\n",
    "    lemmatizer = WordNetLemmatizer()\n",
    "    \n",
    "    print('*' * 40)\n",
    "    print('Cleaning {} text/title.'.format(df.shape[0]))\n",
    "    counter = 0\n",
    "    for article in df:\n",
    "        \n",
    "        # remove html content\n",
    "        article_text = BeautifulSoup(article).get_text()\n",
    "        \n",
    "        # remove non-alphabetic characters\n",
    "        article_text = re.sub(\"[^a-zA-Z]\",\" \", article_text)\n",
    "    \n",
    "        # tokenize the sentences\n",
    "        words = word_tokenize(article_text.lower())\n",
    "  \n",
    "        # filter stopwords\n",
    "        words = [w for w in words if w not in stopwords.words(\"english\")]\n",
    "        \n",
    "        # lemmatize each word to its lemma\n",
    "        lemma_words =[lemmatizer.lemmatize(i, get_wordnet_pos(i)) for i in words]\n",
    "    \n",
    "        articles.append(lemma_words)\n",
    "              \n",
    "        if (counter > 0 and counter % 20 == 0):\n",
    "            print('Processed {} text/titles'.format(counter))\n",
    "            \n",
    "        counter += 1\n",
    "        \n",
    "    print('DONE')\n",
    "    print('*' * 40)\n",
    "\n",
    "    return(articles) "
   ]
  },
  {
   "cell_type": "code",
   "execution_count": 98,
   "metadata": {
    "colab": {
     "base_uri": "https://localhost:8080/",
     "height": 615
    },
    "colab_type": "code",
    "id": "dlG3S3MW07qc",
    "outputId": "af7d06cb-723c-460d-9a9e-98cf558d48ec"
   },
   "outputs": [
    {
     "name": "stdout",
     "output_type": "stream",
     "text": [
      "[nltk_data] Downloading package averaged_perceptron_tagger to\n",
      "[nltk_data]     /root/nltk_data...\n",
      "[nltk_data]   Unzipping taggers/averaged_perceptron_tagger.zip.\n",
      "****************************************\n",
      "Cleaning 514 text/title.\n",
      "Processed 20 text/titles\n",
      "Processed 40 text/titles\n",
      "Processed 60 text/titles\n",
      "Processed 80 text/titles\n",
      "Processed 100 text/titles\n",
      "Processed 120 text/titles\n",
      "Processed 140 text/titles\n",
      "Processed 160 text/titles\n",
      "Processed 180 text/titles\n",
      "Processed 200 text/titles\n",
      "Processed 220 text/titles\n",
      "Processed 240 text/titles\n",
      "Processed 260 text/titles\n",
      "Processed 280 text/titles\n",
      "Processed 300 text/titles\n",
      "Processed 320 text/titles\n",
      "Processed 340 text/titles\n",
      "Processed 360 text/titles\n",
      "Processed 380 text/titles\n",
      "Processed 400 text/titles\n",
      "Processed 420 text/titles\n",
      "Processed 440 text/titles\n",
      "Processed 460 text/titles\n",
      "Processed 480 text/titles\n",
      "Processed 500 text/titles\n",
      "DONE\n",
      "****************************************\n"
     ]
    }
   ],
   "source": [
    "import nltk\n",
    "nltk.download('averaged_perceptron_tagger')\n",
    "# Do the cleaning\n",
    "Text = clean_text(df_test.text_short)"
   ]
  },
  {
   "cell_type": "code",
   "execution_count": 99,
   "metadata": {
    "colab": {
     "base_uri": "https://localhost:8080/",
     "height": 559
    },
    "colab_type": "code",
    "id": "cQuwayO2GXtR",
    "outputId": "e5e1cf33-70b4-4035-84e1-510fc3410210"
   },
   "outputs": [
    {
     "name": "stdout",
     "output_type": "stream",
     "text": [
      "****************************************\n",
      "Cleaning 514 text/title.\n",
      "Processed 20 text/titles\n",
      "Processed 40 text/titles\n",
      "Processed 60 text/titles\n",
      "Processed 80 text/titles\n",
      "Processed 100 text/titles\n",
      "Processed 120 text/titles\n",
      "Processed 140 text/titles\n",
      "Processed 160 text/titles\n",
      "Processed 180 text/titles\n",
      "Processed 200 text/titles\n",
      "Processed 220 text/titles\n",
      "Processed 240 text/titles\n",
      "Processed 260 text/titles\n",
      "Processed 280 text/titles\n",
      "Processed 300 text/titles\n",
      "Processed 320 text/titles\n",
      "Processed 340 text/titles\n",
      "Processed 360 text/titles\n",
      "Processed 380 text/titles\n",
      "Processed 400 text/titles\n",
      "Processed 420 text/titles\n",
      "Processed 440 text/titles\n",
      "Processed 460 text/titles\n",
      "Processed 480 text/titles\n",
      "Processed 500 text/titles\n",
      "DONE\n",
      "****************************************\n"
     ]
    }
   ],
   "source": [
    "Title = clean_text(df_test.Header)"
   ]
  },
  {
   "cell_type": "code",
   "execution_count": 100,
   "metadata": {
    "colab": {},
    "colab_type": "code",
    "id": "Cz9GDEtkGZ6B"
   },
   "outputs": [],
   "source": [
    "# Undo the tokenization and put the data into a new column in the data frame.\n",
    "from nltk.tokenize.treebank import TreebankWordDetokenizer\n",
    "\n",
    "df_test['text'] = [TreebankWordDetokenizer().detokenize(word) for word in Text]\n",
    "df_test['title'] = [TreebankWordDetokenizer().detokenize(wrd) for wrd in Title]"
   ]
  },
  {
   "cell_type": "code",
   "execution_count": 101,
   "metadata": {
    "colab": {
     "base_uri": "https://localhost:8080/",
     "height": 467
    },
    "colab_type": "code",
    "id": "EgaCypHvnUXX",
    "outputId": "f4660751-b552-4c90-850e-9b5d47556a1e"
   },
   "outputs": [
    {
     "name": "stdout",
     "output_type": "stream",
     "text": [
      "Collecting langdetect\n",
      "\u001b[?25l  Downloading https://files.pythonhosted.org/packages/56/a3/8407c1e62d5980188b4acc45ef3d94b933d14a2ebc9ef3505f22cf772570/langdetect-1.0.8.tar.gz (981kB)\n",
      "\r",
      "\u001b[K     |▍                               | 10kB 6.0MB/s eta 0:00:01\r",
      "\u001b[K     |▊                               | 20kB 8.0MB/s eta 0:00:01\r",
      "\u001b[K     |█                               | 30kB 8.4MB/s eta 0:00:01\r",
      "\u001b[K     |█▍                              | 40kB 8.1MB/s eta 0:00:01\r",
      "\u001b[K     |█▊                              | 51kB 8.3MB/s eta 0:00:01\r",
      "\u001b[K     |██                              | 61kB 9.3MB/s eta 0:00:01\r",
      "\u001b[K     |██▍                             | 71kB 8.8MB/s eta 0:00:01\r",
      "\u001b[K     |██▊                             | 81kB 9.1MB/s eta 0:00:01\r",
      "\u001b[K     |███                             | 92kB 9.7MB/s eta 0:00:01\r",
      "\u001b[K     |███▍                            | 102kB 9.5MB/s eta 0:00:01\r",
      "\u001b[K     |███▊                            | 112kB 9.5MB/s eta 0:00:01\r",
      "\u001b[K     |████                            | 122kB 9.5MB/s eta 0:00:01\r",
      "\u001b[K     |████▍                           | 133kB 9.5MB/s eta 0:00:01\r",
      "\u001b[K     |████▊                           | 143kB 9.5MB/s eta 0:00:01\r",
      "\u001b[K     |█████                           | 153kB 9.5MB/s eta 0:00:01\r",
      "\u001b[K     |█████▍                          | 163kB 9.5MB/s eta 0:00:01\r",
      "\u001b[K     |█████▊                          | 174kB 9.5MB/s eta 0:00:01\r",
      "\u001b[K     |██████                          | 184kB 9.5MB/s eta 0:00:01\r",
      "\u001b[K     |██████▍                         | 194kB 9.5MB/s eta 0:00:01\r",
      "\u001b[K     |██████▊                         | 204kB 9.5MB/s eta 0:00:01\r",
      "\u001b[K     |███████                         | 215kB 9.5MB/s eta 0:00:01\r",
      "\u001b[K     |███████▍                        | 225kB 9.5MB/s eta 0:00:01\r",
      "\u001b[K     |███████▊                        | 235kB 9.5MB/s eta 0:00:01\r",
      "\u001b[K     |████████                        | 245kB 9.5MB/s eta 0:00:01\r",
      "\u001b[K     |████████▍                       | 256kB 9.5MB/s eta 0:00:01\r",
      "\u001b[K     |████████▊                       | 266kB 9.5MB/s eta 0:00:01\r",
      "\u001b[K     |█████████                       | 276kB 9.5MB/s eta 0:00:01\r",
      "\u001b[K     |█████████▍                      | 286kB 9.5MB/s eta 0:00:01\r",
      "\u001b[K     |█████████▊                      | 296kB 9.5MB/s eta 0:00:01\r",
      "\u001b[K     |██████████                      | 307kB 9.5MB/s eta 0:00:01\r",
      "\u001b[K     |██████████▍                     | 317kB 9.5MB/s eta 0:00:01\r",
      "\u001b[K     |██████████▊                     | 327kB 9.5MB/s eta 0:00:01\r",
      "\u001b[K     |███████████                     | 337kB 9.5MB/s eta 0:00:01\r",
      "\u001b[K     |███████████▍                    | 348kB 9.5MB/s eta 0:00:01\r",
      "\u001b[K     |███████████▊                    | 358kB 9.5MB/s eta 0:00:01\r",
      "\u001b[K     |████████████                    | 368kB 9.5MB/s eta 0:00:01\r",
      "\u001b[K     |████████████▍                   | 378kB 9.5MB/s eta 0:00:01\r",
      "\u001b[K     |████████████▊                   | 389kB 9.5MB/s eta 0:00:01\r",
      "\u001b[K     |█████████████                   | 399kB 9.5MB/s eta 0:00:01\r",
      "\u001b[K     |█████████████▍                  | 409kB 9.5MB/s eta 0:00:01\r",
      "\u001b[K     |█████████████▊                  | 419kB 9.5MB/s eta 0:00:01\r",
      "\u001b[K     |██████████████                  | 430kB 9.5MB/s eta 0:00:01\r",
      "\u001b[K     |██████████████▍                 | 440kB 9.5MB/s eta 0:00:01\r",
      "\u001b[K     |██████████████▊                 | 450kB 9.5MB/s eta 0:00:01\r",
      "\u001b[K     |███████████████                 | 460kB 9.5MB/s eta 0:00:01\r",
      "\u001b[K     |███████████████▍                | 471kB 9.5MB/s eta 0:00:01\r",
      "\u001b[K     |███████████████▊                | 481kB 9.5MB/s eta 0:00:01\r",
      "\u001b[K     |████████████████                | 491kB 9.5MB/s eta 0:00:01\r",
      "\u001b[K     |████████████████▍               | 501kB 9.5MB/s eta 0:00:01\r",
      "\u001b[K     |████████████████▊               | 512kB 9.5MB/s eta 0:00:01\r",
      "\u001b[K     |█████████████████               | 522kB 9.5MB/s eta 0:00:01\r",
      "\u001b[K     |█████████████████▍              | 532kB 9.5MB/s eta 0:00:01\r",
      "\u001b[K     |█████████████████▊              | 542kB 9.5MB/s eta 0:00:01\r",
      "\u001b[K     |██████████████████              | 552kB 9.5MB/s eta 0:00:01\r",
      "\u001b[K     |██████████████████▍             | 563kB 9.5MB/s eta 0:00:01\r",
      "\u001b[K     |██████████████████▊             | 573kB 9.5MB/s eta 0:00:01\r",
      "\u001b[K     |███████████████████             | 583kB 9.5MB/s eta 0:00:01\r",
      "\u001b[K     |███████████████████▍            | 593kB 9.5MB/s eta 0:00:01\r",
      "\u001b[K     |███████████████████▊            | 604kB 9.5MB/s eta 0:00:01\r",
      "\u001b[K     |████████████████████            | 614kB 9.5MB/s eta 0:00:01\r",
      "\u001b[K     |████████████████████▍           | 624kB 9.5MB/s eta 0:00:01\r",
      "\u001b[K     |████████████████████▊           | 634kB 9.5MB/s eta 0:00:01\r",
      "\u001b[K     |█████████████████████           | 645kB 9.5MB/s eta 0:00:01\r",
      "\u001b[K     |█████████████████████▍          | 655kB 9.5MB/s eta 0:00:01\r",
      "\u001b[K     |█████████████████████▊          | 665kB 9.5MB/s eta 0:00:01\r",
      "\u001b[K     |██████████████████████          | 675kB 9.5MB/s eta 0:00:01\r",
      "\u001b[K     |██████████████████████▍         | 686kB 9.5MB/s eta 0:00:01\r",
      "\u001b[K     |██████████████████████▊         | 696kB 9.5MB/s eta 0:00:01\r",
      "\u001b[K     |███████████████████████         | 706kB 9.5MB/s eta 0:00:01\r",
      "\u001b[K     |███████████████████████▍        | 716kB 9.5MB/s eta 0:00:01\r",
      "\u001b[K     |███████████████████████▊        | 727kB 9.5MB/s eta 0:00:01\r",
      "\u001b[K     |████████████████████████        | 737kB 9.5MB/s eta 0:00:01\r",
      "\u001b[K     |████████████████████████▍       | 747kB 9.5MB/s eta 0:00:01\r",
      "\u001b[K     |████████████████████████▊       | 757kB 9.5MB/s eta 0:00:01\r",
      "\u001b[K     |█████████████████████████       | 768kB 9.5MB/s eta 0:00:01\r",
      "\u001b[K     |█████████████████████████▍      | 778kB 9.5MB/s eta 0:00:01\r",
      "\u001b[K     |█████████████████████████▊      | 788kB 9.5MB/s eta 0:00:01\r",
      "\u001b[K     |██████████████████████████      | 798kB 9.5MB/s eta 0:00:01\r",
      "\u001b[K     |██████████████████████████▍     | 808kB 9.5MB/s eta 0:00:01\r",
      "\u001b[K     |██████████████████████████▊     | 819kB 9.5MB/s eta 0:00:01\r",
      "\u001b[K     |███████████████████████████     | 829kB 9.5MB/s eta 0:00:01\r",
      "\u001b[K     |███████████████████████████▍    | 839kB 9.5MB/s eta 0:00:01\r",
      "\u001b[K     |███████████████████████████▊    | 849kB 9.5MB/s eta 0:00:01\r",
      "\u001b[K     |████████████████████████████    | 860kB 9.5MB/s eta 0:00:01\r",
      "\u001b[K     |████████████████████████████▍   | 870kB 9.5MB/s eta 0:00:01\r",
      "\u001b[K     |████████████████████████████▊   | 880kB 9.5MB/s eta 0:00:01\r",
      "\u001b[K     |█████████████████████████████   | 890kB 9.5MB/s eta 0:00:01\r",
      "\u001b[K     |█████████████████████████████▍  | 901kB 9.5MB/s eta 0:00:01\r",
      "\u001b[K     |█████████████████████████████▊  | 911kB 9.5MB/s eta 0:00:01\r",
      "\u001b[K     |██████████████████████████████  | 921kB 9.5MB/s eta 0:00:01\r",
      "\u001b[K     |██████████████████████████████▍ | 931kB 9.5MB/s eta 0:00:01\r",
      "\u001b[K     |██████████████████████████████▊ | 942kB 9.5MB/s eta 0:00:01\r",
      "\u001b[K     |███████████████████████████████ | 952kB 9.5MB/s eta 0:00:01\r",
      "\u001b[K     |███████████████████████████████▍| 962kB 9.5MB/s eta 0:00:01\r",
      "\u001b[K     |███████████████████████████████▊| 972kB 9.5MB/s eta 0:00:01\r",
      "\u001b[K     |████████████████████████████████| 983kB 9.5MB/s \n",
      "\u001b[?25hRequirement already satisfied: six in /usr/local/lib/python3.6/dist-packages (from langdetect) (1.15.0)\n",
      "Building wheels for collected packages: langdetect\n",
      "  Building wheel for langdetect (setup.py) ... \u001b[?25l\u001b[?25hdone\n",
      "  Created wheel for langdetect: filename=langdetect-1.0.8-cp36-none-any.whl size=993195 sha256=347de53e83d941ad10e380ac46106939cd2546638b80ed825c37097869adf833\n",
      "  Stored in directory: /root/.cache/pip/wheels/8d/b3/aa/6d99de9f3841d7d3d40a60ea06e6d669e8e5012e6c8b947a57\n",
      "Successfully built langdetect\n",
      "Installing collected packages: langdetect\n",
      "Successfully installed langdetect-1.0.8\n"
     ]
    },
    {
     "data": {
      "text/plain": [
       "en    491\n",
       "de      5\n",
       "ca      4\n",
       "nl      3\n",
       "ro      2\n",
       "no      2\n",
       "af      2\n",
       "it      2\n",
       "id      1\n",
       "fi      1\n",
       "ja      1\n",
       "Name: language, dtype: int64"
      ]
     },
     "execution_count": 101,
     "metadata": {
      "tags": []
     },
     "output_type": "execute_result"
    }
   ],
   "source": [
    "!pip install langdetect\n",
    "import langdetect\n",
    "from langdetect import detect #I wanted to know how well this imported function works. See Appendix 6 for a test I conducted on the training dataset.\n",
    "df_test['language'] = df_test['Header'].apply(detect)\n",
    "df_test['language'].value_counts() #We have decided against a dummy for English articles only when training and, instead, limited the training set to English acrticles only.\n",
    "#Unfortunately, therefore, the predictions for the few articles which are not in English will be less precise."
   ]
  },
  {
   "cell_type": "code",
   "execution_count": 102,
   "metadata": {
    "colab": {},
    "colab_type": "code",
    "id": "MVPb7GNUQHE6"
   },
   "outputs": [],
   "source": [
    "#SENTIMENT ANALYSER\n",
    "from textblob import TextBlob\n",
    "# Defining a sentiment analyser function\n",
    "def sentiment_analyser(text):\n",
    "    return text.apply(lambda Text: pd.Series(TextBlob(Text).sentiment.polarity))\n",
    "\n",
    "df_test['Polarity'] = sentiment_analyser(df_test['text'])"
   ]
  },
  {
   "cell_type": "code",
   "execution_count": 103,
   "metadata": {
    "colab": {},
    "colab_type": "code",
    "id": "Cdzuei5R-xXs"
   },
   "outputs": [],
   "source": [
    "## Count occurence of top fiveteen words in every title in dataframe\n",
    "df_test['top_title_count'] = df_test['title'].apply(lambda s: sum(s.count(top_title_words[i]) for  i in range(15)))\n",
    "df_test['top_text_count'] = df_test['text'].apply(lambda s: sum(s.count(top_text_words[i]) for  i in range(15)))"
   ]
  },
  {
   "cell_type": "code",
   "execution_count": 104,
   "metadata": {
    "colab": {
     "base_uri": "https://localhost:8080/",
     "height": 112
    },
    "colab_type": "code",
    "id": "MTrbJpqX_6Wl",
    "outputId": "8669088d-29c0-474a-fec9-fbf9aa72c1d9"
   },
   "outputs": [
    {
     "name": "stderr",
     "output_type": "stream",
     "text": [
      "/usr/local/lib/python3.6/dist-packages/ipykernel_launcher.py:10: DeprecationWarning: Call to deprecated `__contains__` (Method will be removed in 4.0.0, use self.wv.__contains__() instead).\n",
      "  # Remove the CWD from sys.path while we load stuff.\n",
      "/usr/local/lib/python3.6/dist-packages/ipykernel_launcher.py:10: DeprecationWarning: Call to deprecated `__getitem__` (Method will be removed in 4.0.0, use self.wv.__getitem__() instead).\n",
      "  # Remove the CWD from sys.path while we load stuff.\n"
     ]
    }
   ],
   "source": [
    "#TOPIC MODELING\n",
    "text_df_test = pd.DataFrame(df_test.text)\n",
    "text_df_test.columns = ['text']\n",
    "df_test_wtv = wtv_vect.transform(text_df_test.text)"
   ]
  },
  {
   "cell_type": "code",
   "execution_count": 105,
   "metadata": {
    "colab": {
     "base_uri": "https://localhost:8080/",
     "height": 36
    },
    "colab_type": "code",
    "id": "0vEv3KaU_6XX",
    "outputId": "cc12f9e8-2c2d-4a6b-cb08-ffe4bd0a5601"
   },
   "outputs": [
    {
     "name": "stdout",
     "output_type": "stream",
     "text": [
      "(514, 100)\n"
     ]
    }
   ],
   "source": [
    "y_km_df_test = km.predict(df_test_wtv)\n",
    "print(df_test_wtv.shape)\n",
    "\n",
    "km_df_test_pred = pd.DataFrame({'text' :text_df_test.text, 'topic_cluster' :y_km_df_test })"
   ]
  },
  {
   "cell_type": "code",
   "execution_count": 106,
   "metadata": {
    "colab": {},
    "colab_type": "code",
    "id": "EyJ3Qzqx_6Xv"
   },
   "outputs": [],
   "source": [
    "df_test['topic_w2v']=km_df_test_pred['topic_cluster']"
   ]
  },
  {
   "cell_type": "code",
   "execution_count": 76,
   "metadata": {
    "colab": {
     "base_uri": "https://localhost:8080/",
     "height": 521
    },
    "colab_type": "code",
    "id": "Gkl7qwLCSJXi",
    "outputId": "b32c4d5a-8ec8-4991-a126-7cb9311389b5"
   },
   "outputs": [
    {
     "data": {
      "text/html": [
       "<div>\n",
       "<style scoped>\n",
       "    .dataframe tbody tr th:only-of-type {\n",
       "        vertical-align: middle;\n",
       "    }\n",
       "\n",
       "    .dataframe tbody tr th {\n",
       "        vertical-align: top;\n",
       "    }\n",
       "\n",
       "    .dataframe thead th {\n",
       "        text-align: right;\n",
       "    }\n",
       "</style>\n",
       "<table border=\"1\" class=\"dataframe\">\n",
       "  <thead>\n",
       "    <tr style=\"text-align: right;\">\n",
       "      <th></th>\n",
       "      <th>Unnamed: 0</th>\n",
       "      <th>index</th>\n",
       "      <th>Author</th>\n",
       "      <th>PublicationDetails</th>\n",
       "      <th>Responses</th>\n",
       "      <th>Header</th>\n",
       "      <th>Text</th>\n",
       "      <th>Length</th>\n",
       "      <th>responsesCreatedCount</th>\n",
       "      <th>Date</th>\n",
       "      <th>A</th>\n",
       "      <th>daysonline</th>\n",
       "      <th>weekday</th>\n",
       "      <th>publicationname</th>\n",
       "      <th>titleWordCount</th>\n",
       "      <th>titAlter</th>\n",
       "      <th>len_text</th>\n",
       "      <th>len_title</th>\n",
       "      <th>wordCount</th>\n",
       "      <th>imageCount</th>\n",
       "      <th>text_short</th>\n",
       "      <th>text</th>\n",
       "      <th>title</th>\n",
       "      <th>language</th>\n",
       "      <th>Polarity</th>\n",
       "      <th>top_title_count</th>\n",
       "      <th>top_text_count</th>\n",
       "      <th>topic_w2v</th>\n",
       "    </tr>\n",
       "  </thead>\n",
       "  <tbody>\n",
       "    <tr>\n",
       "      <th>0</th>\n",
       "      <td>0</td>\n",
       "      <td>0</td>\n",
       "      <td>Daniel Jeffries</td>\n",
       "      <td>Daniel Jeffries in HackerNoon.com</td>\n",
       "      <td>627.0</td>\n",
       "      <td>Why Everyone Missed the Most Mind-Blowing Feat...</td>\n",
       "      <td>There’s one incredible feature of cryptocurren...</td>\n",
       "      <td>23401</td>\n",
       "      <td>627.0</td>\n",
       "      <td>2017-07-31</td>\n",
       "      <td>2020-08-25</td>\n",
       "      <td>1121.0</td>\n",
       "      <td>0</td>\n",
       "      <td>Hacker Noon</td>\n",
       "      <td>10.0</td>\n",
       "      <td>There’s one incredible feature of cryptocurren...</td>\n",
       "      <td>23401</td>\n",
       "      <td>67</td>\n",
       "      <td>4092</td>\n",
       "      <td>10</td>\n",
       "      <td>There’s one incredible feature of cryptocurren...</td>\n",
       "      <td>one incredible feature cryptocurrencies almost...</td>\n",
       "      <td>everyone miss mind blowing feature cryptocurrency</td>\n",
       "      <td>en</td>\n",
       "      <td>0.104543</td>\n",
       "      <td>0</td>\n",
       "      <td>50</td>\n",
       "      <td>3</td>\n",
       "    </tr>\n",
       "    <tr>\n",
       "      <th>1</th>\n",
       "      <td>1</td>\n",
       "      <td>1</td>\n",
       "      <td>Noam Levenson</td>\n",
       "      <td>Noam Levenson in HackerNoon.com</td>\n",
       "      <td>156.0</td>\n",
       "      <td>NEO versus Ethereum: Why NEO might be 2018’s s...</td>\n",
       "      <td>&lt;img class=\"progressiveMedia-noscript js-progr...</td>\n",
       "      <td>23972</td>\n",
       "      <td>156.0</td>\n",
       "      <td>2017-12-06</td>\n",
       "      <td>2020-08-25</td>\n",
       "      <td>993.0</td>\n",
       "      <td>2</td>\n",
       "      <td>Hacker Noon</td>\n",
       "      <td>11.0</td>\n",
       "      <td>&lt;img class=\"progressiveMedia-noscript js-progr...</td>\n",
       "      <td>23972</td>\n",
       "      <td>69</td>\n",
       "      <td>3902</td>\n",
       "      <td>9</td>\n",
       "      <td>&lt;img class=\"progressiveMedia-noscript js-progr...</td>\n",
       "      <td>onchainneo founder da hongfei erik zhang found...</td>\n",
       "      <td>neo versus ethereum neo might strong cryptocur...</td>\n",
       "      <td>en</td>\n",
       "      <td>0.158771</td>\n",
       "      <td>0</td>\n",
       "      <td>59</td>\n",
       "      <td>4</td>\n",
       "    </tr>\n",
       "    <tr>\n",
       "      <th>2</th>\n",
       "      <td>2</td>\n",
       "      <td>2</td>\n",
       "      <td>Daniel Jeffries</td>\n",
       "      <td>Daniel Jeffries in HackerNoon.com</td>\n",
       "      <td>176.0</td>\n",
       "      <td>The Cryptocurrency Trading Bible</td>\n",
       "      <td>So you want to trade cryptocurrency?You’ve see...</td>\n",
       "      <td>402</td>\n",
       "      <td>176.0</td>\n",
       "      <td>2017-07-21</td>\n",
       "      <td>2020-08-25</td>\n",
       "      <td>1131.0</td>\n",
       "      <td>4</td>\n",
       "      <td>Hacker Noon</td>\n",
       "      <td>4.0</td>\n",
       "      <td>So you want to trade cryptocurrency?You’ve seen</td>\n",
       "      <td>402</td>\n",
       "      <td>32</td>\n",
       "      <td>80</td>\n",
       "      <td>0</td>\n",
       "      <td>So you want to trade cryptocurrency?You’ve see...</td>\n",
       "      <td>want trade cryptocurrency see eye pop return w...</td>\n",
       "      <td>cryptocurrency trading bible</td>\n",
       "      <td>en</td>\n",
       "      <td>0.010298</td>\n",
       "      <td>0</td>\n",
       "      <td>2</td>\n",
       "      <td>3</td>\n",
       "    </tr>\n",
       "    <tr>\n",
       "      <th>3</th>\n",
       "      <td>3</td>\n",
       "      <td>5</td>\n",
       "      <td>Haseeb Qureshi</td>\n",
       "      <td>Haseeb Qureshi in HackerNoon.com</td>\n",
       "      <td>72.0</td>\n",
       "      <td>Stablecoins: designing a price-stable cryptocu...</td>\n",
       "      <td>A useful currency should be a medium of exchan...</td>\n",
       "      <td>19730</td>\n",
       "      <td>72.0</td>\n",
       "      <td>2018-02-19</td>\n",
       "      <td>2020-08-25</td>\n",
       "      <td>918.0</td>\n",
       "      <td>0</td>\n",
       "      <td>Hacker Noon</td>\n",
       "      <td>6.0</td>\n",
       "      <td>A useful currency should be a medium</td>\n",
       "      <td>19730</td>\n",
       "      <td>52</td>\n",
       "      <td>3277</td>\n",
       "      <td>7</td>\n",
       "      <td>A useful currency should be a medium of exchan...</td>\n",
       "      <td>useful currency medium exchange unit account s...</td>\n",
       "      <td>stablecoins design price stable cryptocurrency</td>\n",
       "      <td>en</td>\n",
       "      <td>0.035018</td>\n",
       "      <td>0</td>\n",
       "      <td>35</td>\n",
       "      <td>3</td>\n",
       "    </tr>\n",
       "    <tr>\n",
       "      <th>4</th>\n",
       "      <td>4</td>\n",
       "      <td>7</td>\n",
       "      <td>William Belk</td>\n",
       "      <td>William Belk in HackerNoon.com</td>\n",
       "      <td>19.0</td>\n",
       "      <td>Chaos vs. Order — The Cryptocurrency Dilemma</td>\n",
       "      <td>Crypto crypto crypto crypto. It’s here. It’s h...</td>\n",
       "      <td>5324</td>\n",
       "      <td>19.0</td>\n",
       "      <td>2018-01-28</td>\n",
       "      <td>2020-08-25</td>\n",
       "      <td>940.0</td>\n",
       "      <td>6</td>\n",
       "      <td>Hacker Noon</td>\n",
       "      <td>6.0</td>\n",
       "      <td>Crypto crypto crypto crypto. It’s here. It’s</td>\n",
       "      <td>5324</td>\n",
       "      <td>44</td>\n",
       "      <td>860</td>\n",
       "      <td>0</td>\n",
       "      <td>Crypto crypto crypto crypto. It’s here. It’s h...</td>\n",
       "      <td>crypto crypto crypto crypto happen big way fas...</td>\n",
       "      <td>chaos v order cryptocurrency dilemma</td>\n",
       "      <td>en</td>\n",
       "      <td>0.112925</td>\n",
       "      <td>0</td>\n",
       "      <td>30</td>\n",
       "      <td>4</td>\n",
       "    </tr>\n",
       "  </tbody>\n",
       "</table>\n",
       "</div>"
      ],
      "text/plain": [
       "   Unnamed: 0  index  ... top_text_count topic_w2v\n",
       "0           0      0  ...             50         3\n",
       "1           1      1  ...             59         4\n",
       "2           2      2  ...              2         3\n",
       "3           3      5  ...             35         3\n",
       "4           4      7  ...             30         4\n",
       "\n",
       "[5 rows x 28 columns]"
      ]
     },
     "execution_count": 76,
     "metadata": {
      "tags": []
     },
     "output_type": "execute_result"
    }
   ],
   "source": [
    "df_test.head()"
   ]
  },
  {
   "cell_type": "markdown",
   "metadata": {
    "colab_type": "text",
    "id": "Du1tvuh0v_Xo"
   },
   "source": [
    "**4.2 Prediction and submission preparation**"
   ]
  },
  {
   "cell_type": "code",
   "execution_count": 107,
   "metadata": {
    "colab": {},
    "colab_type": "code",
    "id": "11ONiDglO9TS"
   },
   "outputs": [],
   "source": [
    "df_test1=df_test[['responsesCreatedCount', 'len_text', 'imageCount', 'len_title','daysonline', 'weekday', 'top_title_count', 'top_text_count', 'publicationname', 'Polarity', 'topic_w2v']]"
   ]
  },
  {
   "cell_type": "code",
   "execution_count": 108,
   "metadata": {
    "colab": {},
    "colab_type": "code",
    "id": "g7wa2U_uO9Tb"
   },
   "outputs": [],
   "source": [
    "cat_columns = ['topic_w2v',  'publicationname','weekday']"
   ]
  },
  {
   "cell_type": "markdown",
   "metadata": {
    "colab_type": "text",
    "id": "Ox-_EaMbO9Tp"
   },
   "source": [
    "We create the dummies in the test set based on the dummies of the training set."
   ]
  },
  {
   "cell_type": "code",
   "execution_count": 109,
   "metadata": {
    "colab": {},
    "colab_type": "code",
    "id": "xxkSXZ3WO9Tu"
   },
   "outputs": [],
   "source": [
    "df_test1 = pd.get_dummies(df_test1, prefix_sep=\"__\", \n",
    "                                   columns=cat_columns)"
   ]
  },
  {
   "cell_type": "code",
   "execution_count": 110,
   "metadata": {
    "colab": {
     "base_uri": "https://localhost:8080/",
     "height": 1000
    },
    "colab_type": "code",
    "id": "EvjgmM9NO9Tz",
    "outputId": "81cbf782-03be-4f22-98fc-1f698c5f35db"
   },
   "outputs": [
    {
     "name": "stdout",
     "output_type": "stream",
     "text": [
      "Removing additional feature publicationname__\n",
      "Removing additional feature publicationname__ABUNDANCE INSIGHTS\n",
      "Removing additional feature publicationname__Accelerated Intelligence\n",
      "Removing additional feature publicationname__Age of Awareness\n",
      "Removing additional feature publicationname__Anthemis Insights\n",
      "Removing additional feature publicationname__ArcNews by Esri\n",
      "Removing additional feature publicationname__BULLY KING Magazine\n",
      "Removing additional feature publicationname__Backchannel\n",
      "Removing additional feature publicationname__Be Yourself\n",
      "Removing additional feature publicationname__BlockChannel\n",
      "Removing additional feature publicationname__Circulate News\n",
      "Removing additional feature publicationname__Code Like A Girl\n",
      "Removing additional feature publicationname__Cognitive Dissident\n",
      "Removing additional feature publicationname__Cosmos Blog\n",
      "Removing additional feature publicationname__Design @ DoorDash\n",
      "Removing additional feature publicationname__Dialogue & Discourse\n",
      "Removing additional feature publicationname__Endless\n",
      "Removing additional feature publicationname__Eniac Ventures\n",
      "Removing additional feature publicationname__Ensia\n",
      "Removing additional feature publicationname__Entrepreneur First\n",
      "Removing additional feature publicationname__Farmdrop\n",
      "Removing additional feature publicationname__Figma Design\n",
      "Removing additional feature publicationname__Foundation\n",
      "Removing additional feature publicationname__Frazzled\n",
      "Removing additional feature publicationname__From The Kitchen\n",
      "Removing additional feature publicationname__Galleys\n",
      "Removing additional feature publicationname__Human Development Project\n",
      "Removing additional feature publicationname__Hyperlink Magazine\n",
      "Removing additional feature publicationname__INSURGE intelligence\n",
      "Removing additional feature publicationname__Invironment\n",
      "Removing additional feature publicationname__Jashanmal \n",
      "Removing additional feature publicationname__Land And Ladle\n",
      "Removing additional feature publicationname__Liteco\n",
      "Removing additional feature publicationname__Local Futures\n",
      "Removing additional feature publicationname__Marketing and Entrepreneurship\n",
      "Removing additional feature publicationname__Meyer \n",
      "Removing additional feature publicationname__Netflix TechBlog\n",
      "Removing additional feature publicationname__NewCo Shift\n",
      "Removing additional feature publicationname__One Table, One World\n",
      "Removing additional feature publicationname__OneZero\n",
      "Removing additional feature publicationname__OriginTrail\n",
      "Removing additional feature publicationname__Padlet, Ink.\n",
      "Removing additional feature publicationname__Park \n",
      "Removing additional feature publicationname__Planport\n",
      "Removing additional feature publicationname__Publisher \n",
      "Removing additional feature publicationname__Radical Urbanist\n",
      "Removing additional feature publicationname__Real Life Stories\n",
      "Removing additional feature publicationname__Revista Criado Mudo\n",
      "Removing additional feature publicationname__SAP Design\n",
      "Removing additional feature publicationname__Savants \n",
      "Removing additional feature publicationname__Self-Driven\n",
      "Removing additional feature publicationname__Signal v. Noise\n",
      "Removing additional feature publicationname__Slack Platform Blog\n",
      "Removing additional feature publicationname__Slackjaw\n",
      "Removing additional feature publicationname__Social Entrepreneurs\n",
      "Removing additional feature publicationname__Starts With A Bang!\n",
      "Removing additional feature publicationname__Startup Grind\n",
      "Removing additional feature publicationname__Startup Lessons Learned\n",
      "Removing additional feature publicationname__Sustainable food systems\n",
      "Removing additional feature publicationname__Sweetgreen\n",
      "Removing additional feature publicationname__TE-FOOD\n",
      "Removing additional feature publicationname__Tamboo\n",
      "Removing additional feature publicationname__Tank \n",
      "Removing additional feature publicationname__Team XenoX\n",
      "Removing additional feature publicationname__Tech Diversity Files\n",
      "Removing additional feature publicationname__The ASOS Tech Blog\n",
      "Removing additional feature publicationname__The Awl\n",
      "Removing additional feature publicationname__The Billfold\n",
      "Removing additional feature publicationname__The Coffeelicious\n",
      "Removing additional feature publicationname__The Coinbase Blog\n",
      "Removing additional feature publicationname__The Establishment\n",
      "Removing additional feature publicationname__The Future Market\n",
      "Removing additional feature publicationname__The Haven\n",
      "Removing additional feature publicationname__The Junction\n",
      "Removing additional feature publicationname__The Lily\n",
      "Removing additional feature publicationname__The Mission\n",
      "Removing additional feature publicationname__The Synapse\n",
      "Removing additional feature publicationname__The Unlisted\n",
      "Removing additional feature publicationname__The Year of the Looking Glass\n",
      "Removing additional feature publicationname__TheBeamMagazine\n",
      "Removing additional feature publicationname__ThinkGrowth.org\n",
      "Removing additional feature publicationname__Thrive Global\n",
      "Removing additional feature publicationname__Track Changes\n",
      "Removing additional feature publicationname__Track and Food\n",
      "Removing additional feature publicationname__UX Collective\n",
      "Removing additional feature publicationname__University of Leeds\n",
      "Removing additional feature publicationname__WAX.io\n",
      "Removing additional feature publicationname__WWF-insights\n",
      "Removing additional feature publicationname__We The Peoples\n",
      "Removing additional feature publicationname__What IF?\n",
      "Removing additional feature publicationname__With Love, Zach\n",
      "Removing additional feature publicationname__World of Opportunity\n",
      "Removing additional feature publicationname__Zebpay\n",
      "Removing additional feature publicationname__blog.Stockphoto.com\n",
      "Removing additional feature publicationname__the steamMX™ post\n",
      "Removing additional feature publicationname__theprojects\n",
      "Removing additional feature publicationname__八百萬種食法\n"
     ]
    }
   ],
   "source": [
    "# Remove additional columns\n",
    "for col in df_test1.columns:\n",
    "    if (\"__\" in col) and (col.split(\"__\")[0] in cat_columns) and col not in cat_dummies:\n",
    "        print(\"Removing additional feature {}\".format(col))\n",
    "        df_test1.drop(col, axis=1, inplace=True)"
   ]
  },
  {
   "cell_type": "code",
   "execution_count": 111,
   "metadata": {
    "colab": {
     "base_uri": "https://localhost:8080/",
     "height": 821
    },
    "colab_type": "code",
    "id": "OUgrYxYnO9T4",
    "outputId": "383e5552-60bf-4bfb-bfc5-b129419ce542"
   },
   "outputs": [
    {
     "name": "stdout",
     "output_type": "stream",
     "text": [
      "Adding missing feature topic_w2v__2\n",
      "Adding missing feature publicationname__AI Hawk\n",
      "Adding missing feature publicationname__ARCHITECHT\n",
      "Adding missing feature publicationname__Advanced Design for Artificial Intelligence\n",
      "Adding missing feature publicationname__All Turtles\n",
      "Adding missing feature publicationname__Analytics Vidhya\n",
      "Adding missing feature publicationname__Applied Artificial Intelligence\n",
      "Adding missing feature publicationname__Becoming Human: Artificial Intelligence Magazine\n",
      "Adding missing feature publicationname__Bottos\n",
      "Adding missing feature publicationname__Budding Data Scientists\n",
      "Adding missing feature publicationname__Cambridge Spark\n",
      "Adding missing feature publicationname__Center for Data Science\n",
      "Adding missing feature publicationname__Chatbot News Daily\n",
      "Adding missing feature publicationname__Chatbots Life\n",
      "Adding missing feature publicationname__Chatbots Magazine\n",
      "Adding missing feature publicationname__Coinmonks\n",
      "Adding missing feature publicationname__Cortex Labs\n",
      "Adding missing feature publicationname__DEEPAERODRONES\n",
      "Adding missing feature publicationname__Data Driven Investor\n",
      "Adding missing feature publicationname__Ethercourt Machine Learning\n",
      "Adding missing feature publicationname__Hackster Blog\n",
      "Adding missing feature publicationname__Heartbeat\n",
      "Adding missing feature publicationname__Iagon Official\n",
      "Adding missing feature publicationname__Keeping Stock\n",
      "Adding missing feature publicationname__Living Language Legacies\n",
      "Adding missing feature publicationname__Machine Learnings\n",
      "Adding missing feature publicationname__MarTech Advisor\n",
      "Adding missing feature publicationname__Neuromation\n",
      "Adding missing feature publicationname__Noteworthy - The Journal Blog\n",
      "Adding missing feature publicationname__Planeta Chatbot : todo sobre los Chatbots y la Inteligencia Artificial\n",
      "Adding missing feature publicationname__Predict\n",
      "Adding missing feature publicationname__SyncedReview\n",
      "Adding missing feature publicationname__Tech / Telecom News\n",
      "Adding missing feature publicationname__The Circular Theory\n",
      "Adding missing feature publicationname__The Data Intelligence Connection\n",
      "Adding missing feature publicationname__This Week in Machine Learning & AI\n",
      "Adding missing feature publicationname__Udacity Inc\n",
      "Adding missing feature publicationname__World Economic Forum\n",
      "Adding missing feature publicationname__bbm406f17\n",
      "Adding missing feature publicationname__buZZrobot\n",
      "Adding missing feature publicationname__codeburst\n",
      "Adding missing feature publicationname__dair.ai\n",
      "Adding missing feature publicationname__learn data science\n"
     ]
    }
   ],
   "source": [
    "for col in cat_dummies:\n",
    "    if col not in df_test1.columns:\n",
    "        print(\"Adding missing feature {}\".format(col))\n",
    "        df_test1[col] = 0"
   ]
  },
  {
   "cell_type": "markdown",
   "metadata": {
    "colab_type": "text",
    "id": "AKese2auO9T8"
   },
   "source": [
    "Next, we standardize all features with StandardScaler(). The mean of each variable is subtracted and the values are divided by the standard deviation.\n",
    "Standardization is important since the NN-models are sensitive to unstandardized features.\n"
   ]
  },
  {
   "cell_type": "code",
   "execution_count": 112,
   "metadata": {
    "colab": {},
    "colab_type": "code",
    "id": "Hc2N4yUUO9T9"
   },
   "outputs": [],
   "source": [
    "from sklearn.preprocessing import StandardScaler\n",
    "df_test1= scaler.transform(df_test1)\n",
    " "
   ]
  },
  {
   "cell_type": "code",
   "execution_count": 113,
   "metadata": {
    "colab": {},
    "colab_type": "code",
    "id": "Y-Z3mhmdEGKs"
   },
   "outputs": [],
   "source": [
    "# Encode and pad the test prediction data\n",
    "MAX_ARTICLE_LENGTH = 500\n",
    "df_ts_int = tokenizer_obj.texts_to_sequences(df_test.text) \n",
    "df_ts_int_pad = pad_sequences(df_ts_int, MAX_ARTICLE_LENGTH)"
   ]
  },
  {
   "cell_type": "code",
   "execution_count": 114,
   "metadata": {
    "colab": {},
    "colab_type": "code",
    "id": "VJ79gmwWsjX-"
   },
   "outputs": [],
   "source": [
    "#Prepare submission\n",
    "# make predictions on the testing data\n",
    "preds = model.predict([df_ts_int_pad , df_test1])"
   ]
  },
  {
   "cell_type": "code",
   "execution_count": 115,
   "metadata": {
    "colab": {
     "base_uri": "https://localhost:8080/",
     "height": 1000
    },
    "colab_type": "code",
    "id": "n81oIMZqp3hC",
    "outputId": "d68aa8bd-76d2-48b6-9bea-be414c5431e6"
   },
   "outputs": [
    {
     "data": {
      "text/plain": [
       "array([[ 4.19413008e+04],\n",
       "       [ 1.03883750e+04],\n",
       "       [ 1.14632080e+04],\n",
       "       [ 4.43327881e+03],\n",
       "       [ 8.91725220e+02],\n",
       "       [ 1.38721912e+03],\n",
       "       [ 4.42568359e+03],\n",
       "       [ 1.62483899e+03],\n",
       "       [ 2.98599072e+03],\n",
       "       [ 1.11176880e+02],\n",
       "       [ 3.50136749e+02],\n",
       "       [ 6.24553467e+02],\n",
       "       [ 2.36049160e+04],\n",
       "       [ 2.14813496e+04],\n",
       "       [ 4.12390747e+01],\n",
       "       [ 4.40365631e+02],\n",
       "       [ 3.98649559e+01],\n",
       "       [ 2.61532867e+02],\n",
       "       [ 2.52885300e+02],\n",
       "       [ 1.11303528e+03],\n",
       "       [ 8.86600876e+01],\n",
       "       [ 3.89174774e+02],\n",
       "       [ 2.22472275e+02],\n",
       "       [ 7.51245264e+03],\n",
       "       [ 6.96624805e+03],\n",
       "       [ 4.94316650e+03],\n",
       "       [ 7.54857764e+03],\n",
       "       [ 3.23119653e+03],\n",
       "       [ 4.44999902e+03],\n",
       "       [ 2.11718213e+03],\n",
       "       [ 1.31239575e+03],\n",
       "       [ 2.07761914e+03],\n",
       "       [ 1.01837195e+03],\n",
       "       [ 1.74417944e+03],\n",
       "       [ 1.36278455e+03],\n",
       "       [ 4.97752899e+02],\n",
       "       [ 6.70499329e+02],\n",
       "       [ 9.60716736e+02],\n",
       "       [ 8.26380981e+02],\n",
       "       [ 2.05098907e+02],\n",
       "       [ 5.85974243e+02],\n",
       "       [ 2.18406470e+03],\n",
       "       [ 9.36527710e+02],\n",
       "       [ 2.43416962e+02],\n",
       "       [ 6.79834747e+01],\n",
       "       [ 8.00722534e+02],\n",
       "       [ 1.99316360e+02],\n",
       "       [ 3.54492828e+02],\n",
       "       [ 7.44271606e+02],\n",
       "       [ 3.76500903e+03],\n",
       "       [ 1.85646622e+02],\n",
       "       [ 1.36942517e+03],\n",
       "       [ 1.70559973e-01],\n",
       "       [ 2.02535797e+02],\n",
       "       [ 6.86084442e+01],\n",
       "       [ 1.55689728e+02],\n",
       "       [ 7.90516357e+01],\n",
       "       [ 1.85747299e+02],\n",
       "       [ 7.10575684e+02],\n",
       "       [ 1.62311230e+01],\n",
       "       [ 1.10929070e+02],\n",
       "       [ 8.54123688e+01],\n",
       "       [ 6.04517593e+01],\n",
       "       [ 7.23106079e+01],\n",
       "       [ 7.49173050e+01],\n",
       "       [ 1.48124939e+02],\n",
       "       [ 6.46526718e+01],\n",
       "       [ 2.23019882e+02],\n",
       "       [ 5.15016403e+01],\n",
       "       [ 1.14193687e+02],\n",
       "       [ 1.83632507e+03],\n",
       "       [ 1.19594200e+02],\n",
       "       [ 6.88322449e+01],\n",
       "       [ 1.02949266e+01],\n",
       "       [ 2.90899139e+02],\n",
       "       [ 1.73944611e+02],\n",
       "       [ 4.07149200e+02],\n",
       "       [ 6.36463547e+01],\n",
       "       [ 2.42965794e+01],\n",
       "       [ 2.00188843e+02],\n",
       "       [ 1.07363564e+02],\n",
       "       [ 9.80550766e+01],\n",
       "       [-8.89537454e-01],\n",
       "       [ 8.63596573e+01],\n",
       "       [ 2.62866745e+01],\n",
       "       [ 1.28854355e+02],\n",
       "       [ 5.27520676e+01],\n",
       "       [ 7.88226929e+01],\n",
       "       [ 1.20245293e+02],\n",
       "       [ 7.37360306e+01],\n",
       "       [ 3.27837334e+01],\n",
       "       [ 8.61725450e-01],\n",
       "       [ 2.10695267e+01],\n",
       "       [ 5.48686676e+01],\n",
       "       [ 1.55620575e+02],\n",
       "       [ 2.01335403e+02],\n",
       "       [ 1.77367687e+01],\n",
       "       [ 6.48360214e+01],\n",
       "       [ 8.03397751e+00],\n",
       "       [ 1.49973816e+02],\n",
       "       [ 1.18312157e+02],\n",
       "       [ 8.01291809e+01],\n",
       "       [-8.73052478e-01],\n",
       "       [ 7.89053497e+01],\n",
       "       [ 7.95720978e+01],\n",
       "       [ 1.99157288e+02],\n",
       "       [ 3.42463989e+01],\n",
       "       [ 5.57326508e+00],\n",
       "       [ 3.24557076e+01],\n",
       "       [ 7.15596237e+01],\n",
       "       [ 2.56995056e+02],\n",
       "       [ 5.64285946e+00],\n",
       "       [ 1.06869888e+01],\n",
       "       [ 1.45314054e+01],\n",
       "       [ 3.24369621e+01],\n",
       "       [ 5.37545052e+01],\n",
       "       [ 4.59749317e+00],\n",
       "       [ 1.65573370e+00],\n",
       "       [ 1.47706726e+02],\n",
       "       [ 2.43584080e+01],\n",
       "       [ 2.72600250e+01],\n",
       "       [ 4.55299187e+01],\n",
       "       [ 3.84059944e+01],\n",
       "       [ 1.53841370e+02],\n",
       "       [ 1.20340149e+02],\n",
       "       [ 3.04735718e+02],\n",
       "       [ 1.31893196e+01],\n",
       "       [ 1.82835808e+01],\n",
       "       [ 9.20362167e+01],\n",
       "       [ 3.84346199e+01],\n",
       "       [ 1.18536575e+02],\n",
       "       [ 5.46231232e+01],\n",
       "       [ 8.77355804e+01],\n",
       "       [ 9.77661057e+01],\n",
       "       [ 3.88801842e+01],\n",
       "       [ 2.83023205e+01],\n",
       "       [ 2.42136173e+01],\n",
       "       [ 2.42398865e+02],\n",
       "       [ 2.44049255e+02],\n",
       "       [ 3.19559345e+01],\n",
       "       [ 7.53375149e+00],\n",
       "       [ 2.51521854e+01],\n",
       "       [ 6.60300980e+01],\n",
       "       [ 6.17025490e+01],\n",
       "       [ 2.49046040e+01],\n",
       "       [ 4.78800011e+01],\n",
       "       [ 2.65307999e+01],\n",
       "       [ 1.73871582e+02],\n",
       "       [ 7.94240341e+01],\n",
       "       [ 2.80832367e+01],\n",
       "       [ 4.21247101e+01],\n",
       "       [ 6.68718872e+01],\n",
       "       [ 3.70247879e+01],\n",
       "       [ 9.75967216e+00],\n",
       "       [ 1.53180704e+01],\n",
       "       [ 4.12089539e+01],\n",
       "       [ 5.86213684e+01],\n",
       "       [ 8.76722778e+02],\n",
       "       [ 2.71289310e+01],\n",
       "       [ 5.10935631e+01],\n",
       "       [ 1.14122414e+02],\n",
       "       [ 4.12080616e-01],\n",
       "       [-1.51506573e-01],\n",
       "       [ 2.44529247e+00],\n",
       "       [-2.22147137e-01],\n",
       "       [ 9.72638397e+01],\n",
       "       [ 5.89607849e+01],\n",
       "       [ 7.90937347e+01],\n",
       "       [ 2.49557896e+01],\n",
       "       [ 5.53605423e+01],\n",
       "       [ 6.16017437e+00],\n",
       "       [ 5.04284325e+01],\n",
       "       [ 3.84512451e+02],\n",
       "       [ 1.13239952e+02],\n",
       "       [ 5.20134735e+01],\n",
       "       [ 5.69408226e+01],\n",
       "       [ 4.01068764e+01],\n",
       "       [ 1.41071835e+01],\n",
       "       [ 1.86479370e+02],\n",
       "       [ 4.78799667e+01],\n",
       "       [ 2.12858887e+01],\n",
       "       [ 7.70470215e+02],\n",
       "       [ 2.94729340e+02],\n",
       "       [ 1.40035331e+00],\n",
       "       [ 9.77455292e+01],\n",
       "       [ 4.87350769e+01],\n",
       "       [ 3.39359703e+01],\n",
       "       [ 2.00928020e+00],\n",
       "       [ 2.76425209e+01],\n",
       "       [ 2.46321396e+02],\n",
       "       [ 2.87938568e+02],\n",
       "       [-9.46797431e-02],\n",
       "       [ 1.06127617e+02],\n",
       "       [ 8.67914352e+01],\n",
       "       [-5.40080667e-01],\n",
       "       [ 1.34023788e+02],\n",
       "       [ 3.14081669e+01],\n",
       "       [ 5.63358574e+01],\n",
       "       [ 3.14437428e+01],\n",
       "       [ 8.82745457e+00],\n",
       "       [ 2.73536186e+01],\n",
       "       [ 5.43433228e+01],\n",
       "       [ 3.31197357e+01],\n",
       "       [ 1.27800575e+02],\n",
       "       [ 1.75268543e+00],\n",
       "       [ 6.27666702e+01],\n",
       "       [ 2.52020683e+01],\n",
       "       [ 1.29584923e+01],\n",
       "       [ 2.60688267e+01],\n",
       "       [ 4.86809387e+01],\n",
       "       [ 3.74473953e+01],\n",
       "       [ 4.16687164e+01],\n",
       "       [ 6.69662118e-01],\n",
       "       [ 6.27675415e+02],\n",
       "       [ 3.54341049e+01],\n",
       "       [ 2.34939480e+01],\n",
       "       [ 2.62025833e+00],\n",
       "       [-2.77880102e-01],\n",
       "       [ 2.74564762e+01],\n",
       "       [ 2.11330643e+01],\n",
       "       [ 2.62013221e+00],\n",
       "       [ 1.64297161e+01],\n",
       "       [-2.90754229e-01],\n",
       "       [ 5.74513245e+01],\n",
       "       [ 2.94191380e+01],\n",
       "       [ 3.48404169e+00],\n",
       "       [ 6.63002396e+01],\n",
       "       [ 1.29190712e+01],\n",
       "       [ 3.61739044e+01],\n",
       "       [ 9.05482941e+01],\n",
       "       [ 1.36258860e+01],\n",
       "       [ 1.74177284e+01],\n",
       "       [ 2.33537407e+01],\n",
       "       [ 1.90438347e+01],\n",
       "       [ 7.12868500e+01],\n",
       "       [ 1.69195694e+02],\n",
       "       [ 5.56611953e+04],\n",
       "       [ 1.83965833e+03],\n",
       "       [ 1.15810518e+04],\n",
       "       [ 1.53176978e+03],\n",
       "       [ 5.35801147e+02],\n",
       "       [ 7.73742126e+02],\n",
       "       [ 1.25834180e+04],\n",
       "       [ 3.09306213e+02],\n",
       "       [ 1.17236072e+03],\n",
       "       [ 8.03579102e+01],\n",
       "       [ 5.40640747e+02],\n",
       "       [ 4.72486267e+02],\n",
       "       [ 7.56314026e+02],\n",
       "       [ 1.26237842e+04],\n",
       "       [ 5.00371246e+01],\n",
       "       [ 3.58170801e+03],\n",
       "       [ 3.70708466e+02],\n",
       "       [ 8.43772339e+02],\n",
       "       [ 3.89348486e+03],\n",
       "       [ 2.44970379e+01],\n",
       "       [ 9.67094788e+02],\n",
       "       [ 4.38606934e+02],\n",
       "       [ 6.77886414e+02],\n",
       "       [ 1.07746777e+03],\n",
       "       [ 1.89567102e+03],\n",
       "       [ 7.57344727e+02],\n",
       "       [ 3.83622632e+03],\n",
       "       [ 9.40938354e+02],\n",
       "       [ 5.26733704e+02],\n",
       "       [ 4.88329132e+02],\n",
       "       [ 1.21132117e+03],\n",
       "       [ 7.20996765e+02],\n",
       "       [ 2.57071564e+02],\n",
       "       [ 5.38259827e+02],\n",
       "       [ 3.41277809e+01],\n",
       "       [ 1.11919121e+02],\n",
       "       [ 7.95978394e+01],\n",
       "       [ 2.64665833e+02],\n",
       "       [ 1.71865829e+02],\n",
       "       [ 3.72980591e+02],\n",
       "       [ 1.01877861e+02],\n",
       "       [ 8.67963257e+01],\n",
       "       [ 2.44832104e+03],\n",
       "       [ 2.74957825e+02],\n",
       "       [ 5.59859863e+02],\n",
       "       [ 5.87858215e+02],\n",
       "       [ 8.84441650e+02],\n",
       "       [ 1.22088104e+02],\n",
       "       [ 9.63135986e+01],\n",
       "       [ 1.26362244e+03],\n",
       "       [ 2.18738434e+02],\n",
       "       [ 1.92539551e+02],\n",
       "       [ 4.09261200e+02],\n",
       "       [ 2.27746979e+02],\n",
       "       [ 3.03512604e+02],\n",
       "       [ 6.04408493e+01],\n",
       "       [ 8.79810638e+01],\n",
       "       [ 6.15601578e+01],\n",
       "       [ 6.51242905e+01],\n",
       "       [ 5.67192230e+01],\n",
       "       [ 9.17029053e+02],\n",
       "       [ 1.58139694e+02],\n",
       "       [ 1.44387726e+02],\n",
       "       [ 7.43656464e+01],\n",
       "       [ 2.41045273e+02],\n",
       "       [ 6.69737610e+02],\n",
       "       [ 2.10259399e+02],\n",
       "       [ 1.19776039e+02],\n",
       "       [ 3.26367065e+02],\n",
       "       [ 3.12511078e+02],\n",
       "       [ 5.01694870e+01],\n",
       "       [ 3.57322540e+02],\n",
       "       [ 2.32558716e+02],\n",
       "       [ 3.26854309e+02],\n",
       "       [ 1.38991104e+02],\n",
       "       [ 4.18944016e+01],\n",
       "       [ 3.76747681e+02],\n",
       "       [ 9.84586105e+01],\n",
       "       [ 5.67719688e+01],\n",
       "       [ 1.23475685e+02],\n",
       "       [ 2.85362762e+02],\n",
       "       [ 9.62307053e+01],\n",
       "       [ 9.96960602e+01],\n",
       "       [ 4.80048730e+03],\n",
       "       [ 8.53202591e+01],\n",
       "       [ 3.60140961e+02],\n",
       "       [ 5.44308548e+01],\n",
       "       [ 5.94670898e+02],\n",
       "       [ 2.21914001e+02],\n",
       "       [ 4.44393768e+01],\n",
       "       [ 4.66763191e+01],\n",
       "       [ 4.78203964e+01],\n",
       "       [ 4.12352997e+02],\n",
       "       [ 2.80424747e+01],\n",
       "       [ 1.07345284e+02],\n",
       "       [ 1.69195694e+02],\n",
       "       [ 7.04595410e+03],\n",
       "       [ 2.25535083e+03],\n",
       "       [ 1.60131360e+03],\n",
       "       [ 3.13805298e+03],\n",
       "       [ 1.50287024e+03],\n",
       "       [ 8.56375793e+02],\n",
       "       [ 3.33396698e+02],\n",
       "       [ 5.99343079e+02],\n",
       "       [ 5.68721069e+02],\n",
       "       [ 1.26189526e+03],\n",
       "       [ 7.45839355e+02],\n",
       "       [ 1.14216736e+03],\n",
       "       [ 7.57344727e+02],\n",
       "       [ 3.83622632e+03],\n",
       "       [ 9.40938354e+02],\n",
       "       [ 5.26733704e+02],\n",
       "       [ 4.88329132e+02],\n",
       "       [ 1.21132117e+03],\n",
       "       [ 7.20996765e+02],\n",
       "       [ 2.57071564e+02],\n",
       "       [ 5.38259827e+02],\n",
       "       [ 1.01877861e+02],\n",
       "       [ 3.72980591e+02],\n",
       "       [ 3.05281433e+02],\n",
       "       [ 4.60369873e+02],\n",
       "       [ 2.44832104e+03],\n",
       "       [ 2.74957825e+02],\n",
       "       [ 5.59859863e+02],\n",
       "       [ 5.87858215e+02],\n",
       "       [ 8.84441650e+02],\n",
       "       [ 2.09433517e+02],\n",
       "       [ 3.41524628e+02],\n",
       "       [ 5.89883118e+02],\n",
       "       [ 1.05451172e+02],\n",
       "       [ 1.24047549e+04],\n",
       "       [ 3.65516577e+03],\n",
       "       [ 2.76795874e+03],\n",
       "       [ 3.53379126e+03],\n",
       "       [ 9.63135986e+01],\n",
       "       [ 4.09261200e+02],\n",
       "       [ 6.69737610e+02],\n",
       "       [ 2.10259399e+02],\n",
       "       [ 2.70395599e+02],\n",
       "       [ 3.41277809e+01],\n",
       "       [ 5.29743462e+01],\n",
       "       [ 4.54247864e+02],\n",
       "       [ 5.01694870e+01],\n",
       "       [ 7.43656464e+01],\n",
       "       [ 6.84493469e+02],\n",
       "       [ 6.87527039e+02],\n",
       "       [ 1.57304520e+02],\n",
       "       [ 2.64665833e+02],\n",
       "       [ 8.69482971e+02],\n",
       "       [ 1.11919121e+02],\n",
       "       [ 7.95978394e+01],\n",
       "       [ 1.71865829e+02],\n",
       "       [ 8.67963257e+01],\n",
       "       [ 1.22088104e+02],\n",
       "       [ 1.26362244e+03],\n",
       "       [ 2.18738434e+02],\n",
       "       [ 1.92539551e+02],\n",
       "       [ 2.27746979e+02],\n",
       "       [ 3.03512604e+02],\n",
       "       [ 6.04408493e+01],\n",
       "       [ 8.79810638e+01],\n",
       "       [ 6.15601578e+01],\n",
       "       [ 6.51242905e+01],\n",
       "       [ 5.67192230e+01],\n",
       "       [ 9.17029053e+02],\n",
       "       [ 1.58139694e+02],\n",
       "       [ 1.44387726e+02],\n",
       "       [ 2.41045273e+02],\n",
       "       [ 1.19776039e+02],\n",
       "       [ 3.26367065e+02],\n",
       "       [ 3.12511078e+02],\n",
       "       [ 3.57322540e+02],\n",
       "       [ 2.32558716e+02],\n",
       "       [ 3.26854309e+02],\n",
       "       [ 1.38991104e+02],\n",
       "       [ 4.18944016e+01],\n",
       "       [ 3.76747681e+02],\n",
       "       [ 9.84586105e+01],\n",
       "       [ 5.67719688e+01],\n",
       "       [ 1.23475685e+02],\n",
       "       [ 2.85362762e+02],\n",
       "       [ 9.62307053e+01],\n",
       "       [ 9.96960602e+01],\n",
       "       [ 4.80048730e+03],\n",
       "       [ 8.53202591e+01],\n",
       "       [ 3.60140961e+02],\n",
       "       [ 5.44308548e+01],\n",
       "       [ 5.94670898e+02],\n",
       "       [ 2.21914001e+02],\n",
       "       [ 4.44393768e+01],\n",
       "       [ 4.66763191e+01],\n",
       "       [ 4.78203964e+01],\n",
       "       [ 4.12352997e+02],\n",
       "       [ 2.80424747e+01],\n",
       "       [ 1.07345284e+02],\n",
       "       [ 1.63776031e+02],\n",
       "       [ 1.19881371e+02],\n",
       "       [ 2.62474243e+02],\n",
       "       [ 3.74629974e+01],\n",
       "       [ 3.53644867e+02],\n",
       "       [ 2.05001998e+00],\n",
       "       [ 1.93133026e+02],\n",
       "       [ 7.66219025e+01],\n",
       "       [ 2.69202515e+02],\n",
       "       [ 1.23042651e+03],\n",
       "       [ 2.07945630e+03],\n",
       "       [ 3.02035217e+01],\n",
       "       [ 2.96917534e+01],\n",
       "       [ 1.46710022e+02],\n",
       "       [ 3.15072212e+01],\n",
       "       [ 3.23991943e+02],\n",
       "       [ 3.12517639e+02],\n",
       "       [ 2.94529541e+02],\n",
       "       [ 2.96705093e+01],\n",
       "       [ 2.08157883e+02],\n",
       "       [ 5.09706078e+01],\n",
       "       [ 5.83441010e+01],\n",
       "       [ 2.25777924e+02],\n",
       "       [ 1.52809341e+02],\n",
       "       [ 5.49659485e+02],\n",
       "       [ 2.16831604e+02],\n",
       "       [ 6.86055908e+01],\n",
       "       [ 9.65222015e+01],\n",
       "       [ 2.88572845e+02],\n",
       "       [ 1.32606934e+02],\n",
       "       [ 3.48489685e+02],\n",
       "       [ 1.29919205e+02],\n",
       "       [ 3.23016357e+01],\n",
       "       [ 3.37923508e+01],\n",
       "       [ 3.08609924e+02],\n",
       "       [ 1.72308472e+02],\n",
       "       [ 6.58263779e+01],\n",
       "       [ 1.42503824e+01],\n",
       "       [ 2.16171082e+02],\n",
       "       [ 5.67299385e+01],\n",
       "       [ 2.18756851e+02],\n",
       "       [ 2.21404114e+02],\n",
       "       [ 6.68795471e+01],\n",
       "       [ 1.27405367e+01],\n",
       "       [ 2.35171661e+02],\n",
       "       [ 7.07540665e+01],\n",
       "       [ 3.21746460e+02],\n",
       "       [ 3.79096039e+02],\n",
       "       [ 2.51291251e+00],\n",
       "       [ 4.74681435e+01],\n",
       "       [ 2.50817089e+01],\n",
       "       [ 1.46630166e+04],\n",
       "       [ 1.06171777e+04],\n",
       "       [ 7.49768652e+03],\n",
       "       [ 5.59304443e+03],\n",
       "       [ 1.04370537e+04],\n",
       "       [ 9.55109277e+03],\n",
       "       [ 3.30286597e+03],\n",
       "       [ 2.60970972e+03],\n",
       "       [ 4.79461816e+03],\n",
       "       [ 2.84540508e+04],\n",
       "       [ 1.09907539e+04],\n",
       "       [ 6.64914062e+02],\n",
       "       [ 3.82186597e+03],\n",
       "       [ 4.55274707e+03],\n",
       "       [ 1.25861855e+04],\n",
       "       [ 2.17701489e+03],\n",
       "       [ 2.94310962e+03],\n",
       "       [ 3.39087616e+02],\n",
       "       [ 6.43056299e+03],\n",
       "       [ 1.11995728e+03],\n",
       "       [ 3.26363257e+03],\n",
       "       [ 7.96810205e+03],\n",
       "       [ 2.53075732e+03],\n",
       "       [ 1.77123352e+03],\n",
       "       [ 1.04690210e+03],\n",
       "       [ 3.56675415e+03],\n",
       "       [ 2.93205054e+03],\n",
       "       [ 1.20248584e+04],\n",
       "       [ 1.37582129e+03],\n",
       "       [ 1.22739343e+03],\n",
       "       [ 7.59341016e+03],\n",
       "       [ 2.09837134e+03]], dtype=float32)"
      ]
     },
     "execution_count": 115,
     "metadata": {
      "tags": []
     },
     "output_type": "execute_result"
    }
   ],
   "source": [
    "preds"
   ]
  },
  {
   "cell_type": "code",
   "execution_count": 123,
   "metadata": {
    "colab": {},
    "colab_type": "code",
    "id": "3lTKpIk4-eA8"
   },
   "outputs": [],
   "source": [
    "preds [preds<0] = 0 #since there are no negative Claps"
   ]
  },
  {
   "cell_type": "code",
   "execution_count": 124,
   "metadata": {
    "colab": {},
    "colab_type": "code",
    "id": "nTsCjeVBp45H"
   },
   "outputs": [],
   "source": [
    "predictions = pd.DataFrame (preds, columns = ['preds'])\n"
   ]
  },
  {
   "cell_type": "code",
   "execution_count": 126,
   "metadata": {
    "colab": {},
    "colab_type": "code",
    "id": "Dje1KLmpqEZj"
   },
   "outputs": [],
   "source": [
    "submission = pd.DataFrame({ 'index': df_test.index.values, 'Claps': predictions['preds'] })\n",
    "# Store dataframe to disk\n",
    "file_name = 'submission.pkl'\n",
    "submission.to_pickle(path + file_name)\n"
   ]
  },
  {
   "cell_type": "code",
   "execution_count": 129,
   "metadata": {
    "colab": {
     "base_uri": "https://localhost:8080/",
     "height": 17
    },
    "colab_type": "code",
    "id": "r8kbieoF_FvY",
    "outputId": "df9b57b3-9b75-4ca6-ca51-39df929f83d5"
   },
   "outputs": [
    {
     "data": {
      "application/javascript": [
       "\n",
       "    async function download(id, filename, size) {\n",
       "      if (!google.colab.kernel.accessAllowed) {\n",
       "        return;\n",
       "      }\n",
       "      const div = document.createElement('div');\n",
       "      const label = document.createElement('label');\n",
       "      label.textContent = `Downloading \"${filename}\": `;\n",
       "      div.appendChild(label);\n",
       "      const progress = document.createElement('progress');\n",
       "      progress.max = size;\n",
       "      div.appendChild(progress);\n",
       "      document.body.appendChild(div);\n",
       "\n",
       "      const buffers = [];\n",
       "      let downloaded = 0;\n",
       "\n",
       "      const channel = await google.colab.kernel.comms.open(id);\n",
       "      // Send a message to notify the kernel that we're ready.\n",
       "      channel.send({})\n",
       "\n",
       "      for await (const message of channel.messages) {\n",
       "        // Send a message to notify the kernel that we're ready.\n",
       "        channel.send({})\n",
       "        if (message.buffers) {\n",
       "          for (const buffer of message.buffers) {\n",
       "            buffers.push(buffer);\n",
       "            downloaded += buffer.byteLength;\n",
       "            progress.value = downloaded;\n",
       "          }\n",
       "        }\n",
       "      }\n",
       "      const blob = new Blob(buffers, {type: 'application/binary'});\n",
       "      const a = document.createElement('a');\n",
       "      a.href = window.URL.createObjectURL(blob);\n",
       "      a.download = filename;\n",
       "      div.appendChild(a);\n",
       "      a.click();\n",
       "      div.remove();\n",
       "    }\n",
       "  "
      ],
      "text/plain": [
       "<IPython.core.display.Javascript object>"
      ]
     },
     "metadata": {
      "tags": []
     },
     "output_type": "display_data"
    },
    {
     "data": {
      "application/javascript": [
       "download(\"download_1ddb212b-7ac8-47ff-84de-dee8359d399d\", \"submission_Fluhrer2.csv\", 6865)"
      ],
      "text/plain": [
       "<IPython.core.display.Javascript object>"
      ]
     },
     "metadata": {
      "tags": []
     },
     "output_type": "display_data"
    }
   ],
   "source": [
    "submission.to_csv(\"submission_Fluhrer.csv\", index=False)\n",
    "from google.colab import files\n",
    "files.download(\"submission_Fluhrer.csv\")"
   ]
  },
  {
   "cell_type": "markdown",
   "metadata": {
    "colab_type": "text",
    "id": "Bdgkm8MmmVZQ"
   },
   "source": [
    "# 5. Conclusion\n"
   ]
  },
  {
   "cell_type": "markdown",
   "metadata": {
    "colab_type": "text",
    "id": "9ssqYYLVCZI7"
   },
   "source": [
    "We tried to predict with Deep Learning the *Claps* an article receives. Additional to preparation and preprocessing of non-textual data, we applied numerous NLP techniques to clean and preprocess text. By working with regular expressions and applying topic modeling strategies and other elaborated NLP approaches, we generated a variety of additional features from our text data. We built models with different types of input. Our final model was able to process word embeddings and meta features as input. We successfully applied our final model to make predictions for our test set.\n",
    "\n",
    "However, text feature extraction and building a precise Neural Network regression model is not a trivial task and, therefore, we finish this notebook with paying attentions to shortcomings of our procedure and possible ways to improve the estimation results:\n",
    "\n",
    "1. Reduced text data\n",
    "For the sake of saving computing time, we repeatedly shortened our text input and limited paramters. It could be worth a try to make use of the full text of the articles and apply word embeddings with additional dimensions.\n",
    "\n",
    "2. Hyperparamter tuning\n",
    "We only conducted hyperparamter tuning (batch size, epochs, learning rate, momentum, optimizer) for our basic model. In exchange for computing time, our final model could benefit from hyperparamter tuning.\n",
    "\n",
    "3. Model architecture\n",
    "It could be worth to try alternative architectures, e.g. making the NN deeper by adding additional hidden layers by at the same time taking care of the danger of overfitting. LSTM instead of GRU could improve the quality of the model as well.\n",
    "\n",
    "4. OVV\n",
    "We used pretrained GloVe embedding weights. The number of words which were not covered by the GloVe vocabulary was significant. We could apply techniques to reduce this number or apply another pretrained model, train our own word embedding model, or for instance try ELMo which uses character embeddings and therefore mitigates the OVV problem.\n",
    "\n",
    "5. Target variable\n",
    "In our training set, the majority of observations has 0 *Claps*. We considered log-transformation (not included in this notebook) but this went along with problems that we could not solve. An alternative could be trying to oversample observations with non-zero *Claps*.\n",
    "\n",
    "All in all, this task comes along with endless possibilities; very often it is a trade-off between computing time and prediction capacity. We tried to provide a solution optimized regarding efficiency and learning effect."
   ]
  },
  {
   "cell_type": "markdown",
   "metadata": {
    "colab_type": "text",
    "id": "25EHku7ehfUJ"
   },
   "source": [
    "# References\n",
    "\n",
    "Goldberg, Y., & Levy, O. (2014). word2vec Explained: deriving Mikolov et al.'s negative-sampling word-embedding method. arXiv preprint arXiv:1402.3722.\n",
    "\n",
    "Hsankesara (2018). Understanding Medium. *Kaggle*. URL\n",
    "https://www.kaggle.com/hsankesara/understanding-medium.\n",
    "\n",
    "Rong, X. (2014). word2vec parameter learning explained. arXiv preprint arXiv:1411.2738.\n",
    "\n",
    "Lessmann, S. (2020a). Advanced Data Analytics for Management Support: Ex02_Pandas_and_EDA. Humboldt University, Berlin. Exercise.\n",
    "\n",
    "Lessmann, S. (2020b). Advanced Data Analytics for Management Support: Ex11_sentiment_analysis. Humboldt University, Berlin. Exercise.\n",
    "\n",
    "Usman, M. (2020). Python for NLP: Creating Multi-Data-Type Classification Models with Keras. *stackabuse*. URL https://stackabuse.com/python-for-nlp-creating-multi-data-type-classification-models-with-keras/.\n",
    "\n",
    "Zhang, A. et al. (n.d.). Dive into Deep Learning. URL http://d2l.ai/index.html.\n",
    "\n",
    "Zupan, J. (2003). Basics of artificial neural network. Nature-inspired Methods in Chemometrics: Genetic Algorithms and Artificial Neural Networks (Leardi, R., ed.), 199-229.\n",
    "\n",
    "Wang, Z., Sugaya, S., & Nguyen, D. P. (2019). Salary Prediction using Bidirectional-GRU-CNN Model. Assoc. Nat. Lang. Process."
   ]
  },
  {
   "cell_type": "markdown",
   "metadata": {
    "colab_type": "text",
    "id": "zz_iIgeqKwvU"
   },
   "source": [
    "# Appendix"
   ]
  },
  {
   "cell_type": "markdown",
   "metadata": {
    "colab_type": "text",
    "id": "WhHXbGlYK3NK"
   },
   "source": [
    "\n",
    "**Appendix 1: Latent Dirichlet Allocation (LDA)**\n",
    "\n",
    "LDA is a Bayesian/probabilistic topic model.\n",
    "\n",
    "LDA treats the text as a bag-of-words. The bag-of-words (BOW) model is a representation that turns text into fixed-length vectors with length equal to the vocabulary size.  Each dimension of this vector corresponds to the count or occurrence of a word in a document.\n",
    "\n",
    "Since LDA ist based on BOW, we find that our approach is subject to the shortcomings of BOW. Metaphorically spoken, in a bag - the BOW - there is no order. Words loose contextual informations. The information where in a sentence and with which connotation a word appears gets lost. Moreover, in a bag it is dark which means with regards to our BOW, sematic relationships cannot be captured, for instance the use of synonyms (artifical intelligence aka machine intelligence), acronyms (e.g. machine learning aka ml) or homonyms.\n",
    "\n",
    "!Credits: This part modified and applied code provided by https://www.kaggle.com/seanzhang1997/topic-modeling-lda-which-topic-has-more-claps"
   ]
  },
  {
   "cell_type": "code",
   "execution_count": null,
   "metadata": {
    "colab": {},
    "colab_type": "code",
    "id": "aolZDYKdnf7p"
   },
   "outputs": [],
   "source": [
    "count_vect = CountVectorizer(max_df=0.6,min_df=1)\n",
    "# max_df is the maximum precentage this word show in the documents.\n",
    "# Consequently, some words that appear in almost every text will be not considered\n",
    "# min_df means at least it shows min_df times in the documents. Since our text is shortened, we keep this low\n",
    "doc_term_matrix = count_vect.fit_transform(x_train[\"text\"].values)\n",
    "doc_term_matrix"
   ]
  },
  {
   "cell_type": "code",
   "execution_count": null,
   "metadata": {
    "colab": {},
    "colab_type": "code",
    "id": "kHabnG_QGGFx"
   },
   "outputs": [],
   "source": [
    "#create matrix for unseen test set\n",
    "doc_term_matrix_test = count_vect.transform(x_test[\"text\"].values)"
   ]
  },
  {
   "cell_type": "code",
   "execution_count": null,
   "metadata": {
    "colab": {},
    "colab_type": "code",
    "id": "kmimgMO7nf76"
   },
   "outputs": [],
   "source": [
    "from sklearn.decomposition import LatentDirichletAllocation\n",
    "# LDA requires us to specify the number of topics.\n",
    "number_topics = 7\n",
    "number_words = 15\n",
    "LDA = LatentDirichletAllocation(n_components=number_topics, n_jobs=-1)\n",
    "LDA.fit(doc_term_matrix)\n",
    "#A helper function to look into it\n",
    "def print_topics(model, count_vectorizer, n_top_words):\n",
    "    words = count_vectorizer.get_feature_names()\n",
    "    for topic_idx, topic in enumerate(model.components_):\n",
    "        print(\"\\nTopic #%d:\" % topic_idx)\n",
    "        print(\" \".join([words[i]\n",
    "                        for i in topic.argsort()[:-n_top_words - 1:-1]]))\n",
    "print(\"Topics:\")\n",
    "print_topics(LDA, count_vect, number_words)   "
   ]
  },
  {
   "cell_type": "code",
   "execution_count": null,
   "metadata": {
    "colab": {},
    "colab_type": "code",
    "id": "biUsHHzySanW"
   },
   "outputs": [],
   "source": [
    "!pip install pyLDAvis #visualizing LDA"
   ]
  },
  {
   "cell_type": "code",
   "execution_count": null,
   "metadata": {
    "colab": {},
    "colab_type": "code",
    "id": "jrkcFM39SdT_"
   },
   "outputs": [],
   "source": [
    "import pyLDAvis\n",
    "import pyLDAvis.sklearn\n",
    "from pyLDAvis import sklearn as sklearn_lda\n",
    "#prepare to display result in the notebook\n",
    "pyLDAvis.enable_notebook()\n",
    "LDAvis = sklearn_lda.prepare(LDA, doc_term_matrix, count_vect)\n",
    "#run the visualization [mds is a function to use for visualizing the \"distance\" between topics]\n",
    "LDAvis"
   ]
  },
  {
   "cell_type": "code",
   "execution_count": null,
   "metadata": {
    "colab": {},
    "colab_type": "code",
    "id": "2K88l189Sw3A"
   },
   "outputs": [],
   "source": [
    "#Apply lda model and allocate articles into topics with the highest proportion\n",
    "topic_values = LDA.transform(doc_term_matrix)\n",
    "x_train['topic'] = topic_values.argmax(axis=1)"
   ]
  },
  {
   "cell_type": "code",
   "execution_count": null,
   "metadata": {
    "colab": {},
    "colab_type": "code",
    "id": "XCrJqQMHG3uz"
   },
   "outputs": [],
   "source": [
    "#Apply lda model to unseen test data and allocate articles into topics with the highest proportion\n",
    "topic_values_test = LDA.transform(doc_term_matrix_test)\n",
    "x_test['topic'] = topic_values_test.argmax(axis=1)"
   ]
  },
  {
   "cell_type": "code",
   "execution_count": null,
   "metadata": {
    "colab": {},
    "colab_type": "code",
    "id": "XYbrlk7XuSH7"
   },
   "outputs": [],
   "source": [
    "x_test['topic'].value_counts()"
   ]
  },
  {
   "cell_type": "markdown",
   "metadata": {
    "colab_type": "text",
    "id": "1mV9Be3DWkBF"
   },
   "source": [
    "**Appendix 2: Reduced model without text features**"
   ]
  },
  {
   "cell_type": "code",
   "execution_count": null,
   "metadata": {
    "colab": {},
    "colab_type": "code",
    "id": "Bq1WQkIiSdWs"
   },
   "outputs": [],
   "source": [
    "x_train0=x_train[['responsesCreatedCount', 'len_text', 'imageCount', 'len_title','daysonline', 'top_title_count', 'top_text_count', 'publicationname', 'weekday','Polarity']]\n",
    "\n",
    "x_test0=x_test[['responsesCreatedCount', 'len_text', 'imageCount','len_title','daysonline', 'top_title_count', 'top_text_count', 'publicationname', 'weekday', 'Polarity']]"
   ]
  },
  {
   "cell_type": "code",
   "execution_count": null,
   "metadata": {
    "colab": {},
    "colab_type": "code",
    "id": "P7Fj0V3BVDQq"
   },
   "outputs": [],
   "source": [
    "cat_columns = [ 'publicationname', 'weekday']"
   ]
  },
  {
   "cell_type": "code",
   "execution_count": null,
   "metadata": {
    "colab": {},
    "colab_type": "code",
    "id": "sY_VogDrU0vQ"
   },
   "outputs": [],
   "source": [
    "x_train0 = pd.get_dummies(x_train0, prefix_sep=\"__\",\n",
    "                              columns=cat_columns)"
   ]
  },
  {
   "cell_type": "markdown",
   "metadata": {
    "colab_type": "text",
    "id": "6_Qyvta9U0vd"
   },
   "source": [
    "We create the dummies in the test set based on the dummies of the training set."
   ]
  },
  {
   "cell_type": "code",
   "execution_count": null,
   "metadata": {
    "colab": {},
    "colab_type": "code",
    "id": "yWGqMCwNU0vj"
   },
   "outputs": [],
   "source": [
    "cat_dummies = [col for col in x_train0 \n",
    "               if \"__\" in col \n",
    "               and col.split(\"__\")[0] in cat_columns]"
   ]
  },
  {
   "cell_type": "code",
   "execution_count": null,
   "metadata": {
    "colab": {},
    "colab_type": "code",
    "id": "cO2n-Nk1U0vq"
   },
   "outputs": [],
   "source": [
    "x_test0 = pd.get_dummies(x_test0, prefix_sep=\"__\", \n",
    "                                   columns=cat_columns)"
   ]
  },
  {
   "cell_type": "code",
   "execution_count": null,
   "metadata": {
    "colab": {},
    "colab_type": "code",
    "id": "caG4KFJgU0vw"
   },
   "outputs": [],
   "source": [
    "# Remove additional columns\n",
    "for col in x_test0.columns:\n",
    "    if (\"__\" in col) and (col.split(\"__\")[0] in cat_columns) and col not in cat_dummies:\n",
    "        print(\"Removing additional feature {}\".format(col))\n",
    "        x_test0.drop(col, axis=1, inplace=True)"
   ]
  },
  {
   "cell_type": "code",
   "execution_count": null,
   "metadata": {
    "colab": {
     "base_uri": "https://localhost:8080/",
     "height": 35
    },
    "colab_type": "code",
    "id": "YyxzxQwZU0v1",
    "outputId": "97564fcf-3a71-4695-f4a9-5856210a517c"
   },
   "outputs": [
    {
     "name": "stdout",
     "output_type": "stream",
     "text": [
      "Adding missing feature publicationname__Planeta Chatbot : todo sobre los Chatbots y la Inteligencia Artificial\n"
     ]
    }
   ],
   "source": [
    "for col in cat_dummies:\n",
    "    if col not in x_test0.columns:\n",
    "        print(\"Adding missing feature {}\".format(col))\n",
    "        x_test0[col] = 0"
   ]
  },
  {
   "cell_type": "markdown",
   "metadata": {
    "colab_type": "text",
    "id": "nug8n8O_U0v5"
   },
   "source": [
    "Next, we standardize all features with StandardScaler().\n"
   ]
  },
  {
   "cell_type": "code",
   "execution_count": null,
   "metadata": {
    "colab": {},
    "colab_type": "code",
    "id": "JXAWYnFbU0v6"
   },
   "outputs": [],
   "source": [
    "from sklearn.preprocessing import StandardScaler\n",
    "scaler = StandardScaler().fit(x_train0)#mind that we use only X_train values not to leak the data to the test set\n",
    "x_train1= scaler.transform(x_train0)\n",
    "x_test1= scaler.transform(x_test0) "
   ]
  },
  {
   "cell_type": "code",
   "execution_count": null,
   "metadata": {
    "colab": {},
    "colab_type": "code",
    "id": "vUNLZmkmWk5m"
   },
   "outputs": [],
   "source": [
    "dim=x_train0.shape[1]"
   ]
  },
  {
   "cell_type": "code",
   "execution_count": null,
   "metadata": {
    "colab": {
     "base_uri": "https://localhost:8080/",
     "height": 276
    },
    "colab_type": "code",
    "id": "vFl_HBLVXy1J",
    "outputId": "5079cc09-c398-49b1-de11-9cf7ae157be7"
   },
   "outputs": [
    {
     "name": "stdout",
     "output_type": "stream",
     "text": [
      "Model: \"sequential_3\"\n",
      "_________________________________________________________________\n",
      "Layer (type)                 Output Shape              Param #   \n",
      "=================================================================\n",
      "dense_6 (Dense)              (None, 8)                 512       \n",
      "_________________________________________________________________\n",
      "dense_7 (Dense)              (None, 4)                 36        \n",
      "_________________________________________________________________\n",
      "dense_8 (Dense)              (None, 1)                 5         \n",
      "=================================================================\n",
      "Total params: 553\n",
      "Trainable params: 553\n",
      "Non-trainable params: 0\n",
      "_________________________________________________________________\n"
     ]
    }
   ],
   "source": [
    "model_ofeatures = Sequential() #otherfeatures \n",
    "model_ofeatures.add(Dense(8, input_dim=dim, activation=\"relu\")) #our non-linear activation function is relu\n",
    "model_ofeatures.add(Dense(4, activation=\"relu\"))\n",
    "model_ofeatures.add(Dense(1, kernel_initializer='normal', activation='linear'))\n",
    "model_ofeatures.compile(loss='mean_absolute_error', optimizer='adam') #adam optimization is used to update weights and biases\n",
    "model_ofeatures.summary()"
   ]
  },
  {
   "cell_type": "code",
   "execution_count": null,
   "metadata": {
    "colab": {
     "base_uri": "https://localhost:8080/",
     "height": 109
    },
    "colab_type": "code",
    "id": "EKE6Zxy5Wk5v",
    "outputId": "a37ab8b8-d9f1-4d43-ef5a-d476b70d982d"
   },
   "outputs": [
    {
     "name": "stdout",
     "output_type": "stream",
     "text": [
      "Epoch 1/30\n",
      "101/101 [==============================] - 1s 6ms/step - loss: 1.8850 - val_loss: 1.7357\n",
      "Epoch 2/30\n",
      "101/101 [==============================] - 0s 4ms/step - loss: 1.7223 - val_loss: 1.7396\n",
      "Epoch 00002: early stopping\n"
     ]
    }
   ],
   "source": [
    "model_0_story = model_ofeatures.fit(x_train0, y_train, batch_size=BATCH_SIZE, epochs=EPOCH, validation_data=(x_test0, y_test), callbacks=[early])"
   ]
  },
  {
   "cell_type": "markdown",
   "metadata": {
    "colab_type": "text",
    "id": "UBJlwYTmGzvc"
   },
   "source": [
    "**Appendix 3: Hyperparamter Tuning - Basic Model**\n",
    "\n"
   ]
  },
  {
   "cell_type": "code",
   "execution_count": null,
   "metadata": {
    "colab": {},
    "colab_type": "code",
    "id": "WJ8SuH96Gzvf"
   },
   "outputs": [],
   "source": [
    "def create_model():\n",
    "\t# create model\n",
    " model = Sequential()\n",
    " model.add(Dense(32, input_dim=dim, activation=\"relu\"))\n",
    " model.add(Dense(8, activation=\"relu\"))\n",
    " model.add(Dense(1, kernel_initializer='normal', activation='linear'))\n",
    "\t# Compile model\n",
    " model.compile(loss='mean_absolute_error', optimizer='Adamax')\n",
    " return model\n",
    "# fix random seed for reproducibility\n",
    "seed = 7\n",
    "np.random.seed(seed)\n"
   ]
  },
  {
   "cell_type": "code",
   "execution_count": null,
   "metadata": {
    "colab": {
     "base_uri": "https://localhost:8080/",
     "height": 35
    },
    "colab_type": "code",
    "id": "Zzn-RYj2Gzvm",
    "outputId": "2bb8e98a-08bb-47c0-9588-afab77871472"
   },
   "outputs": [
    {
     "data": {
      "text/plain": [
       "{'batch_size': [32, 64, 128, 256, 512], 'epochs': [10, 30, 60]}"
      ]
     },
     "execution_count": 69,
     "metadata": {
      "tags": []
     },
     "output_type": "execute_result"
    }
   ],
   "source": [
    "from keras.wrappers.scikit_learn import KerasClassifier\n",
    "from sklearn.model_selection import GridSearchCV\n",
    "model = KerasClassifier(build_fn=create_model, epochs=30, batch_size=64, verbose=0)\n",
    "# Let's define the grid search parameters\n",
    "batchsize = [32, 64, 128, 256, 512]\n",
    "epochs = [10,20,30]\n",
    "\n",
    "#Set the grid\n",
    "param_grid = dict(batch_size=batchsize, epochs=epochs)# setting a dictionary to store the results\n",
    "param_grid "
   ]
  },
  {
   "cell_type": "code",
   "execution_count": null,
   "metadata": {
    "colab": {
     "base_uri": "https://localhost:8080/",
     "height": 35
    },
    "colab_type": "code",
    "id": "QoryQJxgGzvz",
    "outputId": "7af87888-a9c7-44b0-f137-c905163362c0"
   },
   "outputs": [
    {
     "name": "stdout",
     "output_type": "stream",
     "text": [
      "Best: -1.935597 using {'batch_size': 32, 'epochs': 60}\n"
     ]
    }
   ],
   "source": [
    "grid = GridSearchCV(estimator=model, param_grid=param_grid, n_jobs=-1,cv=3, scoring='neg_mean_absolute_error')#parallelization, here using all processors\n",
    "results = grid.fit(x_train1, y_train) #remember that we don't want to use the test set in CV\n",
    "print(\"Best: %f using %s\" % (results.best_score_, results.best_params_))"
   ]
  },
  {
   "cell_type": "code",
   "execution_count": null,
   "metadata": {
    "colab": {},
    "colab_type": "code",
    "id": "uzMAzEJQGzv4"
   },
   "outputs": [],
   "source": [
    "def create_model(optimizer='adam'):\n",
    "# create model\n",
    " model = Sequential()\n",
    " model.add(Dense(32, input_dim=dim, activation=\"relu\"))\n",
    " model.add(Dense(8, activation=\"relu\"))\n",
    " model.add(Dense(1, kernel_initializer='normal', activation='linear'))\n",
    "\t# Compile model\n",
    " model.compile(loss='mean_absolute_error', optimizer=optimizer)\n",
    " return model"
   ]
  },
  {
   "cell_type": "code",
   "execution_count": null,
   "metadata": {
    "colab": {},
    "colab_type": "code",
    "id": "pCvyEzngGzv8"
   },
   "outputs": [],
   "source": [
    "# create model\n",
    "model = KerasClassifier(build_fn=create_model, epochs=60, batch_size=32, verbose=0)\n",
    "# define the grid search parameters\n",
    "optimizer = ['SGD', 'RMSprop', 'Adagrad', 'Adadelta', 'Adam', 'Adamax', 'Nadam']\n",
    "param_grid = dict(optimizer=optimizer)\n",
    "grid = GridSearchCV(estimator=model, param_grid=param_grid, scoring='neg_mean_absolute_error', n_jobs=-1, cv=3)\n",
    "grid_result = grid.fit(x_train1, y_train)\n",
    "print(\"Best: %f using %s\" % (grid_result.best_score_, grid_result.best_params_))"
   ]
  },
  {
   "cell_type": "code",
   "execution_count": null,
   "metadata": {
    "colab": {
     "base_uri": "https://localhost:8080/",
     "height": 74
    },
    "colab_type": "code",
    "id": "9wmi_7LpGzwB",
    "outputId": "5b20c570-6e1c-4d12-d481-113ebcd37794"
   },
   "outputs": [
    {
     "name": "stderr",
     "output_type": "stream",
     "text": [
      "/usr/local/lib/python3.6/dist-packages/joblib/externals/loky/process_executor.py:691: UserWarning: A worker stopped while some jobs were given to the executor. This can be caused by a too short worker timeout or by a memory leak.\n",
      "  \"timeout or by a memory leak.\", UserWarning\n"
     ]
    }
   ],
   "source": [
    "from keras.optimizers import SGD\n",
    "# Function to create model, required for KerasClassifier\n",
    "def create_model(learn_rate=0.01, momentum=0):\n",
    "\t# create model\n",
    " model = Sequential()\n",
    " model.add(Dense(32, input_dim=dim, activation=\"relu\"))\n",
    " model.add(Dense(8, activation=\"relu\"))\n",
    " model.add(Dense(1, kernel_initializer='normal', activation='linear'))\n",
    "\t# Compile model\n",
    " optimizer = SGD(lr=learn_rate, momentum=momentum)\n",
    " model.compile(loss='mean_absolute_error', optimizer='Adamax')\n",
    " return model\n",
    "# fix random seed for reproducibility\n",
    "seed = 7\n",
    "np.random.seed(seed)\n",
    "# create model\n",
    "model = KerasClassifier(build_fn=create_model, epochs=60, batch_size=32, verbose=0)\n",
    "# define the grid search parameters\n",
    "learn_rate = [0.001, 0.01, 0.1, 0.2, 0.3]\n",
    "momentum = [0.0, 0.2, 0.4, 0.6, 0.8, 0.9]\n",
    "param_grid = dict(learn_rate=learn_rate, momentum=momentum)\n",
    "grid = GridSearchCV(estimator=model, param_grid=param_grid, scoring='neg_mean_absolute_error', n_jobs=-1, cv=3)\n",
    "grid_result = grid.fit(x_train1, y_train)\n",
    "print(\"Best: %f using %s\" % (grid_result.best_score_, grid_result.best_params_))"
   ]
  },
  {
   "cell_type": "markdown",
   "metadata": {
    "colab_type": "text",
    "id": "WFn_XNHIokoD"
   },
   "source": [
    "**Appendix 4: Model comparison - Neural Network with embedding layer as input**"
   ]
  },
  {
   "cell_type": "markdown",
   "metadata": {
    "colab_type": "text",
    "id": "bTP6QHYwshoQ"
   },
   "source": [
    "We create different Neural Network models and compare their results.\n",
    "For this section code by Lessmann (2020b) was adapted and modified."
   ]
  },
  {
   "cell_type": "markdown",
   "metadata": {
    "colab_type": "text",
    "id": "RmGyx4IHrABm"
   },
   "source": [
    "*Model 1: Basic Gated recurrent units (GRU) model*\n"
   ]
  },
  {
   "cell_type": "code",
   "execution_count": null,
   "metadata": {
    "colab": {},
    "colab_type": "code",
    "id": "RvIJX0K6jGJ8"
   },
   "outputs": [],
   "source": [
    "# Defining the embedding layer for our first model\n",
    "embedding_layer=Embedding(input_dim=NUM_WORDS, \n",
    "                          output_dim=EMBEDDING_DIM, \n",
    "                          input_length=MAX_ARTICLE_LENGTH\n",
    "                         )\n",
    "\n",
    "model1 = Sequential()\n",
    "model1.add(embedding_layer)\n",
    "model1.add(GRU(units=64 , return_sequences = True , recurrent_dropout = 0.25 , dropout = 0.25))\n",
    "model1.add(Dense(units = 16 , activation = 'relu'))\n",
    "model1.add(Dense(1, kernel_initializer='normal', activation='linear'))\n",
    "model1.compile(loss='mean_absolute_error', optimizer='adam')\n",
    "model1.summary()\n"
   ]
  },
  {
   "cell_type": "code",
   "execution_count": null,
   "metadata": {
    "colab": {},
    "colab_type": "code",
    "id": "Off-8OnijGKN"
   },
   "outputs": [],
   "source": [
    "model1_story = model1.fit(X_tr_int_pad, y_train, batch_size=BATCH_SIZE, epochs=EPOCH, validation_split=VAL_SPLIT)"
   ]
  },
  {
   "cell_type": "markdown",
   "metadata": {
    "colab_type": "text",
    "id": "Va5WnnfB1Qes"
   },
   "source": [
    "val_loss is the value of cost function for our cross-validation data and loss is the value of cost function for your training data. \n",
    "The difference goes back to the drop out of random neurons in the validation data."
   ]
  },
  {
   "cell_type": "code",
   "execution_count": null,
   "metadata": {
    "colab": {},
    "colab_type": "code",
    "id": "2VKS6U9NjGKe"
   },
   "outputs": [],
   "source": [
    "SCORE_BAG = {}  # Dictionary to store the results of different Keras models\n",
    "def eval (model, story, x_ts, y_ts, cut_off=0.5):\n",
    "  score = model.evaluate(x_ts, y_ts, verbose=0)\n",
    "  return score"
   ]
  },
  {
   "cell_type": "code",
   "execution_count": null,
   "metadata": {
    "colab": {},
    "colab_type": "code",
    "id": "qwIGpysrjGKq"
   },
   "outputs": [],
   "source": [
    "SCORE_BAG.update({'M1' : eval(model1, model1_story, X_ts_int_pad, y_test)})"
   ]
  },
  {
   "cell_type": "markdown",
   "metadata": {
    "colab_type": "text",
    "id": "oMEJ4p_rseDu"
   },
   "source": [
    "*Model 2: GRU with pre-trained embeddings*\n",
    "\n"
   ]
  },
  {
   "cell_type": "code",
   "execution_count": null,
   "metadata": {
    "colab": {},
    "colab_type": "code",
    "id": "GoivXE51oKc-"
   },
   "outputs": [],
   "source": [
    "# Embedding layer with the pre-trained GloVe weights\n",
    "embedding_layer = Embedding(NUM_WORDS, \n",
    "                         EMBEDDING_DIM,  \n",
    "                         embeddings_initializer=Constant(glove_weights), #pre-trained weights\n",
    "                         input_length=MAX_ARTICLE_LENGTH, \n",
    "                         trainable=False\n",
    "                         )\n",
    "\n",
    "model2 = Sequential()\n",
    "model2.add(embedding_layer)\n",
    "model2.add(GRU(units=64 , return_sequences = True , recurrent_dropout = 0.25 , dropout = 0.25)) #We use drop out in order to add some noise to avoid over-fitting\n",
    "model2.add(Dense(units = 16 , activation = 'relu'))\n",
    "model2.add(Dropout(0.2))\n",
    "model2.add(Dense(1, kernel_initializer='normal', activation='linear'))\n",
    "model2.compile(loss='mean_absolute_error', optimizer='adam')\n",
    "model2.summary()"
   ]
  },
  {
   "cell_type": "code",
   "execution_count": null,
   "metadata": {
    "colab": {},
    "colab_type": "code",
    "id": "CBx7GxtPoXE8"
   },
   "outputs": [],
   "source": [
    "# Train the model \n",
    "model2_story = model2.fit(X_tr_int_pad, y_train, batch_size=BATCH_SIZE, epochs=EPOCH, validation_split=VAL_SPLIT)\n",
    "\n",
    "\n",
    "to_disk = (model2, model2_story)\n",
    "with open(path + 'model2.pkl','wb') as file_name:\n",
    "    pickle.dump(to_disk, file_name)"
   ]
  },
  {
   "cell_type": "code",
   "execution_count": null,
   "metadata": {
    "colab": {},
    "colab_type": "code",
    "id": "XdVXsISau1-4"
   },
   "outputs": [],
   "source": [
    "SCORE_BAG.update({'M2' : eval(model2, model2_story, X_ts_int_pad, y_test)})"
   ]
  },
  {
   "cell_type": "markdown",
   "metadata": {
    "colab_type": "text",
    "id": "R10AQ3P5vLuK"
   },
   "source": [
    "*Model 3: Bidirectional GRU with pretrained embeddings*\n"
   ]
  },
  {
   "cell_type": "code",
   "execution_count": null,
   "metadata": {
    "colab": {},
    "colab_type": "code",
    "id": "6BKerWEIhHV2"
   },
   "outputs": [],
   "source": [
    "# Embedding layer with the pre-trained GloVe weights\n",
    "embedding_layer = Embedding(NUM_WORDS, \n",
    "                         EMBEDDING_DIM,  \n",
    "                         embeddings_initializer=Constant(glove_weights), \n",
    "                         input_length=MAX_ARTICLE_LENGTH, \n",
    "                         trainable=False \n",
    "                         )\n",
    "\n",
    "model3 = Sequential()\n",
    "model3.add(embedding_layer)\n",
    "model3.add(Bidirectional(GRU(units=64 , return_sequences = True , recurrent_dropout = 0.25 , dropout = 0.25), merge_mode=\"concat\"))\n",
    "model3.add(Dense(units = 16 , activation = 'relu'))\n",
    "model3.add(Dense(1, kernel_initializer='normal', activation='linear'))\n",
    "model3.compile(loss='mean_absolute_error', optimizer='adam')\n",
    "model3.summary()"
   ]
  },
  {
   "cell_type": "code",
   "execution_count": null,
   "metadata": {
    "colab": {},
    "colab_type": "code",
    "id": "KsuKVAKj0v5R"
   },
   "outputs": [],
   "source": [
    "# Train the model \n",
    "model3_story = model3.fit(X_tr_int_pad, y_train, batch_size=BATCH_SIZE, epochs=EPOCH, validation_split=VAL_SPLIT)\n"
   ]
  },
  {
   "cell_type": "code",
   "execution_count": null,
   "metadata": {
    "colab": {},
    "colab_type": "code",
    "id": "OOnHAgkkyUMa"
   },
   "outputs": [],
   "source": [
    "SCORE_BAG.update({'M3' : eval(model3, model3_story, X_ts_int_pad, y_test)})"
   ]
  },
  {
   "cell_type": "markdown",
   "metadata": {
    "colab_type": "text",
    "id": "NlGdxUqRXTqG"
   },
   "source": [
    "**Appendix 5: Compute embedding coverage rate of the pretrained GloVe embedding**"
   ]
  },
  {
   "cell_type": "code",
   "execution_count": null,
   "metadata": {
    "colab": {},
    "colab_type": "code",
    "id": "3PQoh-tcGcqh"
   },
   "outputs": [],
   "source": [
    "glove = '/content/drive/My Drive/ADAMS_NLPtask_SS20/ADAMS_NLPtask_SS20/glove.twitter.27B.200d.txt'"
   ]
  },
  {
   "cell_type": "code",
   "execution_count": null,
   "metadata": {
    "colab": {},
    "colab_type": "code",
    "id": "0kFF1496Gp-T"
   },
   "outputs": [],
   "source": [
    "print(\"Extracting GloVe embedding\")\n",
    "embed_glove = load_embed(glove)"
   ]
  },
  {
   "cell_type": "code",
   "execution_count": null,
   "metadata": {
    "colab": {},
    "colab_type": "code",
    "id": "k7pkitz1GwNF"
   },
   "outputs": [],
   "source": [
    "def build_vocab(texts):\n",
    "    sentences = texts.apply(lambda x: x.split()).values\n",
    "    vocab = {}\n",
    "    for sentence in sentences:\n",
    "        for word in sentence:\n",
    "            try:\n",
    "                vocab[word] += 1\n",
    "            except KeyError:\n",
    "                vocab[word] = 1\n",
    "    return vocab"
   ]
  },
  {
   "cell_type": "code",
   "execution_count": null,
   "metadata": {
    "colab": {},
    "colab_type": "code",
    "id": "8oneb5_2G1QY"
   },
   "outputs": [],
   "source": [
    "def check_coverage(vocab, embeddings_index):\n",
    "    known_words = {}\n",
    "    unknown_words = {}\n",
    "    nb_known_words = 0\n",
    "    nb_unknown_words = 0\n",
    "    for word in vocab.keys():\n",
    "        try:\n",
    "            known_words[word] = embeddings_index[word]\n",
    "            nb_known_words += vocab[word]\n",
    "        except:\n",
    "            unknown_words[word] = vocab[word]\n",
    "            nb_unknown_words += vocab[word]\n",
    "            pass\n",
    "\n",
    "    print('Found embeddings for {:.3%} of vocab'.format(len(known_words) / len(vocab)))\n",
    "    print('Found embeddings for  {:.3%} of all text'.format(nb_known_words / (nb_known_words + nb_unknown_words)))\n",
    "    unknown_words = sorted(unknown_words.items(), key=operator.itemgetter(1))[::-1]\n",
    "\n",
    "    return unknown_words"
   ]
  },
  {
   "cell_type": "code",
   "execution_count": null,
   "metadata": {
    "colab": {},
    "colab_type": "code",
    "id": "wCD7TkxmG63Z"
   },
   "outputs": [],
   "source": [
    "vocab = build_vocab(df['text'])"
   ]
  },
  {
   "cell_type": "code",
   "execution_count": null,
   "metadata": {
    "colab": {},
    "colab_type": "code",
    "id": "LNId6cJpHCpr"
   },
   "outputs": [],
   "source": [
    "print(\"Glove : \")\n",
    "oov_glove = check_coverage(vocab, embed_glove)"
   ]
  },
  {
   "cell_type": "markdown",
   "metadata": {
    "colab_type": "text",
    "id": "f8vy3v1Wq4ai"
   },
   "source": [
    "**Apppendix 6: Testing accurancy of the method language detect**"
   ]
  },
  {
   "cell_type": "code",
   "execution_count": null,
   "metadata": {
    "colab": {},
    "colab_type": "code",
    "id": "lIw16EXsHdvx"
   },
   "outputs": [],
   "source": [
    "df['language_detect'] = df['title'].apply(detect)"
   ]
  },
  {
   "cell_type": "code",
   "execution_count": null,
   "metadata": {
    "colab": {},
    "colab_type": "code",
    "id": "Ln9EOTITKEiL"
   },
   "outputs": [],
   "source": [
    "comparison_column = np.where(df[\"language\"] == df[\"language_detect\"], True, False)\n",
    "sum(comparison_column)/len(df) #percentage of correctly detected languages --- we could use text to get a better detection rate\n",
    "#Be aware that we do not know how the feature language was generated in the training set. Maybe it was generated with the detect method; in this case\n",
    "#our test does not say much about the accurancy of the method"
   ]
  }
 ],
 "metadata": {
  "accelerator": "GPU",
  "colab": {
   "collapsed_sections": [
    "25EHku7ehfUJ"
   ],
   "name": "Versuch 8.ipynb",
   "provenance": []
  },
  "kernelspec": {
   "display_name": "Python 3",
   "language": "python",
   "name": "python3"
  },
  "language_info": {
   "codemirror_mode": {
    "name": "ipython",
    "version": 3
   },
   "file_extension": ".py",
   "mimetype": "text/x-python",
   "name": "python",
   "nbconvert_exporter": "python",
   "pygments_lexer": "ipython3",
   "version": "3.7.3"
  }
 },
 "nbformat": 4,
 "nbformat_minor": 1
}
